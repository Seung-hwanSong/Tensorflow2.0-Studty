{
 "cells": [
  {
   "cell_type": "code",
   "execution_count": 1,
   "metadata": {},
   "outputs": [],
   "source": [
    "import pandas as pd\n",
    "import tensorflow as tf"
   ]
  },
  {
   "cell_type": "code",
   "execution_count": 40,
   "metadata": {},
   "outputs": [],
   "source": [
    "data=pd.read_csv('./data/스터디_회귀(1008)_예제 데이터.csv')"
   ]
  },
  {
   "cell_type": "code",
   "execution_count": 41,
   "metadata": {},
   "outputs": [
    {
     "data": {
      "text/html": [
       "<div>\n",
       "<style scoped>\n",
       "    .dataframe tbody tr th:only-of-type {\n",
       "        vertical-align: middle;\n",
       "    }\n",
       "\n",
       "    .dataframe tbody tr th {\n",
       "        vertical-align: top;\n",
       "    }\n",
       "\n",
       "    .dataframe thead th {\n",
       "        text-align: right;\n",
       "    }\n",
       "</style>\n",
       "<table border=\"1\" class=\"dataframe\">\n",
       "  <thead>\n",
       "    <tr style=\"text-align: right;\">\n",
       "      <th></th>\n",
       "      <th>Barrel</th>\n",
       "      <th>Temp</th>\n",
       "      <th>RT_-1.8F</th>\n",
       "      <th>RT_-0.9F</th>\n",
       "      <th>RT_0.0F</th>\n",
       "      <th>RT_0.9F</th>\n",
       "      <th>RT_1.8F</th>\n",
       "      <th>HT_0.0F</th>\n",
       "    </tr>\n",
       "  </thead>\n",
       "  <tbody>\n",
       "    <tr>\n",
       "      <th>0</th>\n",
       "      <td>1</td>\n",
       "      <td>105</td>\n",
       "      <td>0.338</td>\n",
       "      <td>0.277</td>\n",
       "      <td>0.521</td>\n",
       "      <td>0.325</td>\n",
       "      <td>0.289</td>\n",
       "      <td>0.611</td>\n",
       "    </tr>\n",
       "    <tr>\n",
       "      <th>1</th>\n",
       "      <td>1</td>\n",
       "      <td>105</td>\n",
       "      <td>0.410</td>\n",
       "      <td>0.349</td>\n",
       "      <td>0.590</td>\n",
       "      <td>0.396</td>\n",
       "      <td>0.358</td>\n",
       "      <td>0.672</td>\n",
       "    </tr>\n",
       "    <tr>\n",
       "      <th>2</th>\n",
       "      <td>1</td>\n",
       "      <td>105</td>\n",
       "      <td>0.513</td>\n",
       "      <td>0.460</td>\n",
       "      <td>0.687</td>\n",
       "      <td>0.506</td>\n",
       "      <td>0.462</td>\n",
       "      <td>0.755</td>\n",
       "    </tr>\n",
       "    <tr>\n",
       "      <th>3</th>\n",
       "      <td>1</td>\n",
       "      <td>105</td>\n",
       "      <td>0.617</td>\n",
       "      <td>0.578</td>\n",
       "      <td>0.772</td>\n",
       "      <td>0.620</td>\n",
       "      <td>0.572</td>\n",
       "      <td>0.812</td>\n",
       "    </tr>\n",
       "    <tr>\n",
       "      <th>4</th>\n",
       "      <td>1</td>\n",
       "      <td>105</td>\n",
       "      <td>0.715</td>\n",
       "      <td>0.704</td>\n",
       "      <td>0.836</td>\n",
       "      <td>0.738</td>\n",
       "      <td>0.686</td>\n",
       "      <td>0.840</td>\n",
       "    </tr>\n",
       "  </tbody>\n",
       "</table>\n",
       "</div>"
      ],
      "text/plain": [
       "   Barrel  Temp  RT_-1.8F  RT_-0.9F  RT_0.0F  RT_0.9F  RT_1.8F  HT_0.0F\n",
       "0       1   105     0.338     0.277    0.521    0.325    0.289    0.611\n",
       "1       1   105     0.410     0.349    0.590    0.396    0.358    0.672\n",
       "2       1   105     0.513     0.460    0.687    0.506    0.462    0.755\n",
       "3       1   105     0.617     0.578    0.772    0.620    0.572    0.812\n",
       "4       1   105     0.715     0.704    0.836    0.738    0.686    0.840"
      ]
     },
     "execution_count": 41,
     "metadata": {},
     "output_type": "execute_result"
    }
   ],
   "source": [
    "data.head()"
   ]
  },
  {
   "cell_type": "code",
   "execution_count": 58,
   "metadata": {},
   "outputs": [],
   "source": [
    "X = data.drop(['HT_0.0F'], axis=1)\n",
    "y = data['HT_0.0F']"
   ]
  },
  {
   "cell_type": "code",
   "execution_count": 59,
   "metadata": {},
   "outputs": [
    {
     "data": {
      "text/plain": [
       "0    0.611\n",
       "1    0.672\n",
       "2    0.755\n",
       "3    0.812\n",
       "4    0.840\n",
       "Name: HT_0.0F, dtype: float64"
      ]
     },
     "execution_count": 59,
     "metadata": {},
     "output_type": "execute_result"
    }
   ],
   "source": [
    "y.head()"
   ]
  },
  {
   "cell_type": "code",
   "execution_count": 60,
   "metadata": {},
   "outputs": [],
   "source": [
    "from sklearn.model_selection import train_test_split\n",
    "X_train, X_test, y_train, y_test = train_test_split(X, y, test_size=0.2, random_state=42)"
   ]
  },
  {
   "cell_type": "code",
   "execution_count": 61,
   "metadata": {},
   "outputs": [
    {
     "data": {
      "text/html": [
       "<div>\n",
       "<style scoped>\n",
       "    .dataframe tbody tr th:only-of-type {\n",
       "        vertical-align: middle;\n",
       "    }\n",
       "\n",
       "    .dataframe tbody tr th {\n",
       "        vertical-align: top;\n",
       "    }\n",
       "\n",
       "    .dataframe thead th {\n",
       "        text-align: right;\n",
       "    }\n",
       "</style>\n",
       "<table border=\"1\" class=\"dataframe\">\n",
       "  <thead>\n",
       "    <tr style=\"text-align: right;\">\n",
       "      <th></th>\n",
       "      <th>Barrel</th>\n",
       "      <th>Temp</th>\n",
       "      <th>RT_-1.8F</th>\n",
       "      <th>RT_-0.9F</th>\n",
       "      <th>RT_0.0F</th>\n",
       "      <th>RT_0.9F</th>\n",
       "      <th>RT_1.8F</th>\n",
       "    </tr>\n",
       "  </thead>\n",
       "  <tbody>\n",
       "    <tr>\n",
       "      <th>3159</th>\n",
       "      <td>3</td>\n",
       "      <td>105</td>\n",
       "      <td>0.310</td>\n",
       "      <td>0.694</td>\n",
       "      <td>0.685</td>\n",
       "      <td>0.530</td>\n",
       "      <td>0.260</td>\n",
       "    </tr>\n",
       "    <tr>\n",
       "      <th>1554</th>\n",
       "      <td>2</td>\n",
       "      <td>105</td>\n",
       "      <td>0.764</td>\n",
       "      <td>0.808</td>\n",
       "      <td>0.787</td>\n",
       "      <td>0.768</td>\n",
       "      <td>0.728</td>\n",
       "    </tr>\n",
       "    <tr>\n",
       "      <th>4851</th>\n",
       "      <td>1</td>\n",
       "      <td>105</td>\n",
       "      <td>0.367</td>\n",
       "      <td>0.498</td>\n",
       "      <td>0.597</td>\n",
       "      <td>0.642</td>\n",
       "      <td>0.389</td>\n",
       "    </tr>\n",
       "    <tr>\n",
       "      <th>2318</th>\n",
       "      <td>1</td>\n",
       "      <td>105</td>\n",
       "      <td>0.759</td>\n",
       "      <td>0.828</td>\n",
       "      <td>0.694</td>\n",
       "      <td>0.796</td>\n",
       "      <td>0.690</td>\n",
       "    </tr>\n",
       "    <tr>\n",
       "      <th>347</th>\n",
       "      <td>1</td>\n",
       "      <td>105</td>\n",
       "      <td>0.726</td>\n",
       "      <td>0.807</td>\n",
       "      <td>0.785</td>\n",
       "      <td>0.757</td>\n",
       "      <td>0.680</td>\n",
       "    </tr>\n",
       "    <tr>\n",
       "      <th>...</th>\n",
       "      <td>...</td>\n",
       "      <td>...</td>\n",
       "      <td>...</td>\n",
       "      <td>...</td>\n",
       "      <td>...</td>\n",
       "      <td>...</td>\n",
       "      <td>...</td>\n",
       "    </tr>\n",
       "    <tr>\n",
       "      <th>5191</th>\n",
       "      <td>1</td>\n",
       "      <td>105</td>\n",
       "      <td>0.581</td>\n",
       "      <td>0.726</td>\n",
       "      <td>0.777</td>\n",
       "      <td>0.783</td>\n",
       "      <td>0.579</td>\n",
       "    </tr>\n",
       "    <tr>\n",
       "      <th>5226</th>\n",
       "      <td>1</td>\n",
       "      <td>105</td>\n",
       "      <td>0.590</td>\n",
       "      <td>0.569</td>\n",
       "      <td>0.426</td>\n",
       "      <td>0.699</td>\n",
       "      <td>0.546</td>\n",
       "    </tr>\n",
       "    <tr>\n",
       "      <th>5390</th>\n",
       "      <td>1</td>\n",
       "      <td>105</td>\n",
       "      <td>0.789</td>\n",
       "      <td>0.848</td>\n",
       "      <td>0.673</td>\n",
       "      <td>0.764</td>\n",
       "      <td>0.609</td>\n",
       "    </tr>\n",
       "    <tr>\n",
       "      <th>860</th>\n",
       "      <td>1</td>\n",
       "      <td>105</td>\n",
       "      <td>0.450</td>\n",
       "      <td>0.506</td>\n",
       "      <td>0.669</td>\n",
       "      <td>0.449</td>\n",
       "      <td>0.457</td>\n",
       "    </tr>\n",
       "    <tr>\n",
       "      <th>7270</th>\n",
       "      <td>1</td>\n",
       "      <td>85</td>\n",
       "      <td>0.701</td>\n",
       "      <td>0.826</td>\n",
       "      <td>0.786</td>\n",
       "      <td>0.273</td>\n",
       "      <td>0.625</td>\n",
       "    </tr>\n",
       "  </tbody>\n",
       "</table>\n",
       "<p>6073 rows × 7 columns</p>\n",
       "</div>"
      ],
      "text/plain": [
       "      Barrel  Temp  RT_-1.8F  RT_-0.9F  RT_0.0F  RT_0.9F  RT_1.8F\n",
       "3159       3   105     0.310     0.694    0.685    0.530    0.260\n",
       "1554       2   105     0.764     0.808    0.787    0.768    0.728\n",
       "4851       1   105     0.367     0.498    0.597    0.642    0.389\n",
       "2318       1   105     0.759     0.828    0.694    0.796    0.690\n",
       "347        1   105     0.726     0.807    0.785    0.757    0.680\n",
       "...      ...   ...       ...       ...      ...      ...      ...\n",
       "5191       1   105     0.581     0.726    0.777    0.783    0.579\n",
       "5226       1   105     0.590     0.569    0.426    0.699    0.546\n",
       "5390       1   105     0.789     0.848    0.673    0.764    0.609\n",
       "860        1   105     0.450     0.506    0.669    0.449    0.457\n",
       "7270       1    85     0.701     0.826    0.786    0.273    0.625\n",
       "\n",
       "[6073 rows x 7 columns]"
      ]
     },
     "execution_count": 61,
     "metadata": {},
     "output_type": "execute_result"
    }
   ],
   "source": [
    "X_train"
   ]
  },
  {
   "cell_type": "code",
   "execution_count": 63,
   "metadata": {},
   "outputs": [],
   "source": [
    "from sklearn.preprocessing import StandardScaler\n",
    "scaler = StandardScaler()\n",
    "scaler.fit(X_train)\n",
    "X_train= scaler.transform(X_train)\n",
    "\n",
    "scaler = StandardScaler()\n",
    "scaler.fit(X_test)\n",
    "X_test= scaler.transform(X_test)\n",
    "# y_train=scaler.fit(y_train.re\n",
    "# y_test=scaler.fit(y_test.reshape(-1,1))"
   ]
  },
  {
   "cell_type": "code",
   "execution_count": 64,
   "metadata": {},
   "outputs": [
    {
     "data": {
      "text/plain": [
       "array([[ 1.40512571,  0.56915534, -1.65334052, ...,  0.01660739,\n",
       "        -0.57490954, -1.92472425],\n",
       "       [ 0.30077364,  0.56915534,  0.9968438 , ...,  0.79336503,\n",
       "         0.72138017,  0.77468472],\n",
       "       [-0.80357843,  0.56915534, -1.32060813, ..., -0.65353647,\n",
       "         0.03510915, -1.18065639],\n",
       "       ...,\n",
       "       [-0.80357843,  0.56915534,  1.14277906, ..., -0.07477587,\n",
       "         0.69959379,  0.08829654],\n",
       "       [-0.80357843,  0.56915534, -0.83610307, ..., -0.10523695,\n",
       "        -1.01608377, -0.78843458],\n",
       "       [-0.80357843, -1.51557347,  0.62908694, ...,  0.78574976,\n",
       "        -1.97468456,  0.18058403]])"
      ]
     },
     "execution_count": 64,
     "metadata": {},
     "output_type": "execute_result"
    }
   ],
   "source": [
    "X_train"
   ]
  },
  {
   "cell_type": "code",
   "execution_count": 65,
   "metadata": {},
   "outputs": [
    {
     "name": "stdout",
     "output_type": "stream",
     "text": [
      "Model: \"sequential_2\"\n",
      "_________________________________________________________________\n",
      "Layer (type)                 Output Shape              Param #   \n",
      "=================================================================\n",
      "dense_8 (Dense)              (None, 50)                400       \n",
      "_________________________________________________________________\n",
      "dense_9 (Dense)              (None, 45)                2295      \n",
      "_________________________________________________________________\n",
      "dense_10 (Dense)             (None, 15)                690       \n",
      "_________________________________________________________________\n",
      "dense_11 (Dense)             (None, 1)                 16        \n",
      "=================================================================\n",
      "Total params: 3,401\n",
      "Trainable params: 3,401\n",
      "Non-trainable params: 0\n",
      "_________________________________________________________________\n"
     ]
    }
   ],
   "source": [
    "model=tf.keras.Sequential([\n",
    "    tf.keras.layers.Dense(units=50,activation='relu',input_shape=(7,)),\n",
    "    tf.keras.layers.Dense(units=45,activation='relu'),\n",
    "    tf.keras.layers.Dense(units=15,activation='relu'),\n",
    "    tf.keras.layers.Dense(units=1)\n",
    "])\n",
    "\n",
    "model.compile(optimizer=tf.keras.optimizers.Adam(lr=0.01),loss='mse')\n",
    "model.summary()"
   ]
  },
  {
   "cell_type": "code",
   "execution_count": 66,
   "metadata": {},
   "outputs": [
    {
     "name": "stdout",
     "output_type": "stream",
     "text": [
      "Epoch 1/25\n",
      "143/143 [==============================] - 0s 942us/step - loss: 0.0234 - val_loss: 0.0081\n",
      "Epoch 2/25\n",
      "143/143 [==============================] - 0s 481us/step - loss: 0.0082 - val_loss: 0.0088\n",
      "Epoch 3/25\n",
      "143/143 [==============================] - 0s 492us/step - loss: 0.0071 - val_loss: 0.0068\n",
      "Epoch 4/25\n",
      "143/143 [==============================] - 0s 471us/step - loss: 0.0067 - val_loss: 0.0060\n",
      "Epoch 5/25\n",
      "143/143 [==============================] - 0s 481us/step - loss: 0.0061 - val_loss: 0.0060\n",
      "Epoch 6/25\n",
      "143/143 [==============================] - 0s 474us/step - loss: 0.0059 - val_loss: 0.0062\n",
      "Epoch 7/25\n",
      "143/143 [==============================] - 0s 481us/step - loss: 0.0059 - val_loss: 0.0058\n",
      "Epoch 8/25\n",
      "143/143 [==============================] - 0s 481us/step - loss: 0.0059 - val_loss: 0.0059\n",
      "Epoch 9/25\n",
      "143/143 [==============================] - 0s 565us/step - loss: 0.0057 - val_loss: 0.0060\n",
      "Epoch 10/25\n",
      "143/143 [==============================] - 0s 481us/step - loss: 0.0057 - val_loss: 0.0062\n",
      "Epoch 11/25\n",
      "143/143 [==============================] - 0s 474us/step - loss: 0.0057 - val_loss: 0.0069\n",
      "Epoch 12/25\n",
      "143/143 [==============================] - 0s 474us/step - loss: 0.0056 - val_loss: 0.0060\n",
      "Epoch 13/25\n",
      "143/143 [==============================] - 0s 474us/step - loss: 0.0057 - val_loss: 0.0061\n",
      "Epoch 14/25\n",
      "143/143 [==============================] - 0s 474us/step - loss: 0.0056 - val_loss: 0.0059\n",
      "Epoch 15/25\n",
      "143/143 [==============================] - 0s 481us/step - loss: 0.0056 - val_loss: 0.0060\n",
      "Epoch 16/25\n",
      "143/143 [==============================] - 0s 481us/step - loss: 0.0055 - val_loss: 0.0059\n",
      "Epoch 17/25\n",
      "143/143 [==============================] - 0s 481us/step - loss: 0.0054 - val_loss: 0.0053\n",
      "Epoch 18/25\n",
      "143/143 [==============================] - 0s 495us/step - loss: 0.0055 - val_loss: 0.0066\n",
      "Epoch 19/25\n",
      "143/143 [==============================] - 0s 481us/step - loss: 0.0054 - val_loss: 0.0058\n",
      "Epoch 20/25\n",
      "143/143 [==============================] - 0s 509us/step - loss: 0.0053 - val_loss: 0.0058\n",
      "Epoch 21/25\n",
      "143/143 [==============================] - 0s 516us/step - loss: 0.0054 - val_loss: 0.0061\n",
      "Epoch 22/25\n",
      "143/143 [==============================] - 0s 513us/step - loss: 0.0054 - val_loss: 0.0054\n",
      "Epoch 23/25\n",
      "143/143 [==============================] - 0s 516us/step - loss: 0.0053 - val_loss: 0.0056\n",
      "Epoch 24/25\n",
      "143/143 [==============================] - 0s 513us/step - loss: 0.0054 - val_loss: 0.0065\n",
      "Epoch 25/25\n",
      "143/143 [==============================] - 0s 527us/step - loss: 0.0053 - val_loss: 0.0055\n"
     ]
    }
   ],
   "source": [
    "history=model.fit(X_train,y_train,epochs=25,batch_size=32,validation_split=0.25)"
   ]
  },
  {
   "cell_type": "code",
   "execution_count": 67,
   "metadata": {},
   "outputs": [
    {
     "data": {
      "image/png": "[encoded data removed]",
      "text/plain": [
       "<Figure size 432x288 with 1 Axes>"
      ]
     },
     "metadata": {
      "needs_background": "light"
     },
     "output_type": "display_data"
    }
   ],
   "source": [
    "import matplotlib.pyplot as plt\n",
    "plt.plot(history.history['loss'],'b-',label='loss')\n",
    "plt.plot(history.history['val_loss'],'r--',label='val_loss')\n",
    "plt.xlabel('Epoch')\n",
    "plt.legend()\n",
    "plt.show()"
   ]
  },
  {
   "cell_type": "code",
   "execution_count": 68,
   "metadata": {},
   "outputs": [
    {
     "name": "stdout",
     "output_type": "stream",
     "text": [
      "48/48 [==============================] - 0s 312us/step - loss: 0.0053\n"
     ]
    },
    {
     "data": {
      "text/plain": [
       "0.005263311788439751"
      ]
     },
     "execution_count": 68,
     "metadata": {},
     "output_type": "execute_result"
    }
   ],
   "source": [
    "model.evaluate(X_test,y_test)"
   ]
  },
  {
   "cell_type": "code",
   "execution_count": 69,
   "metadata": {},
   "outputs": [
    {
     "data": {
      "image/png": "[encoded data removed]",
      "text/plain": [
       "<Figure size 360x360 with 1 Axes>"
      ]
     },
     "metadata": {
      "needs_background": "light"
     },
     "output_type": "display_data"
    }
   ],
   "source": [
    "pred_Y=model.predict(X_test)\n",
    "plt.figure(figsize=(5,5))\n",
    "plt.plot(y_test,pred_Y,'b.')\n",
    "\n",
    "\n",
    "\n",
    "plt.plot([min(y_test), max(y_test)], [min(y_test), max(y_test)], ls=\"--\", c=\".3\")\n",
    "plt.xlabel('test_Y')\n",
    "plt.ylabel('pred_Y')\n",
    "plt.show()"
   ]
  },
  {
   "cell_type": "code",
   "execution_count": null,
   "metadata": {},
   "outputs": [],
   "source": []
  }
 ],
 "metadata": {
  "kernelspec": {
   "display_name": "new",
   "language": "python",
   "name": "new"
  },
  "language_info": {
   "codemirror_mode": {
    "name": "ipython",
    "version": 3
   },
   "file_extension": ".py",
   "mimetype": "text/x-python",
   "name": "python",
   "nbconvert_exporter": "python",
   "pygments_lexer": "ipython3",
   "version": "3.8.5"
  }
 },
 "nbformat": 4,
 "nbformat_minor": 4
}
