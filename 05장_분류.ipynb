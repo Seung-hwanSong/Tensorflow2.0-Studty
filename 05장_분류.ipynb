{
 "cells": [
  {
   "cell_type": "markdown",
   "metadata": {},
   "source": [
    "### Jupyter Notebook 단축키\n",
    "- ctrl+enter: 셀 실행\n",
    "- shift+enter: 셀 실행 및 다음 셀 이동\n",
    "- alt+enter: 셀 실행, 다음 셀 이동, 새로운 셀 생성\n",
    "- a: 상단에 새로운 셀 만들기\n",
    "- b: 하단에 새로운 셀 만들기\n",
    "- dd: 셀 삭제(x: 셀 삭제)\n",
    "- esc: 셀 나가기\n",
    "- m: 마크다운 셀로 바꾸기\n",
    "- y: 마크다운 셀을 다시 Code로 바꾸기"
   ]
  },
  {
   "cell_type": "markdown",
   "metadata": {},
   "source": [
    "# 05장_분류"
   ]
  },
  {
   "cell_type": "markdown",
   "metadata": {},
   "source": [
    "## 5.1 이항 분류"
   ]
  },
  {
   "cell_type": "code",
   "execution_count": 1,
   "metadata": {},
   "outputs": [
    {
     "name": "stdout",
     "output_type": "stream",
     "text": [
      "   fixed acidity  volatile acidity  citric acid  residual sugar  chlorides  \\\n",
      "0            7.4              0.70         0.00             1.9      0.076   \n",
      "1            7.8              0.88         0.00             2.6      0.098   \n",
      "2            7.8              0.76         0.04             2.3      0.092   \n",
      "3           11.2              0.28         0.56             1.9      0.075   \n",
      "4            7.4              0.70         0.00             1.9      0.076   \n",
      "\n",
      "   free sulfur dioxide  total sulfur dioxide  density    pH  sulphates  \\\n",
      "0                 11.0                  34.0   0.9978  3.51       0.56   \n",
      "1                 25.0                  67.0   0.9968  3.20       0.68   \n",
      "2                 15.0                  54.0   0.9970  3.26       0.65   \n",
      "3                 17.0                  60.0   0.9980  3.16       0.58   \n",
      "4                 11.0                  34.0   0.9978  3.51       0.56   \n",
      "\n",
      "   alcohol  quality  \n",
      "0      9.4        5  \n",
      "1      9.8        5  \n",
      "2      9.8        5  \n",
      "3      9.8        6  \n",
      "4      9.4        5  \n",
      "   fixed acidity  volatile acidity  citric acid  residual sugar  chlorides  \\\n",
      "0            7.0              0.27         0.36            20.7      0.045   \n",
      "1            6.3              0.30         0.34             1.6      0.049   \n",
      "2            8.1              0.28         0.40             6.9      0.050   \n",
      "3            7.2              0.23         0.32             8.5      0.058   \n",
      "4            7.2              0.23         0.32             8.5      0.058   \n",
      "\n",
      "   free sulfur dioxide  total sulfur dioxide  density    pH  sulphates  \\\n",
      "0                 45.0                 170.0   1.0010  3.00       0.45   \n",
      "1                 14.0                 132.0   0.9940  3.30       0.49   \n",
      "2                 30.0                  97.0   0.9951  3.26       0.44   \n",
      "3                 47.0                 186.0   0.9956  3.19       0.40   \n",
      "4                 47.0                 186.0   0.9956  3.19       0.40   \n",
      "\n",
      "   alcohol  quality  \n",
      "0      8.8        6  \n",
      "1      9.5        6  \n",
      "2     10.1        6  \n",
      "3      9.9        6  \n",
      "4      9.9        6  \n"
     ]
    }
   ],
   "source": [
    "# 와인 데이터를 통해 이항 분류를 수행\n",
    "import pandas as pd\n",
    "red = pd.read_csv(\"http://archive.ics.uci.edu/ml/machine-learning-databases/wine-quality/winequality-red.csv\", sep=';')\n",
    "white = pd.read_csv(\"http://archive.ics.uci.edu/ml/machine-learning-databases/wine-quality/winequality-white.csv\", sep=';')\n",
    "print(red.head())\n",
    "print(white.head())"
   ]
  },
  {
   "cell_type": "code",
   "execution_count": 2,
   "metadata": {},
   "outputs": [
    {
     "name": "stdout",
     "output_type": "stream",
     "text": [
      "   fixed acidity  volatile acidity  citric acid  residual sugar  chlorides  \\\n",
      "0            7.4              0.70          0.0             1.9      0.076   \n",
      "1            7.8              0.88          0.0             2.6      0.098   \n",
      "\n",
      "   free sulfur dioxide  total sulfur dioxide  density    pH  sulphates  \\\n",
      "0                 11.0                  34.0   0.9978  3.51       0.56   \n",
      "1                 25.0                  67.0   0.9968  3.20       0.68   \n",
      "\n",
      "   alcohol  quality  type  \n",
      "0      9.4        5     0  \n",
      "1      9.8        5     0  \n",
      "   fixed acidity  volatile acidity  citric acid  residual sugar  chlorides  \\\n",
      "0            7.0              0.27         0.36            20.7      0.045   \n",
      "1            6.3              0.30         0.34             1.6      0.049   \n",
      "\n",
      "   free sulfur dioxide  total sulfur dioxide  density   pH  sulphates  \\\n",
      "0                 45.0                 170.0    1.001  3.0       0.45   \n",
      "1                 14.0                 132.0    0.994  3.3       0.49   \n",
      "\n",
      "   alcohol  quality  type  \n",
      "0      8.8        6     1  \n",
      "1      9.5        6     1  \n",
      "       fixed acidity  volatile acidity  citric acid  residual sugar  \\\n",
      "count    6497.000000       6497.000000  6497.000000     6497.000000   \n",
      "mean        7.215307          0.339666     0.318633        5.443235   \n",
      "std         1.296434          0.164636     0.145318        4.757804   \n",
      "min         3.800000          0.080000     0.000000        0.600000   \n",
      "25%         6.400000          0.230000     0.250000        1.800000   \n",
      "50%         7.000000          0.290000     0.310000        3.000000   \n",
      "75%         7.700000          0.400000     0.390000        8.100000   \n",
      "max        15.900000          1.580000     1.660000       65.800000   \n",
      "\n",
      "         chlorides  free sulfur dioxide  total sulfur dioxide      density  \\\n",
      "count  6497.000000          6497.000000           6497.000000  6497.000000   \n",
      "mean      0.056034            30.525319            115.744574     0.994697   \n",
      "std       0.035034            17.749400             56.521855     0.002999   \n",
      "min       0.009000             1.000000              6.000000     0.987110   \n",
      "25%       0.038000            17.000000             77.000000     0.992340   \n",
      "50%       0.047000            29.000000            118.000000     0.994890   \n",
      "75%       0.065000            41.000000            156.000000     0.996990   \n",
      "max       0.611000           289.000000            440.000000     1.038980   \n",
      "\n",
      "                pH    sulphates      alcohol      quality         type  \n",
      "count  6497.000000  6497.000000  6497.000000  6497.000000  6497.000000  \n",
      "mean      3.218501     0.531268    10.491801     5.818378     0.753886  \n",
      "std       0.160787     0.148806     1.192712     0.873255     0.430779  \n",
      "min       2.720000     0.220000     8.000000     3.000000     0.000000  \n",
      "25%       3.110000     0.430000     9.500000     5.000000     1.000000  \n",
      "50%       3.210000     0.510000    10.300000     6.000000     1.000000  \n",
      "75%       3.320000     0.600000    11.300000     6.000000     1.000000  \n",
      "max       4.010000     2.000000    14.900000     9.000000     1.000000  \n"
     ]
    }
   ],
   "source": [
    "# 두 개의 데이터프레임을 하나로 합침\n",
    "\n",
    "red['type'] = 0\n",
    "white['type'] = 1\n",
    "print(red.head(2))\n",
    "print(white.head(2))\n",
    "\n",
    "wine = pd.concat([red, white]) \n",
    "print(wine.describe()) # 데이터 통계 정보 확인"
   ]
  },
  {
   "cell_type": "code",
   "execution_count": 3,
   "metadata": {},
   "outputs": [
    {
     "data": {
      "image/png": "[encoded data removed]",
      "text/plain": [
       "<Figure size 432x288 with 1 Axes>"
      ]
     },
     "metadata": {
      "needs_background": "light"
     },
     "output_type": "display_data"
    },
    {
     "name": "stdout",
     "output_type": "stream",
     "text": [
      "1    4898\n",
      "0    1599\n",
      "Name: type, dtype: int64\n"
     ]
    }
   ],
   "source": [
    "# 간단한 그래프 \n",
    "# 1 값이 0 값 보다 많음\n",
    "\n",
    "import matplotlib.pyplot as plt\n",
    "plt.hist(wine['type'])\n",
    "plt.xticks([0,1])\n",
    "plt.show()\n",
    "\n",
    "print(wine['type'].value_counts())"
   ]
  },
  {
   "cell_type": "code",
   "execution_count": 4,
   "metadata": {},
   "outputs": [
    {
     "name": "stdout",
     "output_type": "stream",
     "text": [
      "<class 'pandas.core.frame.DataFrame'>\n",
      "Int64Index: 6497 entries, 0 to 4897\n",
      "Data columns (total 13 columns):\n",
      " #   Column                Non-Null Count  Dtype  \n",
      "---  ------                --------------  -----  \n",
      " 0   fixed acidity         6497 non-null   float64\n",
      " 1   volatile acidity      6497 non-null   float64\n",
      " 2   citric acid           6497 non-null   float64\n",
      " 3   residual sugar        6497 non-null   float64\n",
      " 4   chlorides             6497 non-null   float64\n",
      " 5   free sulfur dioxide   6497 non-null   float64\n",
      " 6   total sulfur dioxide  6497 non-null   float64\n",
      " 7   density               6497 non-null   float64\n",
      " 8   pH                    6497 non-null   float64\n",
      " 9   sulphates             6497 non-null   float64\n",
      " 10  alcohol               6497 non-null   float64\n",
      " 11  quality               6497 non-null   int64  \n",
      " 12  type                  6497 non-null   int64  \n",
      "dtypes: float64(11), int64(2)\n",
      "memory usage: 710.6 KB\n",
      "None\n"
     ]
    }
   ],
   "source": [
    "# 데이터 요약 정보 확인\n",
    "# 데이터 정규화 info() 함수 이용\n",
    "\n",
    "print(wine.info())"
   ]
  },
  {
   "cell_type": "code",
   "execution_count": 5,
   "metadata": {},
   "outputs": [
    {
     "name": "stdout",
     "output_type": "stream",
     "text": [
      "   fixed acidity  volatile acidity  citric acid  residual sugar  chlorides  \\\n",
      "0       0.297521          0.413333     0.000000        0.019939   0.111296   \n",
      "1       0.330579          0.533333     0.000000        0.030675   0.147841   \n",
      "2       0.330579          0.453333     0.024096        0.026074   0.137874   \n",
      "3       0.611570          0.133333     0.337349        0.019939   0.109635   \n",
      "4       0.297521          0.413333     0.000000        0.019939   0.111296   \n",
      "\n",
      "   free sulfur dioxide  total sulfur dioxide   density        pH  sulphates  \\\n",
      "0             0.034722              0.064516  0.206092  0.612403   0.191011   \n",
      "1             0.083333              0.140553  0.186813  0.372093   0.258427   \n",
      "2             0.048611              0.110599  0.190669  0.418605   0.241573   \n",
      "3             0.055556              0.124424  0.209948  0.341085   0.202247   \n",
      "4             0.034722              0.064516  0.206092  0.612403   0.191011   \n",
      "\n",
      "    alcohol   quality  type  \n",
      "0  0.202899  0.333333   0.0  \n",
      "1  0.260870  0.333333   0.0  \n",
      "2  0.260870  0.333333   0.0  \n",
      "3  0.260870  0.500000   0.0  \n",
      "4  0.202899  0.333333   0.0  \n",
      "       fixed acidity  volatile acidity  citric acid  residual sugar  \\\n",
      "count    6497.000000       6497.000000  6497.000000     6497.000000   \n",
      "mean        0.282257          0.173111     0.191948        0.074283   \n",
      "std         0.107143          0.109758     0.087541        0.072972   \n",
      "min         0.000000          0.000000     0.000000        0.000000   \n",
      "25%         0.214876          0.100000     0.150602        0.018405   \n",
      "50%         0.264463          0.140000     0.186747        0.036810   \n",
      "75%         0.322314          0.213333     0.234940        0.115031   \n",
      "max         1.000000          1.000000     1.000000        1.000000   \n",
      "\n",
      "         chlorides  free sulfur dioxide  total sulfur dioxide      density  \\\n",
      "count  6497.000000          6497.000000           6497.000000  6497.000000   \n",
      "mean      0.078129             0.102518              0.252868     0.146262   \n",
      "std       0.058195             0.061630              0.130235     0.057811   \n",
      "min       0.000000             0.000000              0.000000     0.000000   \n",
      "25%       0.048173             0.055556              0.163594     0.100829   \n",
      "50%       0.063123             0.097222              0.258065     0.149990   \n",
      "75%       0.093023             0.138889              0.345622     0.190476   \n",
      "max       1.000000             1.000000              1.000000     1.000000   \n",
      "\n",
      "                pH    sulphates      alcohol      quality         type  \n",
      "count  6497.000000  6497.000000  6497.000000  6497.000000  6497.000000  \n",
      "mean      0.386435     0.174870     0.361131     0.469730     0.753886  \n",
      "std       0.124641     0.083599     0.172857     0.145543     0.430779  \n",
      "min       0.000000     0.000000     0.000000     0.000000     0.000000  \n",
      "25%       0.302326     0.117978     0.217391     0.333333     1.000000  \n",
      "50%       0.379845     0.162921     0.333333     0.500000     1.000000  \n",
      "75%       0.465116     0.213483     0.478261     0.500000     1.000000  \n",
      "max       1.000000     1.000000     1.000000     1.000000     1.000000  \n"
     ]
    }
   ],
   "source": [
    "# 데이터 정규화\n",
    "\n",
    "wine_norm = (wine - wine.min()) / (wine.max() - wine.min())\n",
    "print(wine_norm.head())\n",
    "print(wine_norm.describe())"
   ]
  },
  {
   "cell_type": "code",
   "execution_count": 6,
   "metadata": {},
   "outputs": [
    {
     "name": "stdout",
     "output_type": "stream",
     "text": [
      "      fixed acidity  volatile acidity  citric acid  residual sugar  chlorides  \\\n",
      "4732       0.123967          0.153333     0.228916        0.151840   0.036545   \n",
      "2150       0.264463          0.106667     0.204819        0.036810   0.043189   \n",
      "3555       0.165289          0.040000     0.090361        0.084356   0.054817   \n",
      "1224       0.727273          0.206667     0.295181        0.029141   0.117940   \n",
      "3244       0.239669          0.086667     0.216867        0.121933   0.018272   \n",
      "\n",
      "      free sulfur dioxide  total sulfur dioxide   density        pH  \\\n",
      "4732             0.180556              0.308756  0.117602  0.480620   \n",
      "2150             0.121528              0.221198  0.065356  0.356589   \n",
      "3555             0.090278              0.269585  0.125506  0.263566   \n",
      "1224             0.024306              0.032258  0.233083  0.271318   \n",
      "3244             0.065972              0.184332  0.083864  0.364341   \n",
      "\n",
      "      sulphates   alcohol   quality  type  \n",
      "4732   0.134831  0.536232  0.500000   1.0  \n",
      "2150   0.117978  0.608696  0.500000   1.0  \n",
      "3555   0.213483  0.275362  0.500000   1.0  \n",
      "1224   0.337079  0.333333  0.500000   0.0  \n",
      "3244   0.000000  0.782609  0.666667   1.0  \n",
      "[[0.12396694 0.15333333 0.22891566 0.15184049 0.03654485 0.18055556\n",
      "  0.30875576 0.1176017  0.48062016 0.13483146 0.53623188 0.5\n",
      "  1.        ]\n",
      " [0.26446281 0.10666667 0.20481928 0.03680982 0.04318937 0.12152778\n",
      "  0.22119816 0.0653557  0.35658915 0.11797753 0.60869565 0.5\n",
      "  1.        ]\n",
      " [0.16528926 0.04       0.09036145 0.08435583 0.05481728 0.09027778\n",
      "  0.26958525 0.12550607 0.26356589 0.21348315 0.27536232 0.5\n",
      "  1.        ]\n",
      " [0.72727273 0.20666667 0.29518072 0.0291411  0.1179402  0.02430556\n",
      "  0.03225806 0.23308271 0.27131783 0.33707865 0.33333333 0.5\n",
      "  0.        ]\n",
      " [0.23966942 0.08666667 0.21686747 0.12193252 0.01827243 0.06597222\n",
      "  0.1843318  0.0838635  0.36434109 0.         0.7826087  0.66666667\n",
      "  1.        ]]\n"
     ]
    }
   ],
   "source": [
    "# 데이터를 섞은 후 넘파이 array로 변환\n",
    "# 1과 0이 비슷한 비율로 들어가도록 데이터를 섞음\n",
    "\n",
    "import numpy as np\n",
    "# sample은 전체 데이터 프레임에서 frac 인수로 지정된 비율만큼 행을 랜덤하게 뽑아서 새로운 데이터 프레임을 만듦\n",
    "wine_shuffle = wine_norm.sample(frac=1) #frac = 1 이므로 100% , 즉 모든 데이터를 뽑아서 섞는 것과 동일한 효과임 \n",
    "print(wine_shuffle.head())\n",
    "wine_np = wine_shuffle.to_numpy()\n",
    "print(wine_np[:5])"
   ]
  },
  {
   "cell_type": "code",
   "execution_count": 7,
   "metadata": {},
   "outputs": [
    {
     "name": "stdout",
     "output_type": "stream",
     "text": [
      "[0.12396694 0.15333333 0.22891566 0.15184049 0.03654485 0.18055556\n",
      " 0.30875576 0.1176017  0.48062016 0.13483146 0.53623188 0.5       ]\n",
      "1.0\n",
      "[0.2231405  0.16       0.27108434 0.10889571 0.02159468 0.10416667\n",
      " 0.20967742 0.08155003 0.37209302 0.26966292 0.68115942 0.66666667]\n",
      "1.0\n",
      "[0. 1.]\n",
      "[0. 1.]\n"
     ]
    }
   ],
   "source": [
    "# 훈련 데이터와 테스트 데이터로 분리\n",
    "import tensorflow as tf\n",
    "train_idx = int(len(wine_np) * 0.8)\n",
    "train_X, train_Y = wine_np[:train_idx, :-1], wine_np[:train_idx, -1]\n",
    "test_X, test_Y = wine_np[train_idx:, :-1], wine_np[train_idx:, -1]\n",
    "\n",
    "print(train_X[0])\n",
    "print(train_Y[0])\n",
    "print(test_X[0])\n",
    "print(test_Y[0])\n",
    "\n",
    "# utils의 to_categorical은 target 값을 one-hot-encoding 방식으로 바꿈\n",
    "train_Y = tf.keras.utils.to_categorical(train_Y, num_classes=2)\n",
    "test_Y = tf.keras.utils.to_categorical(test_Y, num_classes=2)\n",
    "print(train_Y[0])\n",
    "print(test_Y[0])"
   ]
  },
  {
   "cell_type": "code",
   "execution_count": 8,
   "metadata": {},
   "outputs": [
    {
     "name": "stdout",
     "output_type": "stream",
     "text": [
      "Model: \"sequential\"\n",
      "_________________________________________________________________\n",
      "Layer (type)                 Output Shape              Param #   \n",
      "=================================================================\n",
      "dense (Dense)                (None, 48)                624       \n",
      "_________________________________________________________________\n",
      "dense_1 (Dense)              (None, 24)                1176      \n",
      "_________________________________________________________________\n",
      "dense_2 (Dense)              (None, 12)                300       \n",
      "_________________________________________________________________\n",
      "dense_3 (Dense)              (None, 2)                 26        \n",
      "=================================================================\n",
      "Total params: 2,126\n",
      "Trainable params: 2,126\n",
      "Non-trainable params: 0\n",
      "_________________________________________________________________\n"
     ]
    }
   ],
   "source": [
    "# 와인 데이터세트 분류 모델 생성\n",
    "import tensorflow as tf\n",
    "model = tf.keras.Sequential([\n",
    "    tf.keras.layers.Dense(units=48, activation='relu', input_shape=(12,)),\n",
    "    tf.keras.layers.Dense(units=24, activation='relu'),\n",
    "    tf.keras.layers.Dense(units=12, activation='relu'),\n",
    "    tf.keras.layers.Dense(units=2, activation='softmax')\n",
    "])\n",
    "\n",
    "model.compile(optimizer=tf.keras.optimizers.Adam(lr=0.07), loss='categorical_crossentropy', metrics = ['accuracy'])\n",
    "\n",
    "model.summary()"
   ]
  },
  {
   "cell_type": "code",
   "execution_count": 9,
   "metadata": {},
   "outputs": [
    {
     "name": "stdout",
     "output_type": "stream",
     "text": [
      "Epoch 1/25\n",
      "122/122 [==============================] - 0s 2ms/step - loss: 0.1453 - accuracy: 0.9407 - val_loss: 0.0544 - val_accuracy: 0.9869\n",
      "Epoch 2/25\n",
      "122/122 [==============================] - 0s 564us/step - loss: 0.0676 - accuracy: 0.9831 - val_loss: 0.0391 - val_accuracy: 0.9892\n",
      "Epoch 3/25\n",
      "122/122 [==============================] - 0s 572us/step - loss: 0.0567 - accuracy: 0.9823 - val_loss: 0.0660 - val_accuracy: 0.9838\n",
      "Epoch 4/25\n",
      "122/122 [==============================] - 0s 556us/step - loss: 0.0630 - accuracy: 0.9828 - val_loss: 0.0344 - val_accuracy: 0.9892\n",
      "Epoch 5/25\n",
      "122/122 [==============================] - 0s 564us/step - loss: 0.0421 - accuracy: 0.9910 - val_loss: 0.0390 - val_accuracy: 0.9877\n",
      "Epoch 6/25\n",
      "122/122 [==============================] - 0s 564us/step - loss: 0.0459 - accuracy: 0.9872 - val_loss: 0.0512 - val_accuracy: 0.9854\n",
      "Epoch 7/25\n",
      "122/122 [==============================] - 0s 548us/step - loss: 0.0416 - accuracy: 0.9897 - val_loss: 0.0308 - val_accuracy: 0.9915\n",
      "Epoch 8/25\n",
      "122/122 [==============================] - 0s 564us/step - loss: 0.0374 - accuracy: 0.9913 - val_loss: 0.0540 - val_accuracy: 0.9846\n",
      "Epoch 9/25\n",
      "122/122 [==============================] - 0s 556us/step - loss: 0.0515 - accuracy: 0.9864 - val_loss: 0.0416 - val_accuracy: 0.9862\n",
      "Epoch 10/25\n",
      "122/122 [==============================] - 0s 515us/step - loss: 0.0397 - accuracy: 0.9900 - val_loss: 0.0277 - val_accuracy: 0.9908\n",
      "Epoch 11/25\n",
      "122/122 [==============================] - 0s 540us/step - loss: 0.0344 - accuracy: 0.9918 - val_loss: 0.0523 - val_accuracy: 0.9877\n",
      "Epoch 12/25\n",
      "122/122 [==============================] - 0s 540us/step - loss: 0.0484 - accuracy: 0.9872 - val_loss: 0.0303 - val_accuracy: 0.9900\n",
      "Epoch 13/25\n",
      "122/122 [==============================] - 0s 548us/step - loss: 0.0388 - accuracy: 0.9897 - val_loss: 0.0563 - val_accuracy: 0.9831\n",
      "Epoch 14/25\n",
      "122/122 [==============================] - 0s 548us/step - loss: 0.0304 - accuracy: 0.9936 - val_loss: 0.0265 - val_accuracy: 0.9946\n",
      "Epoch 15/25\n",
      "122/122 [==============================] - 0s 548us/step - loss: 0.0415 - accuracy: 0.9895 - val_loss: 0.0459 - val_accuracy: 0.9862\n",
      "Epoch 16/25\n",
      "122/122 [==============================] - 0s 548us/step - loss: 0.0454 - accuracy: 0.9890 - val_loss: 0.0437 - val_accuracy: 0.9838\n",
      "Epoch 17/25\n",
      "122/122 [==============================] - 0s 523us/step - loss: 0.0374 - accuracy: 0.9887 - val_loss: 0.0563 - val_accuracy: 0.9869\n",
      "Epoch 18/25\n",
      "122/122 [==============================] - 0s 523us/step - loss: 0.0302 - accuracy: 0.9928 - val_loss: 0.0555 - val_accuracy: 0.9815\n",
      "Epoch 19/25\n",
      "122/122 [==============================] - 0s 523us/step - loss: 0.0285 - accuracy: 0.9936 - val_loss: 0.0288 - val_accuracy: 0.9938\n",
      "Epoch 20/25\n",
      "122/122 [==============================] - 0s 523us/step - loss: 0.0309 - accuracy: 0.9938 - val_loss: 0.0465 - val_accuracy: 0.9877\n",
      "Epoch 21/25\n",
      "122/122 [==============================] - 0s 531us/step - loss: 0.0319 - accuracy: 0.9915 - val_loss: 0.0394 - val_accuracy: 0.9854\n",
      "Epoch 22/25\n",
      "122/122 [==============================] - 0s 531us/step - loss: 0.0302 - accuracy: 0.9920 - val_loss: 0.0270 - val_accuracy: 0.9938\n",
      "Epoch 23/25\n",
      "122/122 [==============================] - 0s 540us/step - loss: 0.0410 - accuracy: 0.9915 - val_loss: 0.0310 - val_accuracy: 0.9938\n",
      "Epoch 24/25\n",
      "122/122 [==============================] - 0s 531us/step - loss: 0.0440 - accuracy: 0.9897 - val_loss: 0.0253 - val_accuracy: 0.9954\n",
      "Epoch 25/25\n",
      "122/122 [==============================] - 0s 523us/step - loss: 0.0324 - accuracy: 0.9918 - val_loss: 0.0459 - val_accuracy: 0.9885\n"
     ]
    }
   ],
   "source": [
    "#와인 데이터세트에 대한 분류 학습 모델 학습\n",
    "history = model.fit(train_X, train_Y, epochs=25, batch_size=32, validation_split=0.25)"
   ]
  },
  {
   "cell_type": "code",
   "execution_count": 10,
   "metadata": {},
   "outputs": [
    {
     "data": {
      "image/png": "[encoded data removed]",
      "text/plain": [
       "<Figure size 864x288 with 2 Axes>"
      ]
     },
     "metadata": {
      "needs_background": "light"
     },
     "output_type": "display_data"
    }
   ],
   "source": [
    "# 분류 모델의 학습 결과 시각화\n",
    "import matplotlib.pyplot as plt\n",
    "plt.figure(figsize=(12,4))\n",
    "\n",
    "plt.subplot(1,2,1)\n",
    "plt.plot(history.history['loss'], 'b-', label='loss')\n",
    "plt.plot(history.history['val_loss'], 'r--', label='val_loss')\n",
    "plt.xlabel('Epoch')\n",
    "plt.legend()\n",
    "\n",
    "plt.subplot(1,2,2)\n",
    "plt.plot(history.history['accuracy'], 'g-', label='accuracy')\n",
    "plt.plot(history.history['val_accuracy'], 'k--', label='val_accuracy')\n",
    "plt.xlabel('Epoch')\n",
    "plt.ylim(0.7, 1)\n",
    "plt.legend()\n",
    "\n",
    "plt.show()"
   ]
  },
  {
   "cell_type": "code",
   "execution_count": 11,
   "metadata": {},
   "outputs": [
    {
     "name": "stdout",
     "output_type": "stream",
     "text": [
      "41/41 [==============================] - 0s 341us/step - loss: 0.0891 - accuracy: 0.9877\n"
     ]
    },
    {
     "data": {
      "text/plain": [
       "[0.08909939974546432, 0.9876922965049744]"
      ]
     },
     "execution_count": 11,
     "metadata": {},
     "output_type": "execute_result"
    }
   ],
   "source": [
    "# 분류 모델 평가\n",
    "\n",
    "model.evaluate(test_X, test_Y)"
   ]
  },
  {
   "cell_type": "markdown",
   "metadata": {},
   "source": [
    "## 5.2 다항 분류\n",
    "* 범주의 수가 2개를 초과하는 경우"
   ]
  },
  {
   "cell_type": "code",
   "execution_count": 12,
   "metadata": {},
   "outputs": [
    {
     "name": "stdout",
     "output_type": "stream",
     "text": [
      "count    6497.000000\n",
      "mean        5.818378\n",
      "std         0.873255\n",
      "min         3.000000\n",
      "25%         5.000000\n",
      "50%         6.000000\n",
      "75%         6.000000\n",
      "max         9.000000\n",
      "Name: quality, dtype: float64\n",
      "6    2836\n",
      "5    2138\n",
      "7    1079\n",
      "4     216\n",
      "8     193\n",
      "3      30\n",
      "9       5\n",
      "Name: quality, dtype: int64\n"
     ]
    }
   ],
   "source": [
    "# 와인의 품질 (0~10) 예측\n",
    "\n",
    "print(wine['quality'].describe())\n",
    "print(wine['quality'].value_counts())"
   ]
  },
  {
   "cell_type": "code",
   "execution_count": 13,
   "metadata": {},
   "outputs": [
    {
     "data": {
      "image/png": "[encoded data removed]",
      "text/plain": [
       "<Figure size 432x288 with 1 Axes>"
      ]
     },
     "metadata": {
      "needs_background": "light"
     },
     "output_type": "display_data"
    }
   ],
   "source": [
    "# 품질 히스토그램 시각화\n",
    "import matplotlib.pyplot as plt\n",
    "plt.hist(wine['quality'], bins=7, rwidth=0.8)\n",
    "plt.show()"
   ]
  },
  {
   "cell_type": "code",
   "execution_count": 14,
   "metadata": {},
   "outputs": [
    {
     "name": "stdout",
     "output_type": "stream",
     "text": [
      "count    6497.000000\n",
      "mean        0.829614\n",
      "std         0.731124\n",
      "min         0.000000\n",
      "25%         0.000000\n",
      "50%         1.000000\n",
      "75%         1.000000\n",
      "max         2.000000\n",
      "Name: new_quality, dtype: float64\n",
      "1.0    2836\n",
      "0.0    2384\n",
      "2.0    1277\n",
      "Name: new_quality, dtype: int64\n"
     ]
    }
   ],
   "source": [
    "# 데이터의 양이 작고 범주의 수가 많음\n",
    "# 데이터의 숫자 차이도 존재하기 때문에 세세한 분류는 어려울 것으로 판단됨\n",
    "# 품짐을 3개의 범주(좋음, 보통, 나쁨)로 재분류\n",
    "\n",
    "wine.loc[wine['quality'] <= 5, 'new_quality'] = 0\n",
    "wine.loc[wine['quality'] == 6, 'new_quality'] = 1\n",
    "wine.loc[wine['quality'] >= 7, 'new_quality'] = 2\n",
    "\n",
    "print(wine['new_quality'].describe())\n",
    "print(wine['new_quality'].value_counts())"
   ]
  },
  {
   "cell_type": "code",
   "execution_count": 15,
   "metadata": {},
   "outputs": [],
   "source": [
    "# 데이터 정규화 및 훈련 데이터와 테스트 데이터 분리\n",
    "del wine['quality']\n",
    "wine_norm = (wine - wine.min()) / (wine.max() - wine.min())\n",
    "wine_shuffle = wine_norm.sample(frac=1)\n",
    "wine_np = wine_shuffle.to_numpy()\n",
    "\n",
    "train_idx = int(len(wine_np) * 0.8)\n",
    "train_X, train_Y = wine_np[:train_idx, :-1], wine_np[:train_idx, -1]\n",
    "test_X, test_Y = wine_np[train_idx:, :-1], wine_np[train_idx:, -1]\n",
    "train_Y = tf.keras.utils.to_categorical(train_Y, num_classes=3)\n",
    "test_Y = tf.keras.utils.to_categorical(test_Y, num_classes=3)"
   ]
  },
  {
   "cell_type": "code",
   "execution_count": 16,
   "metadata": {},
   "outputs": [
    {
     "name": "stdout",
     "output_type": "stream",
     "text": [
      "Epoch 1/25\n",
      "122/122 [==============================] - 0s 1ms/step - loss: 0.4509 - accuracy: 0.8147 - val_loss: 0.4339 - val_accuracy: 0.7808\n",
      "Epoch 2/25\n",
      "122/122 [==============================] - 0s 548us/step - loss: 0.4126 - accuracy: 0.8193 - val_loss: 0.4286 - val_accuracy: 0.7808\n",
      "Epoch 3/25\n",
      "122/122 [==============================] - 0s 531us/step - loss: 0.4011 - accuracy: 0.8158 - val_loss: 0.4132 - val_accuracy: 0.7900\n",
      "Epoch 4/25\n",
      "122/122 [==============================] - 0s 515us/step - loss: 0.4029 - accuracy: 0.8081 - val_loss: 0.4357 - val_accuracy: 0.7808\n",
      "Epoch 5/25\n",
      "122/122 [==============================] - 0s 515us/step - loss: 0.3900 - accuracy: 0.8134 - val_loss: 0.4087 - val_accuracy: 0.8023\n",
      "Epoch 6/25\n",
      "122/122 [==============================] - 0s 523us/step - loss: 0.3939 - accuracy: 0.8132 - val_loss: 0.4359 - val_accuracy: 0.8177\n",
      "Epoch 7/25\n",
      "122/122 [==============================] - 0s 548us/step - loss: 0.3965 - accuracy: 0.8178 - val_loss: 0.4050 - val_accuracy: 0.8077\n",
      "Epoch 8/25\n",
      "122/122 [==============================] - 0s 540us/step - loss: 0.3903 - accuracy: 0.8211 - val_loss: 0.3992 - val_accuracy: 0.8169\n",
      "Epoch 9/25\n",
      "122/122 [==============================] - 0s 548us/step - loss: 0.3975 - accuracy: 0.8217 - val_loss: 0.4207 - val_accuracy: 0.7808\n",
      "Epoch 10/25\n",
      "122/122 [==============================] - 0s 531us/step - loss: 0.3832 - accuracy: 0.8173 - val_loss: 0.4117 - val_accuracy: 0.8085\n",
      "Epoch 11/25\n",
      "122/122 [==============================] - 0s 523us/step - loss: 0.3844 - accuracy: 0.8211 - val_loss: 0.4155 - val_accuracy: 0.7808\n",
      "Epoch 12/25\n",
      "122/122 [==============================] - 0s 515us/step - loss: 0.3949 - accuracy: 0.8181 - val_loss: 0.4165 - val_accuracy: 0.7923\n",
      "Epoch 13/25\n",
      "122/122 [==============================] - 0s 515us/step - loss: 0.3873 - accuracy: 0.8196 - val_loss: 0.4038 - val_accuracy: 0.8115\n",
      "Epoch 14/25\n",
      "122/122 [==============================] - 0s 515us/step - loss: 0.3874 - accuracy: 0.8288 - val_loss: 0.4212 - val_accuracy: 0.7992\n",
      "Epoch 15/25\n",
      "122/122 [==============================] - 0s 515us/step - loss: 0.3818 - accuracy: 0.8242 - val_loss: 0.4080 - val_accuracy: 0.7931\n",
      "Epoch 16/25\n",
      "122/122 [==============================] - 0s 515us/step - loss: 0.3881 - accuracy: 0.8196 - val_loss: 0.4211 - val_accuracy: 0.8023\n",
      "Epoch 17/25\n",
      "122/122 [==============================] - 0s 556us/step - loss: 0.3865 - accuracy: 0.8263 - val_loss: 0.4010 - val_accuracy: 0.8092\n",
      "Epoch 18/25\n",
      "122/122 [==============================] - 0s 548us/step - loss: 0.3875 - accuracy: 0.8222 - val_loss: 0.4174 - val_accuracy: 0.7808\n",
      "Epoch 19/25\n",
      "122/122 [==============================] - 0s 540us/step - loss: 0.3823 - accuracy: 0.8137 - val_loss: 0.4096 - val_accuracy: 0.8169\n",
      "Epoch 20/25\n",
      "122/122 [==============================] - 0s 523us/step - loss: 0.3871 - accuracy: 0.8255 - val_loss: 0.4040 - val_accuracy: 0.8062\n",
      "Epoch 21/25\n",
      "122/122 [==============================] - 0s 523us/step - loss: 0.3816 - accuracy: 0.8242 - val_loss: 0.4403 - val_accuracy: 0.8108\n",
      "Epoch 22/25\n",
      "122/122 [==============================] - 0s 531us/step - loss: 0.3837 - accuracy: 0.8250 - val_loss: 0.4104 - val_accuracy: 0.8008\n",
      "Epoch 23/25\n",
      "122/122 [==============================] - 0s 515us/step - loss: 0.3762 - accuracy: 0.8324 - val_loss: 0.4351 - val_accuracy: 0.8138\n",
      "Epoch 24/25\n",
      "122/122 [==============================] - 0s 523us/step - loss: 0.3813 - accuracy: 0.8255 - val_loss: 0.4126 - val_accuracy: 0.8069\n",
      "Epoch 25/25\n",
      "122/122 [==============================] - 0s 531us/step - loss: 0.3800 - accuracy: 0.8201 - val_loss: 0.4259 - val_accuracy: 0.7808\n"
     ]
    }
   ],
   "source": [
    "# 와인 데이터세트 다항 분류 모델 생성 및 학습\n",
    "\n",
    "model = tf.keras.Sequential([\n",
    "    tf.keras.layers.Dense(units=48, activation='relu', input_shape=(12,)),\n",
    "    tf.keras.layers.Dense(units=24, activation='relu'),\n",
    "    tf.keras.layers.Dense(units=12, activation='relu'),\n",
    "    tf.keras.layers.Dense(units=3, activation='softmax')\n",
    "])\n",
    "\n",
    "model.compile(optimizer=tf.keras.optimizers.Adam(lr=0.07), loss='categorical_crossentropy', metrics = ['accuracy'])\n",
    "\n",
    "history = model.fit(train_X, train_Y, epochs=25, batch_size=32, validation_split=0.25)"
   ]
  },
  {
   "cell_type": "code",
   "execution_count": 18,
   "metadata": {},
   "outputs": [
    {
     "data": {
      "image/png": "[encoded data removed]",
      "text/plain": [
       "<Figure size 864x288 with 2 Axes>"
      ]
     },
     "metadata": {
      "needs_background": "light"
     },
     "output_type": "display_data"
    }
   ],
   "source": [
    "# 다항 분류 모델 학습 결과 시각화\n",
    "import matplotlib.pyplot as plt\n",
    "plt.figure(figsize=(12,4))\n",
    "\n",
    "plt.subplot(1, 2, 1)\n",
    "plt.plot(history.history['loss'], 'b-', label='loss')\n",
    "plt.plot(history.history['val_loss'], 'r--', label='val_loss')\n",
    "plt.xlabel('Epoch')\n",
    "plt.legend()\n",
    "\n",
    "plt.subplot(1, 2, 2)\n",
    "plt.plot(history.history['accuracy'], 'g-', label='accuracy')\n",
    "plt.plot(history.history['val_accuracy'], 'k--', label='val_accuracy')\n",
    "plt.xlabel('Epoch')\n",
    "plt.ylim(0.7, 1)\n",
    "plt.legend()\n",
    "\n",
    "plt.show()"
   ]
  },
  {
   "cell_type": "markdown",
   "metadata": {},
   "source": [
    "* 이항 분류보다 정답을 찾기 어려운 문제이기 때문인지 val_loss가 중간에 튀고, 전반적으로 loss도 큼\n"
   ]
  },
  {
   "cell_type": "code",
   "execution_count": 19,
   "metadata": {},
   "outputs": [
    {
     "name": "stdout",
     "output_type": "stream",
     "text": [
      "41/41 [==============================] - 0s 462us/step - loss: 0.4200 - accuracy: 0.7908\n"
     ]
    },
    {
     "data": {
      "text/plain": [
       "[0.4199792146682739, 0.7907692193984985]"
      ]
     },
     "execution_count": 19,
     "metadata": {},
     "output_type": "execute_result"
    }
   ],
   "source": [
    "# 다항 분류 모델 평가\n",
    "model.evaluate(test_X, test_Y)"
   ]
  },
  {
   "cell_type": "markdown",
   "metadata": {},
   "source": [
    "* 데이터의 구성이 균일하지 않기 때문에 이 이상으로 좋은 성과를 내기 위해서는 네트워크의 크기를 키워보거나 학습률을 조정해보는 등 노력이 필요함"
   ]
  },
  {
   "cell_type": "markdown",
   "metadata": {},
   "source": [
    "## 5.3 Fashion MNIST"
   ]
  },
  {
   "cell_type": "code",
   "execution_count": 55,
   "metadata": {},
   "outputs": [
    {
     "name": "stdout",
     "output_type": "stream",
     "text": [
      "60000 10000\n"
     ]
    }
   ],
   "source": [
    "# Fashion MNIST 데이터세트 불러오기\n",
    "fashion_mnist = tf.keras.datasets.fashion_mnist\n",
    "(train_X, train_Y), (test_X, test_Y) = fashion_mnist.load_data()\n",
    "\n",
    "print(len(train_X), len(test_X))"
   ]
  },
  {
   "cell_type": "code",
   "execution_count": 56,
   "metadata": {},
   "outputs": [
    {
     "data": {
      "image/png": "[encoded data removed]",
      "text/plain": [
       "<Figure size 432x288 with 2 Axes>"
      ]
     },
     "metadata": {
      "needs_background": "light"
     },
     "output_type": "display_data"
    },
    {
     "name": "stdout",
     "output_type": "stream",
     "text": [
      "9\n"
     ]
    }
   ],
   "source": [
    "# 데이터 확인\n",
    "import matplotlib.pyplot as plt\n",
    "plt.imshow(train_X[0], cmap='gray')\n",
    "plt.colorbar()\n",
    "plt.show()\n",
    "\n",
    "print(train_Y[0])"
   ]
  },
  {
   "cell_type": "code",
   "execution_count": 57,
   "metadata": {},
   "outputs": [
    {
     "name": "stdout",
     "output_type": "stream",
     "text": [
      "[[0.         0.         0.         0.         0.         0.\n",
      "  0.         0.         0.         0.         0.         0.\n",
      "  0.         0.         0.         0.         0.         0.\n",
      "  0.         0.         0.         0.         0.         0.\n",
      "  0.         0.         0.         0.        ]\n",
      " [0.         0.         0.         0.         0.         0.\n",
      "  0.         0.         0.         0.         0.         0.\n",
      "  0.         0.         0.         0.         0.         0.\n",
      "  0.         0.         0.         0.         0.         0.\n",
      "  0.         0.         0.         0.        ]\n",
      " [0.         0.         0.         0.         0.         0.\n",
      "  0.         0.         0.         0.         0.         0.\n",
      "  0.         0.         0.         0.         0.         0.\n",
      "  0.         0.         0.         0.         0.         0.\n",
      "  0.         0.         0.         0.        ]\n",
      " [0.         0.         0.         0.         0.         0.\n",
      "  0.         0.         0.         0.         0.         0.\n",
      "  0.00392157 0.         0.         0.05098039 0.28627451 0.\n",
      "  0.         0.00392157 0.01568627 0.         0.         0.\n",
      "  0.         0.00392157 0.00392157 0.        ]\n",
      " [0.         0.         0.         0.         0.         0.\n",
      "  0.         0.         0.         0.         0.         0.\n",
      "  0.01176471 0.         0.14117647 0.53333333 0.49803922 0.24313725\n",
      "  0.21176471 0.         0.         0.         0.00392157 0.01176471\n",
      "  0.01568627 0.         0.         0.01176471]\n",
      " [0.         0.         0.         0.         0.         0.\n",
      "  0.         0.         0.         0.         0.         0.\n",
      "  0.02352941 0.         0.4        0.8        0.69019608 0.5254902\n",
      "  0.56470588 0.48235294 0.09019608 0.         0.         0.\n",
      "  0.         0.04705882 0.03921569 0.        ]\n",
      " [0.         0.         0.         0.         0.         0.\n",
      "  0.         0.         0.         0.         0.         0.\n",
      "  0.         0.         0.60784314 0.9254902  0.81176471 0.69803922\n",
      "  0.41960784 0.61176471 0.63137255 0.42745098 0.25098039 0.09019608\n",
      "  0.30196078 0.50980392 0.28235294 0.05882353]\n",
      " [0.         0.         0.         0.         0.         0.\n",
      "  0.         0.         0.         0.         0.         0.00392157\n",
      "  0.         0.27058824 0.81176471 0.8745098  0.85490196 0.84705882\n",
      "  0.84705882 0.63921569 0.49803922 0.4745098  0.47843137 0.57254902\n",
      "  0.55294118 0.34509804 0.6745098  0.25882353]\n",
      " [0.         0.         0.         0.         0.         0.\n",
      "  0.         0.         0.         0.00392157 0.00392157 0.00392157\n",
      "  0.         0.78431373 0.90980392 0.90980392 0.91372549 0.89803922\n",
      "  0.8745098  0.8745098  0.84313725 0.83529412 0.64313725 0.49803922\n",
      "  0.48235294 0.76862745 0.89803922 0.        ]\n",
      " [0.         0.         0.         0.         0.         0.\n",
      "  0.         0.         0.         0.         0.         0.\n",
      "  0.         0.71764706 0.88235294 0.84705882 0.8745098  0.89411765\n",
      "  0.92156863 0.89019608 0.87843137 0.87058824 0.87843137 0.86666667\n",
      "  0.8745098  0.96078431 0.67843137 0.        ]\n",
      " [0.         0.         0.         0.         0.         0.\n",
      "  0.         0.         0.         0.         0.         0.\n",
      "  0.         0.75686275 0.89411765 0.85490196 0.83529412 0.77647059\n",
      "  0.70588235 0.83137255 0.82352941 0.82745098 0.83529412 0.8745098\n",
      "  0.8627451  0.95294118 0.79215686 0.        ]\n",
      " [0.         0.         0.         0.         0.         0.\n",
      "  0.         0.         0.         0.00392157 0.01176471 0.\n",
      "  0.04705882 0.85882353 0.8627451  0.83137255 0.85490196 0.75294118\n",
      "  0.6627451  0.89019608 0.81568627 0.85490196 0.87843137 0.83137255\n",
      "  0.88627451 0.77254902 0.81960784 0.20392157]\n",
      " [0.         0.         0.         0.         0.         0.\n",
      "  0.         0.         0.         0.         0.02352941 0.\n",
      "  0.38823529 0.95686275 0.87058824 0.8627451  0.85490196 0.79607843\n",
      "  0.77647059 0.86666667 0.84313725 0.83529412 0.87058824 0.8627451\n",
      "  0.96078431 0.46666667 0.65490196 0.21960784]\n",
      " [0.         0.         0.         0.         0.         0.\n",
      "  0.         0.         0.         0.01568627 0.         0.\n",
      "  0.21568627 0.9254902  0.89411765 0.90196078 0.89411765 0.94117647\n",
      "  0.90980392 0.83529412 0.85490196 0.8745098  0.91764706 0.85098039\n",
      "  0.85098039 0.81960784 0.36078431 0.        ]\n",
      " [0.         0.         0.00392157 0.01568627 0.02352941 0.02745098\n",
      "  0.00784314 0.         0.         0.         0.         0.\n",
      "  0.92941176 0.88627451 0.85098039 0.8745098  0.87058824 0.85882353\n",
      "  0.87058824 0.86666667 0.84705882 0.8745098  0.89803922 0.84313725\n",
      "  0.85490196 1.         0.30196078 0.        ]\n",
      " [0.         0.01176471 0.         0.         0.         0.\n",
      "  0.         0.         0.         0.24313725 0.56862745 0.8\n",
      "  0.89411765 0.81176471 0.83529412 0.86666667 0.85490196 0.81568627\n",
      "  0.82745098 0.85490196 0.87843137 0.8745098  0.85882353 0.84313725\n",
      "  0.87843137 0.95686275 0.62352941 0.        ]\n",
      " [0.         0.         0.         0.         0.07058824 0.17254902\n",
      "  0.32156863 0.41960784 0.74117647 0.89411765 0.8627451  0.87058824\n",
      "  0.85098039 0.88627451 0.78431373 0.80392157 0.82745098 0.90196078\n",
      "  0.87843137 0.91764706 0.69019608 0.7372549  0.98039216 0.97254902\n",
      "  0.91372549 0.93333333 0.84313725 0.        ]\n",
      " [0.         0.22352941 0.73333333 0.81568627 0.87843137 0.86666667\n",
      "  0.87843137 0.81568627 0.8        0.83921569 0.81568627 0.81960784\n",
      "  0.78431373 0.62352941 0.96078431 0.75686275 0.80784314 0.8745098\n",
      "  1.         1.         0.86666667 0.91764706 0.86666667 0.82745098\n",
      "  0.8627451  0.90980392 0.96470588 0.        ]\n",
      " [0.01176471 0.79215686 0.89411765 0.87843137 0.86666667 0.82745098\n",
      "  0.82745098 0.83921569 0.80392157 0.80392157 0.80392157 0.8627451\n",
      "  0.94117647 0.31372549 0.58823529 1.         0.89803922 0.86666667\n",
      "  0.7372549  0.60392157 0.74901961 0.82352941 0.8        0.81960784\n",
      "  0.87058824 0.89411765 0.88235294 0.        ]\n",
      " [0.38431373 0.91372549 0.77647059 0.82352941 0.87058824 0.89803922\n",
      "  0.89803922 0.91764706 0.97647059 0.8627451  0.76078431 0.84313725\n",
      "  0.85098039 0.94509804 0.25490196 0.28627451 0.41568627 0.45882353\n",
      "  0.65882353 0.85882353 0.86666667 0.84313725 0.85098039 0.8745098\n",
      "  0.8745098  0.87843137 0.89803922 0.11372549]\n",
      " [0.29411765 0.8        0.83137255 0.8        0.75686275 0.80392157\n",
      "  0.82745098 0.88235294 0.84705882 0.7254902  0.77254902 0.80784314\n",
      "  0.77647059 0.83529412 0.94117647 0.76470588 0.89019608 0.96078431\n",
      "  0.9372549  0.8745098  0.85490196 0.83137255 0.81960784 0.87058824\n",
      "  0.8627451  0.86666667 0.90196078 0.2627451 ]\n",
      " [0.18823529 0.79607843 0.71764706 0.76078431 0.83529412 0.77254902\n",
      "  0.7254902  0.74509804 0.76078431 0.75294118 0.79215686 0.83921569\n",
      "  0.85882353 0.86666667 0.8627451  0.9254902  0.88235294 0.84705882\n",
      "  0.78039216 0.80784314 0.72941176 0.70980392 0.69411765 0.6745098\n",
      "  0.70980392 0.80392157 0.80784314 0.45098039]\n",
      " [0.         0.47843137 0.85882353 0.75686275 0.70196078 0.67058824\n",
      "  0.71764706 0.76862745 0.8        0.82352941 0.83529412 0.81176471\n",
      "  0.82745098 0.82352941 0.78431373 0.76862745 0.76078431 0.74901961\n",
      "  0.76470588 0.74901961 0.77647059 0.75294118 0.69019608 0.61176471\n",
      "  0.65490196 0.69411765 0.82352941 0.36078431]\n",
      " [0.         0.         0.29019608 0.74117647 0.83137255 0.74901961\n",
      "  0.68627451 0.6745098  0.68627451 0.70980392 0.7254902  0.7372549\n",
      "  0.74117647 0.7372549  0.75686275 0.77647059 0.8        0.81960784\n",
      "  0.82352941 0.82352941 0.82745098 0.7372549  0.7372549  0.76078431\n",
      "  0.75294118 0.84705882 0.66666667 0.        ]\n",
      " [0.00784314 0.         0.         0.         0.25882353 0.78431373\n",
      "  0.87058824 0.92941176 0.9372549  0.94901961 0.96470588 0.95294118\n",
      "  0.95686275 0.86666667 0.8627451  0.75686275 0.74901961 0.70196078\n",
      "  0.71372549 0.71372549 0.70980392 0.69019608 0.65098039 0.65882353\n",
      "  0.38823529 0.22745098 0.         0.        ]\n",
      " [0.         0.         0.         0.         0.         0.\n",
      "  0.         0.15686275 0.23921569 0.17254902 0.28235294 0.16078431\n",
      "  0.1372549  0.         0.         0.         0.         0.\n",
      "  0.         0.         0.         0.         0.         0.\n",
      "  0.         0.         0.         0.        ]\n",
      " [0.         0.         0.         0.         0.         0.\n",
      "  0.         0.         0.         0.         0.         0.\n",
      "  0.         0.         0.         0.         0.         0.\n",
      "  0.         0.         0.         0.         0.         0.\n",
      "  0.         0.         0.         0.        ]\n",
      " [0.         0.         0.         0.         0.         0.\n",
      "  0.         0.         0.         0.         0.         0.\n",
      "  0.         0.         0.         0.         0.         0.\n",
      "  0.         0.         0.         0.         0.         0.\n",
      "  0.         0.         0.         0.        ]]\n"
     ]
    }
   ],
   "source": [
    "# 데이터 정규화\n",
    "# 최대, 최소값을 이미 알고있기 떄문에 이미지의 각 픽셀값을 255로 나누기만 하면 0~1 사이로 정규화 됨\n",
    "\n",
    "train_X = train_X / 255.0\n",
    "test_X = test_X / 255.0\n",
    "\n",
    "print(train_X[0])"
   ]
  },
  {
   "cell_type": "code",
   "execution_count": 58,
   "metadata": {},
   "outputs": [
    {
     "name": "stdout",
     "output_type": "stream",
     "text": [
      "Model: \"sequential_7\"\n",
      "_________________________________________________________________\n",
      "Layer (type)                 Output Shape              Param #   \n",
      "=================================================================\n",
      "flatten_5 (Flatten)          (None, 784)               0         \n",
      "_________________________________________________________________\n",
      "dense_18 (Dense)             (None, 128)               100480    \n",
      "_________________________________________________________________\n",
      "dense_19 (Dense)             (None, 10)                1290      \n",
      "=================================================================\n",
      "Total params: 101,770\n",
      "Trainable params: 101,770\n",
      "Non-trainable params: 0\n",
      "_________________________________________________________________\n"
     ]
    }
   ],
   "source": [
    "# Fashion MNIST 분류 모델\n",
    "model = tf.keras.Sequential([\n",
    "    tf.keras.layers.Flatten(input_shape=(28,28)),\n",
    "    tf.keras.layers.Dense(units=128, activation='relu'),\n",
    "    tf.keras.layers.Dense(units=10, activation='softmax')\n",
    "])\n",
    "\n",
    "model.compile(optimizer=tf.keras.optimizers.Adam(), \n",
    "              loss='sparse_categorical_crossentropy', \n",
    "              metrics=['accuracy'])\n",
    "\n",
    "model.summary()"
   ]
  },
  {
   "cell_type": "code",
   "execution_count": 59,
   "metadata": {},
   "outputs": [
    {
     "name": "stdout",
     "output_type": "stream",
     "text": [
      "Epoch 1/25\n",
      "   1/1407 [..............................] - ETA: 0s - loss: 2.1428 - accuracy: 0.3438WARNING:tensorflow:Callbacks method `on_train_batch_end` is slow compared to the batch time (batch time: 0.0000s vs `on_train_batch_end` time: 0.0010s). Check your callbacks.\n",
      "1407/1407 [==============================] - 1s 641us/step - loss: 0.5199 - accuracy: 0.8170 - val_loss: 0.4362 - val_accuracy: 0.8471\n",
      "Epoch 2/25\n",
      "1407/1407 [==============================] - 1s 591us/step - loss: 0.3911 - accuracy: 0.8611 - val_loss: 0.3901 - val_accuracy: 0.8563\n",
      "Epoch 3/25\n",
      "1407/1407 [==============================] - 1s 582us/step - loss: 0.3499 - accuracy: 0.8715 - val_loss: 0.3602 - val_accuracy: 0.8678\n",
      "Epoch 4/25\n",
      "1407/1407 [==============================] - 1s 622us/step - loss: 0.3222 - accuracy: 0.8818 - val_loss: 0.3559 - val_accuracy: 0.8715\n",
      "Epoch 5/25\n",
      "1407/1407 [==============================] - 1s 631us/step - loss: 0.3049 - accuracy: 0.8874 - val_loss: 0.3486 - val_accuracy: 0.8725\n",
      "Epoch 6/25\n",
      "1407/1407 [==============================] - 1s 579us/step - loss: 0.2899 - accuracy: 0.8924 - val_loss: 0.3228 - val_accuracy: 0.8816\n",
      "Epoch 7/25\n",
      "1407/1407 [==============================] - 1s 590us/step - loss: 0.2730 - accuracy: 0.8984 - val_loss: 0.3311 - val_accuracy: 0.8822\n",
      "Epoch 8/25\n",
      "1407/1407 [==============================] - 1s 598us/step - loss: 0.2613 - accuracy: 0.9024 - val_loss: 0.3350 - val_accuracy: 0.8771\n",
      "Epoch 9/25\n",
      "1407/1407 [==============================] - 1s 609us/step - loss: 0.2533 - accuracy: 0.9054 - val_loss: 0.3276 - val_accuracy: 0.8831\n",
      "Epoch 10/25\n",
      "1407/1407 [==============================] - 1s 627us/step - loss: 0.2411 - accuracy: 0.9092 - val_loss: 0.3233 - val_accuracy: 0.8841\n",
      "Epoch 11/25\n",
      "1407/1407 [==============================] - 1s 633us/step - loss: 0.2323 - accuracy: 0.9129 - val_loss: 0.3307 - val_accuracy: 0.8885\n",
      "Epoch 12/25\n",
      "1407/1407 [==============================] - 1s 636us/step - loss: 0.2235 - accuracy: 0.9175 - val_loss: 0.3203 - val_accuracy: 0.8886\n",
      "Epoch 13/25\n",
      "1407/1407 [==============================] - 1s 583us/step - loss: 0.2185 - accuracy: 0.9176 - val_loss: 0.3244 - val_accuracy: 0.8881\n",
      "Epoch 14/25\n",
      "1407/1407 [==============================] - 1s 577us/step - loss: 0.2092 - accuracy: 0.9216 - val_loss: 0.3380 - val_accuracy: 0.8837\n",
      "Epoch 15/25\n",
      "1407/1407 [==============================] - 1s 565us/step - loss: 0.2032 - accuracy: 0.9252 - val_loss: 0.3623 - val_accuracy: 0.8807\n",
      "Epoch 16/25\n",
      "1407/1407 [==============================] - 1s 570us/step - loss: 0.1975 - accuracy: 0.9259 - val_loss: 0.3540 - val_accuracy: 0.8853\n",
      "Epoch 17/25\n",
      "1407/1407 [==============================] - 1s 570us/step - loss: 0.1903 - accuracy: 0.9297 - val_loss: 0.3523 - val_accuracy: 0.8849\n",
      "Epoch 18/25\n",
      "1407/1407 [==============================] - 1s 569us/step - loss: 0.1862 - accuracy: 0.9307 - val_loss: 0.3425 - val_accuracy: 0.8877\n",
      "Epoch 19/25\n",
      "1407/1407 [==============================] - 1s 572us/step - loss: 0.1792 - accuracy: 0.9326 - val_loss: 0.3591 - val_accuracy: 0.8858\n",
      "Epoch 20/25\n",
      "1407/1407 [==============================] - 1s 566us/step - loss: 0.1763 - accuracy: 0.9346 - val_loss: 0.3439 - val_accuracy: 0.8925\n",
      "Epoch 21/25\n",
      "1407/1407 [==============================] - 1s 571us/step - loss: 0.1693 - accuracy: 0.9373 - val_loss: 0.3542 - val_accuracy: 0.8892\n",
      "Epoch 22/25\n",
      "1407/1407 [==============================] - 1s 571us/step - loss: 0.1679 - accuracy: 0.9371 - val_loss: 0.3524 - val_accuracy: 0.8915\n",
      "Epoch 23/25\n",
      "1407/1407 [==============================] - 1s 568us/step - loss: 0.1632 - accuracy: 0.9380 - val_loss: 0.3650 - val_accuracy: 0.8903\n",
      "Epoch 24/25\n",
      "1407/1407 [==============================] - 1s 580us/step - loss: 0.1574 - accuracy: 0.9407 - val_loss: 0.3645 - val_accuracy: 0.8900\n",
      "Epoch 25/25\n",
      "1407/1407 [==============================] - 1s 588us/step - loss: 0.1519 - accuracy: 0.9437 - val_loss: 0.3670 - val_accuracy: 0.8930\n"
     ]
    }
   ],
   "source": [
    "# Fashion MNIST 분류 모델 학습\n",
    "history = model.fit(train_X, train_Y, epochs=25, validation_split=0.25)\n"
   ]
  },
  {
   "cell_type": "code",
   "execution_count": 62,
   "metadata": {},
   "outputs": [
    {
     "data": {
      "image/png": "[encoded data removed]",
      "text/plain": [
       "<Figure size 864x288 with 2 Axes>"
      ]
     },
     "metadata": {
      "needs_background": "light"
     },
     "output_type": "display_data"
    }
   ],
   "source": [
    "# Fashion MNIST 분류 모델의 학습 결과 시각화\n",
    "import matplotlib.pyplot as plt\n",
    "plt.figure(figsize=(12, 4))\n",
    "\n",
    "plt.subplot(1, 2, 1)\n",
    "plt.plot(history.history['loss'], 'b-', label='loss')\n",
    "plt.plot(history.history['val_loss'], 'r--', label='val_loss')\n",
    "plt.xlabel('Epoch')\n",
    "plt.legend()\n",
    "\n",
    "plt.subplot(1, 2, 2)\n",
    "plt.plot(history.history['accuracy'], 'g-', label='accuracy')\n",
    "plt.plot(history.history['val_accuracy'], 'k--', label='val_accuracy')\n",
    "plt.xlabel('Epoch')\n",
    "plt.ylim(0.7, 1)\n",
    "plt.legend()\n",
    "\n",
    "plt.show()"
   ]
  },
  {
   "cell_type": "code",
   "execution_count": 63,
   "metadata": {},
   "outputs": [
    {
     "name": "stdout",
     "output_type": "stream",
     "text": [
      "313/313 [==============================] - 0s 421us/step - loss: 0.4089 - accuracy: 0.8818\n"
     ]
    },
    {
     "data": {
      "text/plain": [
       "[0.4088648855686188, 0.8817999958992004]"
      ]
     },
     "execution_count": 63,
     "metadata": {},
     "output_type": "execute_result"
    }
   ],
   "source": [
    "# Fashion MNIST 분류 모델 평가\n",
    "\n",
    "model.evaluate(test_X, test_Y)"
   ]
  },
  {
   "cell_type": "markdown",
   "metadata": {},
   "source": [
    "# EOD"
   ]
  }
 ],
 "metadata": {
  "kernelspec": {
   "display_name": "new",
   "language": "python",
   "name": "new"
  },
  "language_info": {
   "codemirror_mode": {
    "name": "ipython",
    "version": 3
   },
   "file_extension": ".py",
   "mimetype": "text/x-python",
   "name": "python",
   "nbconvert_exporter": "python",
   "pygments_lexer": "ipython3",
   "version": "3.8.5"
  }
 },
 "nbformat": 4,
 "nbformat_minor": 4
}
