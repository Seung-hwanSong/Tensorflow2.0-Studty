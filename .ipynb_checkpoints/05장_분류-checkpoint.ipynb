{
 "cells": [
  {
   "cell_type": "markdown",
   "metadata": {},
   "source": [
    "### Jupyter Notebook 단축키\n",
    "- ctrl+enter: 셀 실행\n",
    "- shift+enter: 셀 실행 및 다음 셀 이동\n",
    "- alt+enter: 셀 실행, 다음 셀 이동, 새로운 셀 생성\n",
    "- a: 상단에 새로운 셀 만들기\n",
    "- b: 하단에 새로운 셀 만들기\n",
    "- dd: 셀 삭제(x: 셀 삭제)\n",
    "- esc: 셀 나가기\n",
    "- m: 마크다운 셀로 바꾸기\n",
    "- y: 마크다운 셀을 다시 Code로 바꾸기"
   ]
  },
  {
   "cell_type": "markdown",
   "metadata": {},
   "source": [
    "# 05장_분류"
   ]
  },
  {
   "cell_type": "markdown",
   "metadata": {},
   "source": [
    "## 5.1 이항 분류"
   ]
  },
  {
   "cell_type": "code",
   "execution_count": 3,
   "metadata": {},
   "outputs": [
    {
     "name": "stdout",
     "output_type": "stream",
     "text": [
      "   fixed acidity  volatile acidity  citric acid  residual sugar  chlorides  \\\n",
      "0            7.4              0.70         0.00             1.9      0.076   \n",
      "1            7.8              0.88         0.00             2.6      0.098   \n",
      "2            7.8              0.76         0.04             2.3      0.092   \n",
      "3           11.2              0.28         0.56             1.9      0.075   \n",
      "4            7.4              0.70         0.00             1.9      0.076   \n",
      "\n",
      "   free sulfur dioxide  total sulfur dioxide  density    pH  sulphates  \\\n",
      "0                 11.0                  34.0   0.9978  3.51       0.56   \n",
      "1                 25.0                  67.0   0.9968  3.20       0.68   \n",
      "2                 15.0                  54.0   0.9970  3.26       0.65   \n",
      "3                 17.0                  60.0   0.9980  3.16       0.58   \n",
      "4                 11.0                  34.0   0.9978  3.51       0.56   \n",
      "\n",
      "   alcohol  quality  \n",
      "0      9.4        5  \n",
      "1      9.8        5  \n",
      "2      9.8        5  \n",
      "3      9.8        6  \n",
      "4      9.4        5  \n",
      "   fixed acidity  volatile acidity  citric acid  residual sugar  chlorides  \\\n",
      "0            7.0              0.27         0.36            20.7      0.045   \n",
      "1            6.3              0.30         0.34             1.6      0.049   \n",
      "2            8.1              0.28         0.40             6.9      0.050   \n",
      "3            7.2              0.23         0.32             8.5      0.058   \n",
      "4            7.2              0.23         0.32             8.5      0.058   \n",
      "\n",
      "   free sulfur dioxide  total sulfur dioxide  density    pH  sulphates  \\\n",
      "0                 45.0                 170.0   1.0010  3.00       0.45   \n",
      "1                 14.0                 132.0   0.9940  3.30       0.49   \n",
      "2                 30.0                  97.0   0.9951  3.26       0.44   \n",
      "3                 47.0                 186.0   0.9956  3.19       0.40   \n",
      "4                 47.0                 186.0   0.9956  3.19       0.40   \n",
      "\n",
      "   alcohol  quality  \n",
      "0      8.8        6  \n",
      "1      9.5        6  \n",
      "2     10.1        6  \n",
      "3      9.9        6  \n",
      "4      9.9        6  \n"
     ]
    }
   ],
   "source": [
    "# 와인 데이터를 통해 이항 분류를 수행\n",
    "import pandas as pd\n",
    "red = pd.read_csv(\"http://archive.ics.uci.edu/ml/machine-learning-databases/wine-quality/winequality-red.csv\", sep=';')\n",
    "white = pd.read_csv(\"http://archive.ics.uci.edu/ml/machine-learning-databases/wine-quality/winequality-white.csv\", sep=';')\n",
    "print(red.head())\n",
    "print(white.head())"
   ]
  },
  {
   "cell_type": "code",
   "execution_count": 4,
   "metadata": {},
   "outputs": [
    {
     "name": "stdout",
     "output_type": "stream",
     "text": [
      "   fixed acidity  volatile acidity  citric acid  residual sugar  chlorides  \\\n",
      "0            7.4              0.70          0.0             1.9      0.076   \n",
      "1            7.8              0.88          0.0             2.6      0.098   \n",
      "\n",
      "   free sulfur dioxide  total sulfur dioxide  density    pH  sulphates  \\\n",
      "0                 11.0                  34.0   0.9978  3.51       0.56   \n",
      "1                 25.0                  67.0   0.9968  3.20       0.68   \n",
      "\n",
      "   alcohol  quality  type  \n",
      "0      9.4        5     0  \n",
      "1      9.8        5     0  \n",
      "   fixed acidity  volatile acidity  citric acid  residual sugar  chlorides  \\\n",
      "0            7.0              0.27         0.36            20.7      0.045   \n",
      "1            6.3              0.30         0.34             1.6      0.049   \n",
      "\n",
      "   free sulfur dioxide  total sulfur dioxide  density   pH  sulphates  \\\n",
      "0                 45.0                 170.0    1.001  3.0       0.45   \n",
      "1                 14.0                 132.0    0.994  3.3       0.49   \n",
      "\n",
      "   alcohol  quality  type  \n",
      "0      8.8        6     1  \n",
      "1      9.5        6     1  \n",
      "       fixed acidity  volatile acidity  citric acid  residual sugar  \\\n",
      "count    6497.000000       6497.000000  6497.000000     6497.000000   \n",
      "mean        7.215307          0.339666     0.318633        5.443235   \n",
      "std         1.296434          0.164636     0.145318        4.757804   \n",
      "min         3.800000          0.080000     0.000000        0.600000   \n",
      "25%         6.400000          0.230000     0.250000        1.800000   \n",
      "50%         7.000000          0.290000     0.310000        3.000000   \n",
      "75%         7.700000          0.400000     0.390000        8.100000   \n",
      "max        15.900000          1.580000     1.660000       65.800000   \n",
      "\n",
      "         chlorides  free sulfur dioxide  total sulfur dioxide      density  \\\n",
      "count  6497.000000          6497.000000           6497.000000  6497.000000   \n",
      "mean      0.056034            30.525319            115.744574     0.994697   \n",
      "std       0.035034            17.749400             56.521855     0.002999   \n",
      "min       0.009000             1.000000              6.000000     0.987110   \n",
      "25%       0.038000            17.000000             77.000000     0.992340   \n",
      "50%       0.047000            29.000000            118.000000     0.994890   \n",
      "75%       0.065000            41.000000            156.000000     0.996990   \n",
      "max       0.611000           289.000000            440.000000     1.038980   \n",
      "\n",
      "                pH    sulphates      alcohol      quality         type  \n",
      "count  6497.000000  6497.000000  6497.000000  6497.000000  6497.000000  \n",
      "mean      3.218501     0.531268    10.491801     5.818378     0.753886  \n",
      "std       0.160787     0.148806     1.192712     0.873255     0.430779  \n",
      "min       2.720000     0.220000     8.000000     3.000000     0.000000  \n",
      "25%       3.110000     0.430000     9.500000     5.000000     1.000000  \n",
      "50%       3.210000     0.510000    10.300000     6.000000     1.000000  \n",
      "75%       3.320000     0.600000    11.300000     6.000000     1.000000  \n",
      "max       4.010000     2.000000    14.900000     9.000000     1.000000  \n"
     ]
    }
   ],
   "source": [
    "# 두 개의 데이터프레임을 하나로 합침\n",
    "\n",
    "red['type'] = 0\n",
    "white['type'] = 1\n",
    "print(red.head(2))\n",
    "print(white.head(2))\n",
    "\n",
    "wine = pd.concat([red, white])\n",
    "print(wine.describe()) # 데이터 통계 정보 확인"
   ]
  },
  {
   "cell_type": "code",
   "execution_count": 6,
   "metadata": {},
   "outputs": [
    {
     "data": {
      "image/png": "[encoded data removed]",
      "text/plain": [
       "<Figure size 432x288 with 1 Axes>"
      ]
     },
     "metadata": {
      "needs_background": "light"
     },
     "output_type": "display_data"
    },
    {
     "name": "stdout",
     "output_type": "stream",
     "text": [
      "1    4898\n",
      "0    1599\n",
      "Name: type, dtype: int64\n"
     ]
    }
   ],
   "source": [
    "# 간단한 그래프 \n",
    "# 1 값이 0 값 보다 많음\n",
    "\n",
    "import matplotlib.pyplot as plt\n",
    "plt.hist(wine['type'])\n",
    "plt.xticks([0,1])\n",
    "plt.show()\n",
    "\n",
    "print(wine['type'].value_counts())"
   ]
  },
  {
   "cell_type": "code",
   "execution_count": 7,
   "metadata": {},
   "outputs": [
    {
     "name": "stdout",
     "output_type": "stream",
     "text": [
      "<class 'pandas.core.frame.DataFrame'>\n",
      "Int64Index: 6497 entries, 0 to 4897\n",
      "Data columns (total 13 columns):\n",
      " #   Column                Non-Null Count  Dtype  \n",
      "---  ------                --------------  -----  \n",
      " 0   fixed acidity         6497 non-null   float64\n",
      " 1   volatile acidity      6497 non-null   float64\n",
      " 2   citric acid           6497 non-null   float64\n",
      " 3   residual sugar        6497 non-null   float64\n",
      " 4   chlorides             6497 non-null   float64\n",
      " 5   free sulfur dioxide   6497 non-null   float64\n",
      " 6   total sulfur dioxide  6497 non-null   float64\n",
      " 7   density               6497 non-null   float64\n",
      " 8   pH                    6497 non-null   float64\n",
      " 9   sulphates             6497 non-null   float64\n",
      " 10  alcohol               6497 non-null   float64\n",
      " 11  quality               6497 non-null   int64  \n",
      " 12  type                  6497 non-null   int64  \n",
      "dtypes: float64(11), int64(2)\n",
      "memory usage: 710.6 KB\n",
      "None\n"
     ]
    }
   ],
   "source": [
    "# 데이터 요약 정보 확인\n",
    "# 데이터 정규화 info() 함수 이용\n",
    "\n",
    "print(wine.info())"
   ]
  },
  {
   "cell_type": "code",
   "execution_count": 8,
   "metadata": {},
   "outputs": [
    {
     "name": "stdout",
     "output_type": "stream",
     "text": [
      "   fixed acidity  volatile acidity  citric acid  residual sugar  chlorides  \\\n",
      "0       0.297521          0.413333     0.000000        0.019939   0.111296   \n",
      "1       0.330579          0.533333     0.000000        0.030675   0.147841   \n",
      "2       0.330579          0.453333     0.024096        0.026074   0.137874   \n",
      "3       0.611570          0.133333     0.337349        0.019939   0.109635   \n",
      "4       0.297521          0.413333     0.000000        0.019939   0.111296   \n",
      "\n",
      "   free sulfur dioxide  total sulfur dioxide   density        pH  sulphates  \\\n",
      "0             0.034722              0.064516  0.206092  0.612403   0.191011   \n",
      "1             0.083333              0.140553  0.186813  0.372093   0.258427   \n",
      "2             0.048611              0.110599  0.190669  0.418605   0.241573   \n",
      "3             0.055556              0.124424  0.209948  0.341085   0.202247   \n",
      "4             0.034722              0.064516  0.206092  0.612403   0.191011   \n",
      "\n",
      "    alcohol   quality  type  \n",
      "0  0.202899  0.333333   0.0  \n",
      "1  0.260870  0.333333   0.0  \n",
      "2  0.260870  0.333333   0.0  \n",
      "3  0.260870  0.500000   0.0  \n",
      "4  0.202899  0.333333   0.0  \n",
      "       fixed acidity  volatile acidity  citric acid  residual sugar  \\\n",
      "count    6497.000000       6497.000000  6497.000000     6497.000000   \n",
      "mean        0.282257          0.173111     0.191948        0.074283   \n",
      "std         0.107143          0.109758     0.087541        0.072972   \n",
      "min         0.000000          0.000000     0.000000        0.000000   \n",
      "25%         0.214876          0.100000     0.150602        0.018405   \n",
      "50%         0.264463          0.140000     0.186747        0.036810   \n",
      "75%         0.322314          0.213333     0.234940        0.115031   \n",
      "max         1.000000          1.000000     1.000000        1.000000   \n",
      "\n",
      "         chlorides  free sulfur dioxide  total sulfur dioxide      density  \\\n",
      "count  6497.000000          6497.000000           6497.000000  6497.000000   \n",
      "mean      0.078129             0.102518              0.252868     0.146262   \n",
      "std       0.058195             0.061630              0.130235     0.057811   \n",
      "min       0.000000             0.000000              0.000000     0.000000   \n",
      "25%       0.048173             0.055556              0.163594     0.100829   \n",
      "50%       0.063123             0.097222              0.258065     0.149990   \n",
      "75%       0.093023             0.138889              0.345622     0.190476   \n",
      "max       1.000000             1.000000              1.000000     1.000000   \n",
      "\n",
      "                pH    sulphates      alcohol      quality         type  \n",
      "count  6497.000000  6497.000000  6497.000000  6497.000000  6497.000000  \n",
      "mean      0.386435     0.174870     0.361131     0.469730     0.753886  \n",
      "std       0.124641     0.083599     0.172857     0.145543     0.430779  \n",
      "min       0.000000     0.000000     0.000000     0.000000     0.000000  \n",
      "25%       0.302326     0.117978     0.217391     0.333333     1.000000  \n",
      "50%       0.379845     0.162921     0.333333     0.500000     1.000000  \n",
      "75%       0.465116     0.213483     0.478261     0.500000     1.000000  \n",
      "max       1.000000     1.000000     1.000000     1.000000     1.000000  \n"
     ]
    }
   ],
   "source": [
    "# 데이터 정규화\n",
    "\n",
    "wine_norm = (wine - wine.min()) / (wine.max() - wine.min())\n",
    "print(wine_norm.head())\n",
    "print(wine_norm.describe())"
   ]
  },
  {
   "cell_type": "code",
   "execution_count": 9,
   "metadata": {},
   "outputs": [
    {
     "name": "stdout",
     "output_type": "stream",
     "text": [
      "      fixed acidity  volatile acidity  citric acid  residual sugar  chlorides  \\\n",
      "3969       0.214876          0.060000     0.180723        0.033742   0.041528   \n",
      "4756       0.181818          0.200000     0.156627        0.044479   0.043189   \n",
      "537        0.297521          0.113333     0.216867        0.193252   0.096346   \n",
      "1690       0.429752          0.233333     0.180723        0.013804   0.068106   \n",
      "4305       0.173554          0.113333     0.144578        0.104294   0.058140   \n",
      "\n",
      "      free sulfur dioxide  total sulfur dioxide   density        pH  \\\n",
      "3969             0.111111              0.274194  0.085020  0.240310   \n",
      "4756             0.128472              0.241935  0.031039  0.356589   \n",
      "537              0.180556              0.396313  0.202236  0.224806   \n",
      "1690             0.020833              0.389401  0.154039  0.302326   \n",
      "4305             0.069444              0.246544  0.144785  0.511628   \n",
      "\n",
      "      sulphates   alcohol   quality  type  \n",
      "3969   0.151685  0.347826  0.500000   1.0  \n",
      "4756   0.140449  0.811594  0.666667   1.0  \n",
      "537    0.146067  0.144928  0.500000   1.0  \n",
      "1690   0.129213  0.246377  0.166667   1.0  \n",
      "4305   0.202247  0.362319  0.500000   1.0  \n",
      "[[0.21487603 0.06       0.18072289 0.03374233 0.04152824 0.11111111\n",
      "  0.27419355 0.08502024 0.24031008 0.15168539 0.34782609 0.5\n",
      "  1.        ]\n",
      " [0.18181818 0.2        0.15662651 0.04447853 0.04318937 0.12847222\n",
      "  0.24193548 0.03103914 0.35658915 0.14044944 0.8115942  0.66666667\n",
      "  1.        ]\n",
      " [0.29752066 0.11333333 0.21686747 0.19325153 0.09634551 0.18055556\n",
      "  0.39631336 0.20223636 0.2248062  0.14606742 0.14492754 0.5\n",
      "  1.        ]\n",
      " [0.42975207 0.23333333 0.18072289 0.01380368 0.06810631 0.02083333\n",
      "  0.38940092 0.15403894 0.30232558 0.12921348 0.24637681 0.16666667\n",
      "  1.        ]\n",
      " [0.17355372 0.11333333 0.14457831 0.10429448 0.05813953 0.06944444\n",
      "  0.24654378 0.14478504 0.51162791 0.20224719 0.36231884 0.5\n",
      "  1.        ]]\n"
     ]
    }
   ],
   "source": [
    "# 데이터를 섞은 후 넘파이 array로 변환\n",
    "# 1과 0이 비슷한 비율로 들어가도록 데이터를 섞음\n",
    "\n",
    "import numpy as np\n",
    "# sample은 전체 데이터 프레임에서 frac 인수로 지정된 비율만큼 행을 랜덤하게 뽑아서 새로운 데이터 프레임을 만듦\n",
    "wine_shuffle = wine_norm.sample(frac=1) #frac = 1 이므로 100% , 즉 모든 데이터를 뽑아서 섞는 것과 동일한 효과임 \n",
    "print(wine_shuffle.head())\n",
    "wine_np = wine_shuffle.to_numpy()\n",
    "print(wine_np[:5])"
   ]
  },
  {
   "cell_type": "code",
   "execution_count": 11,
   "metadata": {},
   "outputs": [
    {
     "name": "stdout",
     "output_type": "stream",
     "text": [
      "[0.21487603 0.06       0.18072289 0.03374233 0.04152824 0.11111111\n",
      " 0.27419355 0.08502024 0.24031008 0.15168539 0.34782609 0.5       ]\n",
      "1.0\n",
      "[0.29752066 0.10666667 0.24096386 0.05674847 0.03820598 0.02777778\n",
      " 0.20506912 0.09427415 0.28682171 0.09550562 0.44927536 0.5       ]\n",
      "1.0\n",
      "[0. 1.]\n",
      "[0. 1.]\n"
     ]
    }
   ],
   "source": [
    "# 훈련 데이터와 테스트 데이터로 분리\n",
    "import tensorflow as tf\n",
    "train_idx = int(len(wine_np) * 0.8)\n",
    "train_X, train_Y = wine_np[:train_idx, :-1], wine_np[:train_idx, -1]\n",
    "test_X, test_Y = wine_np[train_idx:, :-1], wine_np[train_idx:, -1]\n",
    "\n",
    "print(train_X[0])\n",
    "print(train_Y[0])\n",
    "print(test_X[0])\n",
    "print(test_Y[0])\n",
    "\n",
    "# utils의 to_categorical은 target 값을 one-hot-encoding 방식으로 바꿈\n",
    "train_Y = tf.keras.utils.to_categorical(train_Y, num_classes=2)\n",
    "test_Y = tf.keras.utils.to_categorical(test_Y, num_classes=2)\n",
    "print(train_Y[0])\n",
    "print(test_Y[0])"
   ]
  },
  {
   "cell_type": "code",
   "execution_count": 15,
   "metadata": {},
   "outputs": [
    {
     "name": "stdout",
     "output_type": "stream",
     "text": [
      "Model: \"sequential_3\"\n",
      "_________________________________________________________________\n",
      "Layer (type)                 Output Shape              Param #   \n",
      "=================================================================\n",
      "dense_12 (Dense)             (None, 48)                624       \n",
      "_________________________________________________________________\n",
      "dense_13 (Dense)             (None, 24)                1176      \n",
      "_________________________________________________________________\n",
      "dense_14 (Dense)             (None, 12)                300       \n",
      "_________________________________________________________________\n",
      "dense_15 (Dense)             (None, 2)                 26        \n",
      "=================================================================\n",
      "Total params: 2,126\n",
      "Trainable params: 2,126\n",
      "Non-trainable params: 0\n",
      "_________________________________________________________________\n"
     ]
    }
   ],
   "source": [
    "# 와인 데이터세트 분류 모델 생성\n",
    "import tensorflow as tf\n",
    "model = tf.keras.Sequential([\n",
    "    tf.keras.layers.Dense(units=48, activation='relu', input_shape=(12,)),\n",
    "    tf.keras.layers.Dense(units=24, activation='relu'),\n",
    "    tf.keras.layers.Dense(units=12, activation='relu'),\n",
    "    tf.keras.layers.Dense(units=2, activation='softmax')\n",
    "])\n",
    "\n",
    "model.compile(optimizer=tf.keras.optimizers.Adam(lr=0.07), loss='categorical_crossentropy', metrics = ['accuracy'])\n",
    "\n",
    "model.summary()"
   ]
  },
  {
   "cell_type": "code",
   "execution_count": 16,
   "metadata": {},
   "outputs": [
    {
     "name": "stdout",
     "output_type": "stream",
     "text": [
      "Epoch 1/25\n",
      "  1/122 [..............................] - ETA: 0s - loss: 0.7066 - accuracy: 0.2188WARNING:tensorflow:Callbacks method `on_test_batch_end` is slow compared to the batch time (batch time: 0.0000s vs `on_test_batch_end` time: 0.0010s). Check your callbacks.\n",
      "122/122 [==============================] - 0s 1ms/step - loss: 0.1268 - accuracy: 0.9536 - val_loss: 0.0694 - val_accuracy: 0.9746\n",
      "Epoch 2/25\n",
      "122/122 [==============================] - 0s 507us/step - loss: 0.0600 - accuracy: 0.9838 - val_loss: 0.0651 - val_accuracy: 0.9846\n",
      "Epoch 3/25\n",
      "122/122 [==============================] - 0s 507us/step - loss: 0.0681 - accuracy: 0.9826 - val_loss: 0.0407 - val_accuracy: 0.9892\n",
      "Epoch 4/25\n",
      "122/122 [==============================] - 0s 507us/step - loss: 0.0465 - accuracy: 0.9861 - val_loss: 0.0391 - val_accuracy: 0.9885\n",
      "Epoch 5/25\n",
      "122/122 [==============================] - 0s 507us/step - loss: 0.0461 - accuracy: 0.9885 - val_loss: 0.0406 - val_accuracy: 0.9900\n",
      "Epoch 6/25\n",
      "122/122 [==============================] - 0s 507us/step - loss: 0.0473 - accuracy: 0.9879 - val_loss: 0.0451 - val_accuracy: 0.9877\n",
      "Epoch 7/25\n",
      "122/122 [==============================] - 0s 507us/step - loss: 0.0520 - accuracy: 0.9856 - val_loss: 0.0430 - val_accuracy: 0.9900\n",
      "Epoch 8/25\n",
      "122/122 [==============================] - 0s 507us/step - loss: 0.0569 - accuracy: 0.9828 - val_loss: 0.0942 - val_accuracy: 0.9685\n",
      "Epoch 9/25\n",
      "122/122 [==============================] - 0s 540us/step - loss: 0.0420 - accuracy: 0.9890 - val_loss: 0.0434 - val_accuracy: 0.9900\n",
      "Epoch 10/25\n",
      "122/122 [==============================] - 0s 515us/step - loss: 0.0403 - accuracy: 0.9892 - val_loss: 0.0370 - val_accuracy: 0.9908\n",
      "Epoch 11/25\n",
      "122/122 [==============================] - 0s 507us/step - loss: 0.0379 - accuracy: 0.9900 - val_loss: 0.0512 - val_accuracy: 0.9900\n",
      "Epoch 12/25\n",
      "122/122 [==============================] - 0s 507us/step - loss: 0.0483 - accuracy: 0.9887 - val_loss: 0.0361 - val_accuracy: 0.9900\n",
      "Epoch 13/25\n",
      "122/122 [==============================] - 0s 507us/step - loss: 0.0555 - accuracy: 0.9831 - val_loss: 0.0423 - val_accuracy: 0.9877\n",
      "Epoch 14/25\n",
      "122/122 [==============================] - 0s 515us/step - loss: 0.0445 - accuracy: 0.9885 - val_loss: 0.0390 - val_accuracy: 0.9892\n",
      "Epoch 15/25\n",
      "122/122 [==============================] - 0s 507us/step - loss: 0.0360 - accuracy: 0.9900 - val_loss: 0.0379 - val_accuracy: 0.9892\n",
      "Epoch 16/25\n",
      "122/122 [==============================] - 0s 515us/step - loss: 0.0404 - accuracy: 0.9895 - val_loss: 0.0508 - val_accuracy: 0.9885\n",
      "Epoch 17/25\n",
      "122/122 [==============================] - 0s 499us/step - loss: 0.0423 - accuracy: 0.9910 - val_loss: 0.0458 - val_accuracy: 0.9854\n",
      "Epoch 18/25\n",
      "122/122 [==============================] - 0s 507us/step - loss: 0.0398 - accuracy: 0.9892 - val_loss: 0.0618 - val_accuracy: 0.9869\n",
      "Epoch 19/25\n",
      "122/122 [==============================] - 0s 507us/step - loss: 0.0455 - accuracy: 0.9887 - val_loss: 0.0382 - val_accuracy: 0.9885\n",
      "Epoch 20/25\n",
      "122/122 [==============================] - 0s 515us/step - loss: 0.0407 - accuracy: 0.9885 - val_loss: 0.0461 - val_accuracy: 0.9908\n",
      "Epoch 21/25\n",
      "122/122 [==============================] - 0s 531us/step - loss: 0.0455 - accuracy: 0.9877 - val_loss: 0.0354 - val_accuracy: 0.9900\n",
      "Epoch 22/25\n",
      "122/122 [==============================] - 0s 515us/step - loss: 0.0338 - accuracy: 0.9900 - val_loss: 0.0375 - val_accuracy: 0.9885\n",
      "Epoch 23/25\n",
      "122/122 [==============================] - 0s 548us/step - loss: 0.0446 - accuracy: 0.9892 - val_loss: 0.0772 - val_accuracy: 0.9738\n",
      "Epoch 24/25\n",
      "122/122 [==============================] - 0s 531us/step - loss: 0.0510 - accuracy: 0.9872 - val_loss: 0.0506 - val_accuracy: 0.9854\n",
      "Epoch 25/25\n",
      "122/122 [==============================] - 0s 523us/step - loss: 0.0382 - accuracy: 0.9910 - val_loss: 0.0401 - val_accuracy: 0.9908\n"
     ]
    }
   ],
   "source": [
    "#와인 데이터세트에 대한 분류 학습 모델 학습\n",
    "history = model.fit(train_X, train_Y, epochs=25, batch_size=32, validation_split=0.25)"
   ]
  },
  {
   "cell_type": "code",
   "execution_count": 17,
   "metadata": {},
   "outputs": [
    {
     "data": {
      "image/png": "[encoded data removed]",
      "text/plain": [
       "<Figure size 864x288 with 2 Axes>"
      ]
     },
     "metadata": {
      "needs_background": "light"
     },
     "output_type": "display_data"
    }
   ],
   "source": [
    "# 분류 모델의 학습 결과 시각화\n",
    "import matplotlib.pyplot as plt\n",
    "plt.figure(figsize=(12,4))\n",
    "\n",
    "plt.subplot(1,2,1)\n",
    "plt.plot(history.history['loss'], 'b-', label='loss')\n",
    "plt.plot(history.history['val_loss'], 'r--', label='val_loss')\n",
    "plt.xlabel('Epoch')\n",
    "plt.legend()\n",
    "\n",
    "plt.subplot(1,2,2)\n",
    "plt.plot(history.history['accuracy'], 'g-', label='accuracy')\n",
    "plt.plot(history.history['val_accuracy'], 'k--', label='val_accuracy')\n",
    "plt.xlabel('Epoch')\n",
    "plt.ylim(0.7, 1)\n",
    "plt.legend()\n",
    "\n",
    "plt.show()"
   ]
  },
  {
   "cell_type": "code",
   "execution_count": 19,
   "metadata": {},
   "outputs": [
    {
     "name": "stdout",
     "output_type": "stream",
     "text": [
      "41/41 [==============================] - 0s 341us/step - loss: 0.0220 - accuracy: 0.9931\n"
     ]
    },
    {
     "data": {
      "text/plain": [
       "[0.021978190168738365, 0.9930769205093384]"
      ]
     },
     "execution_count": 19,
     "metadata": {},
     "output_type": "execute_result"
    }
   ],
   "source": [
    "# 분류 모델 평가\n",
    "\n",
    "model.evaluate(test_X, test_Y)"
   ]
  },
  {
   "cell_type": "markdown",
   "metadata": {},
   "source": [
    "## 5.2 다항 분류"
   ]
  },
  {
   "cell_type": "code",
   "execution_count": null,
   "metadata": {},
   "outputs": [],
   "source": []
  }
 ],
 "metadata": {
  "kernelspec": {
   "display_name": "new",
   "language": "python",
   "name": "new"
  },
  "language_info": {
   "codemirror_mode": {
    "name": "ipython",
    "version": 3
   },
   "file_extension": ".py",
   "mimetype": "text/x-python",
   "name": "python",
   "nbconvert_exporter": "python",
   "pygments_lexer": "ipython3",
   "version": "3.8.5"
  }
 },
 "nbformat": 4,
 "nbformat_minor": 4
}
