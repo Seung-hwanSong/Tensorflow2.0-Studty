{
 "cells": [
  {
   "cell_type": "markdown",
   "id": "225123b1",
   "metadata": {},
   "source": [
    "### Jupyter Notebook 단축키\n",
    "- ctrl+enter: 셀 실행\n",
    "- shift+enter: 셀 실행 및 다음 셀 이동\n",
    "- alt+enter: 셀 실행, 다음 셀 이동, 새로운 셀 생성\n",
    "- a: 상단에 새로운 셀 만들기\n",
    "- b: 하단에 새로운 셀 만들기\n",
    "- dd: 셀 삭제(x: 셀 삭제)\n",
    "- esc: 셀 나가기\n",
    "- m: 마크다운 셀로 바꾸기\n",
    "- y: 마크다운 셀을 다시 Code로 바꾸기"
   ]
  },
  {
   "cell_type": "markdown",
   "id": "d521511b",
   "metadata": {},
   "source": [
    "# 07장_순환신경망"
   ]
  },
  {
   "cell_type": "markdown",
   "id": "a1373d04",
   "metadata": {},
   "source": [
    "### 7.1 순환 신경망의 구조\n",
    "* 출력 값이 다음 입력을 받을 때의 RNN 네트워크에도 동일하게 전달\n",
    "* 입력과 출력의 길이에 제한이 없음"
   ]
  },
  {
   "cell_type": "markdown",
   "id": "5c1e0113",
   "metadata": {},
   "source": [
    "### 7.2 주요 레이어 정리"
   ]
  },
  {
   "cell_type": "code",
   "execution_count": 2,
   "id": "db8025cc",
   "metadata": {},
   "outputs": [],
   "source": [
    "# SimpleRNN 레이어를 생성하는 코드\n",
    "\n",
    "import tensorflow as tf\n",
    "\n",
    "rnn1 = tf.keras.layers.SimpleRNN(units=1, activation='tanh', return_sequences = True)"
   ]
  },
  {
   "cell_type": "code",
   "execution_count": 3,
   "id": "8e7fb93a",
   "metadata": {},
   "outputs": [
    {
     "name": "stdout",
     "output_type": "stream",
     "text": [
      "[[0. ]\n",
      " [0.1]\n",
      " [0.2]\n",
      " [0.3]] 0.4\n",
      "[[0.1]\n",
      " [0.2]\n",
      " [0.3]\n",
      " [0.4]] 0.5\n",
      "[[0.2]\n",
      " [0.3]\n",
      " [0.4]\n",
      " [0.5]] 0.6\n",
      "[[0.3]\n",
      " [0.4]\n",
      " [0.5]\n",
      " [0.6]] 0.7\n",
      "[[0.4]\n",
      " [0.5]\n",
      " [0.6]\n",
      " [0.7]] 0.8\n",
      "[[0.5]\n",
      " [0.6]\n",
      " [0.7]\n",
      " [0.8]] 0.9\n"
     ]
    }
   ],
   "source": [
    "# 앞쪽 4개의 숫자가 주어졌을 때 그 다음에 올 숫자를 예측하는 간단한 \"시퀀스 예측 모델\" 만들기\n",
    "# 시퀀스 예측 데이터 생성\n",
    "\n",
    "import numpy as np\n",
    "\n",
    "\n",
    "X = []\n",
    "Y = []\n",
    "for i in range(6):\n",
    "    # [0, 1, 2, 3], [1, 2, 3, 4] 같은 정수의 시퀀스를 만들기\n",
    "    lst = list(range(i, i+4))\n",
    "    \n",
    "    # 위에서 구한 시퀀스의 숫자들을 각각 10으로 나눈 다음 저장\n",
    "    # SimpleRNN에 각 타임스텝에 하나씩 숫자가 들어가기 때문에 여기서도 하나씩 분리해서 배열에 저장\n",
    "    X.append(list(map(lambda c: [c/10], lst)))\n",
    "    \n",
    "    # 정답에 해당하는 4, 5 등의 정수 역시 앞에서처럼 10으로 나눠서 저장\n",
    "    Y.append((i+4)/10)\n",
    "    \n",
    "X = np.array(X)\n",
    "Y = np.array(Y)\n",
    "for i in range(len(X)):\n",
    "    print(X[i], Y[i])"
   ]
  },
  {
   "cell_type": "code",
   "execution_count": 4,
   "id": "1eba1c29",
   "metadata": {},
   "outputs": [
    {
     "name": "stdout",
     "output_type": "stream",
     "text": [
      "Model: \"sequential\"\n",
      "_________________________________________________________________\n",
      "Layer (type)                 Output Shape              Param #   \n",
      "=================================================================\n",
      "simple_rnn_1 (SimpleRNN)     (None, 10)                120       \n",
      "_________________________________________________________________\n",
      "dense (Dense)                (None, 1)                 11        \n",
      "=================================================================\n",
      "Total params: 131\n",
      "Trainable params: 131\n",
      "Non-trainable params: 0\n",
      "_________________________________________________________________\n"
     ]
    }
   ],
   "source": [
    "# 시퀀스 예측 모델 정의\n",
    "model = tf.keras.Sequential([\n",
    "    tf.keras.layers.SimpleRNN(units=10, return_sequences=False, input_shape=[4,1]),\n",
    "    tf.keras.layers.Dense(1)\n",
    "])\n",
    "\n",
    "model.compile(optimizer='adam', loss='mse')\n",
    "model.summary()"
   ]
  },
  {
   "cell_type": "code",
   "execution_count": 5,
   "id": "acd690fa",
   "metadata": {},
   "outputs": [
    {
     "name": "stdout",
     "output_type": "stream",
     "text": [
      "[[0.38317966]\n",
      " [0.5083335 ]\n",
      " [0.61963606]\n",
      " [0.71585083]\n",
      " [0.79717815]\n",
      " [0.8647087 ]]\n"
     ]
    }
   ],
   "source": [
    "# 네트워크 훈련 및 결과 확인\n",
    "\n",
    "model.fit(X, Y, epochs=100, verbose=0) # verbose 몹션을 통해 출력 나오지 않게 설정 가능\n",
    "print(model.predict(X))"
   ]
  },
  {
   "cell_type": "code",
   "execution_count": 6,
   "id": "c3bde350",
   "metadata": {},
   "outputs": [
    {
     "name": "stdout",
     "output_type": "stream",
     "text": [
      "[[0.9199383]]\n",
      "[[0.24722119]]\n"
     ]
    }
   ],
   "source": [
    "# 학습되지 ㅇ낳은 시퀀스에 대한 예측 결과\n",
    "\n",
    "print(model.predict(np.array([[[0.6], [0.7], [0.8], [0.9]]])))\n",
    "print(model.predict(np.array([[[-0.1], [0.0], [0.1], [0.2]]])))"
   ]
  },
  {
   "cell_type": "code",
   "execution_count": 7,
   "id": "ede93f80",
   "metadata": {},
   "outputs": [
    {
     "name": "stdout",
     "output_type": "stream",
     "text": [
      "[[0.         0.27140951]\n",
      " [0.         0.87774051]\n",
      " [0.         0.22931339]\n",
      " [0.         0.21079003]\n",
      " [0.         0.85773838]\n",
      " [0.         0.30542988]\n",
      " [0.         0.38165361]\n",
      " [0.         0.74604963]\n",
      " [0.         0.16056048]\n",
      " [0.         0.66008196]\n",
      " [0.         0.46552435]\n",
      " [0.         0.92277373]\n",
      " [0.         0.35260187]\n",
      " [0.         0.33324927]\n",
      " [0.         0.56963377]\n",
      " [0.         0.95618467]\n",
      " [0.         0.83921481]\n",
      " [0.         0.19033361]\n",
      " [0.         0.67925662]\n",
      " [0.         0.30379556]\n",
      " [0.         0.6805382 ]\n",
      " [0.         0.54261461]\n",
      " [0.         0.5165187 ]\n",
      " [0.         0.84850067]\n",
      " [0.         0.1186904 ]\n",
      " [0.         0.00452285]\n",
      " [0.         0.76859805]\n",
      " [0.         0.06961205]\n",
      " [0.         0.53268643]\n",
      " [0.         0.20031684]\n",
      " [0.         0.13555111]\n",
      " [1.         0.98705913]\n",
      " [0.         0.88106854]\n",
      " [0.         0.89755654]\n",
      " [0.         0.87931753]\n",
      " [0.         0.59217937]\n",
      " [0.         0.66226849]\n",
      " [0.         0.56949874]\n",
      " [0.         0.41850031]\n",
      " [0.         0.15974062]\n",
      " [0.         0.68517385]\n",
      " [0.         0.81250809]\n",
      " [0.         0.36611166]\n",
      " [0.         0.74292231]\n",
      " [0.         0.34399713]\n",
      " [0.         0.58687559]\n",
      " [0.         0.40853494]\n",
      " [0.         0.65717226]\n",
      " [0.         0.02324754]\n",
      " [0.         0.65256907]\n",
      " [0.         0.32840692]\n",
      " [0.         0.87225898]\n",
      " [0.         0.4668999 ]\n",
      " [0.         0.97042426]\n",
      " [0.         0.83088732]\n",
      " [0.         0.97435508]\n",
      " [0.         0.39446897]\n",
      " [0.         0.37377395]\n",
      " [0.         0.41689637]\n",
      " [1.         0.7315588 ]\n",
      " [0.         0.51412117]\n",
      " [0.         0.51775559]\n",
      " [0.         0.8827812 ]\n",
      " [0.         0.45460335]\n",
      " [0.         0.8239569 ]\n",
      " [0.         0.9889987 ]\n",
      " [0.         0.24852443]\n",
      " [0.         0.65168389]\n",
      " [0.         0.25992289]\n",
      " [0.         0.05765281]\n",
      " [0.         0.77612321]\n",
      " [0.         0.13076544]\n",
      " [0.         0.96628097]\n",
      " [0.         0.82363108]\n",
      " [0.         0.52378413]\n",
      " [0.         0.33020874]\n",
      " [0.         0.60839375]\n",
      " [0.         0.62246662]\n",
      " [0.         0.60960589]\n",
      " [0.         0.80008555]\n",
      " [0.         0.73168147]\n",
      " [0.         0.04879448]\n",
      " [0.         0.29990117]\n",
      " [0.         0.67036348]\n",
      " [0.         0.17305678]\n",
      " [0.         0.98472188]\n",
      " [0.         0.27094099]\n",
      " [0.         0.39892967]\n",
      " [0.         0.37219377]\n",
      " [0.         0.96050555]\n",
      " [0.         0.92991736]\n",
      " [0.         0.98211443]\n",
      " [0.         0.27198775]\n",
      " [0.         0.05818336]\n",
      " [0.         0.59720875]\n",
      " [0.         0.74237279]\n",
      " [0.         0.29911142]\n",
      " [0.         0.10646627]\n",
      " [0.         0.64352274]\n",
      " [0.         0.16544953]] 0.7220917916178867\n"
     ]
    }
   ],
   "source": [
    "# SimpleRNN 레이어는 입력 데이터가 길어질수록, 즉 데이터의 타임스텝이 커질수록 학습 능력이 떨어지는 문제가 존재\n",
    "# 이를 해결하기 위해 LSTM 레이어 사용\n",
    "\n",
    "# 곱셈 문제 데이터 생성\n",
    "X = []\n",
    "Y = []\n",
    "for i in range(3000):\n",
    "    # 0 ~ 1 범위의 랜덤한 숫자 100개를 만듭니다.\n",
    "    lst = np.random.rand(100)\n",
    "    # 마킹할 숫자 2개의 인덱스를 뽑습니다.\n",
    "    idx = np.random.choice(100, 2, replace=False)\n",
    "    #마킹 인덱스가 저장된 원-핫 인코딩 벡터를 만듭니다.\n",
    "    zeros = np.zeros(100)\n",
    "    zeros[idx] = 1\n",
    "    # 마킹 인덱스와 랜덤한 숫자를 합쳐서 X에 저장합니다.\n",
    "    X.append(np.array(list(zip(zeros, lst))))\n",
    "    # 마킹 인덱스가 1인 값만 서로 곱해서 Y에 저장ㅎ바니다.\n",
    "    Y.append(np.prod(lst[idx]))\n",
    "    \n",
    "print(X[0], Y[0])"
   ]
  },
  {
   "cell_type": "code",
   "execution_count": 9,
   "id": "53124ba8",
   "metadata": {},
   "outputs": [
    {
     "name": "stdout",
     "output_type": "stream",
     "text": [
      "Model: \"sequential_2\"\n",
      "_________________________________________________________________\n",
      "Layer (type)                 Output Shape              Param #   \n",
      "=================================================================\n",
      "simple_rnn_4 (SimpleRNN)     (None, 100, 30)           990       \n",
      "_________________________________________________________________\n",
      "simple_rnn_5 (SimpleRNN)     (None, 30)                1830      \n",
      "_________________________________________________________________\n",
      "dense_2 (Dense)              (None, 1)                 31        \n",
      "=================================================================\n",
      "Total params: 2,851\n",
      "Trainable params: 2,851\n",
      "Non-trainable params: 0\n",
      "_________________________________________________________________\n"
     ]
    }
   ],
   "source": [
    "# SimpleRNN 레이어를 이용한 곱셈 문제 모델 정의\n",
    "\n",
    "model = tf.keras.Sequential([\n",
    "    tf.keras.layers.SimpleRNN(units=30, return_sequences=True, input_shape=[100,2]),\n",
    "    tf.keras.layers.SimpleRNN(units=30),\n",
    "    tf.keras.layers.Dense(1)\n",
    "])\n",
    "\n",
    "model.compile(optimizer='adam', loss='mse')\n",
    "model.summary()"
   ]
  },
  {
   "cell_type": "code",
   "execution_count": 10,
   "id": "adf53e3b",
   "metadata": {},
   "outputs": [
    {
     "name": "stdout",
     "output_type": "stream",
     "text": [
      "Epoch 1/100\n",
      "64/64 [==============================] - 2s 15ms/step - loss: 0.0661 - val_loss: 0.0509\n",
      "Epoch 2/100\n",
      "64/64 [==============================] - 1s 12ms/step - loss: 0.0546 - val_loss: 0.0504\n",
      "Epoch 3/100\n",
      "64/64 [==============================] - 1s 12ms/step - loss: 0.0548 - val_loss: 0.0507\n",
      "Epoch 4/100\n",
      "64/64 [==============================] - 1s 12ms/step - loss: 0.0551 - val_loss: 0.0526\n",
      "Epoch 5/100\n",
      "64/64 [==============================] - 1s 12ms/step - loss: 0.0533 - val_loss: 0.0501\n",
      "Epoch 6/100\n",
      "64/64 [==============================] - 1s 12ms/step - loss: 0.0528 - val_loss: 0.0492\n",
      "Epoch 7/100\n",
      "64/64 [==============================] - 1s 12ms/step - loss: 0.0528 - val_loss: 0.0510\n",
      "Epoch 8/100\n",
      "64/64 [==============================] - 1s 12ms/step - loss: 0.0533 - val_loss: 0.0504\n",
      "Epoch 9/100\n",
      "64/64 [==============================] - 1s 12ms/step - loss: 0.0538 - val_loss: 0.0526\n",
      "Epoch 10/100\n",
      "64/64 [==============================] - 1s 12ms/step - loss: 0.0548 - val_loss: 0.0494\n",
      "Epoch 11/100\n",
      "64/64 [==============================] - 1s 12ms/step - loss: 0.0539 - val_loss: 0.0498\n",
      "Epoch 12/100\n",
      "64/64 [==============================] - 1s 12ms/step - loss: 0.0532 - val_loss: 0.0493\n",
      "Epoch 13/100\n",
      "64/64 [==============================] - 1s 12ms/step - loss: 0.0533 - val_loss: 0.0490\n",
      "Epoch 14/100\n",
      "64/64 [==============================] - 1s 12ms/step - loss: 0.0526 - val_loss: 0.0494\n",
      "Epoch 15/100\n",
      "64/64 [==============================] - 1s 13ms/step - loss: 0.0534 - val_loss: 0.0537\n",
      "Epoch 16/100\n",
      "64/64 [==============================] - 1s 12ms/step - loss: 0.0527 - val_loss: 0.0497\n",
      "Epoch 17/100\n",
      "64/64 [==============================] - 1s 12ms/step - loss: 0.0528 - val_loss: 0.0489\n",
      "Epoch 18/100\n",
      "64/64 [==============================] - 1s 12ms/step - loss: 0.0529 - val_loss: 0.0502\n",
      "Epoch 19/100\n",
      "64/64 [==============================] - 1s 12ms/step - loss: 0.0528 - val_loss: 0.0497\n",
      "Epoch 20/100\n",
      "64/64 [==============================] - 1s 12ms/step - loss: 0.0534 - val_loss: 0.0504\n",
      "Epoch 21/100\n",
      "64/64 [==============================] - 1s 12ms/step - loss: 0.0534 - val_loss: 0.0513\n",
      "Epoch 22/100\n",
      "64/64 [==============================] - 1s 12ms/step - loss: 0.0526 - val_loss: 0.0498\n",
      "Epoch 23/100\n",
      "64/64 [==============================] - 1s 12ms/step - loss: 0.0524 - val_loss: 0.0508\n",
      "Epoch 24/100\n",
      "64/64 [==============================] - 1s 12ms/step - loss: 0.0527 - val_loss: 0.0494\n",
      "Epoch 25/100\n",
      "64/64 [==============================] - 1s 12ms/step - loss: 0.0524 - val_loss: 0.0507\n",
      "Epoch 26/100\n",
      "64/64 [==============================] - 1s 12ms/step - loss: 0.0527 - val_loss: 0.0508\n",
      "Epoch 27/100\n",
      "64/64 [==============================] - 1s 12ms/step - loss: 0.0524 - val_loss: 0.0496\n",
      "Epoch 28/100\n",
      "64/64 [==============================] - 1s 12ms/step - loss: 0.0530 - val_loss: 0.0504\n",
      "Epoch 29/100\n",
      "64/64 [==============================] - 1s 12ms/step - loss: 0.0513 - val_loss: 0.0503\n",
      "Epoch 30/100\n",
      "64/64 [==============================] - 1s 12ms/step - loss: 0.0515 - val_loss: 0.0491\n",
      "Epoch 31/100\n",
      "64/64 [==============================] - 1s 12ms/step - loss: 0.0519 - val_loss: 0.0552\n",
      "Epoch 32/100\n",
      "64/64 [==============================] - 1s 12ms/step - loss: 0.0517 - val_loss: 0.0525\n",
      "Epoch 33/100\n",
      "64/64 [==============================] - 1s 12ms/step - loss: 0.0510 - val_loss: 0.0500\n",
      "Epoch 34/100\n",
      "64/64 [==============================] - 1s 12ms/step - loss: 0.0502 - val_loss: 0.0497\n",
      "Epoch 35/100\n",
      "64/64 [==============================] - 1s 12ms/step - loss: 0.0501 - val_loss: 0.0503\n",
      "Epoch 36/100\n",
      "64/64 [==============================] - 1s 12ms/step - loss: 0.0499 - val_loss: 0.0497\n",
      "Epoch 37/100\n",
      "64/64 [==============================] - 1s 12ms/step - loss: 0.0496 - val_loss: 0.0506\n",
      "Epoch 38/100\n",
      "64/64 [==============================] - 1s 12ms/step - loss: 0.0500 - val_loss: 0.0512\n",
      "Epoch 39/100\n",
      "64/64 [==============================] - 1s 12ms/step - loss: 0.0503 - val_loss: 0.0524\n",
      "Epoch 40/100\n",
      "64/64 [==============================] - 1s 12ms/step - loss: 0.0511 - val_loss: 0.0507\n",
      "Epoch 41/100\n",
      "64/64 [==============================] - 1s 12ms/step - loss: 0.0512 - val_loss: 0.0505\n",
      "Epoch 42/100\n",
      "64/64 [==============================] - 1s 12ms/step - loss: 0.0495 - val_loss: 0.0503\n",
      "Epoch 43/100\n",
      "64/64 [==============================] - 1s 12ms/step - loss: 0.0479 - val_loss: 0.0494\n",
      "Epoch 44/100\n",
      "64/64 [==============================] - 1s 12ms/step - loss: 0.0477 - val_loss: 0.0509\n",
      "Epoch 45/100\n",
      "64/64 [==============================] - 1s 12ms/step - loss: 0.0488 - val_loss: 0.0509\n",
      "Epoch 46/100\n",
      "64/64 [==============================] - 1s 12ms/step - loss: 0.0473 - val_loss: 0.0556\n",
      "Epoch 47/100\n",
      "64/64 [==============================] - 1s 12ms/step - loss: 0.0479 - val_loss: 0.0510\n",
      "Epoch 48/100\n",
      "64/64 [==============================] - 1s 12ms/step - loss: 0.0483 - val_loss: 0.0509\n",
      "Epoch 49/100\n",
      "64/64 [==============================] - 1s 12ms/step - loss: 0.0472 - val_loss: 0.0504\n",
      "Epoch 50/100\n",
      "64/64 [==============================] - 1s 12ms/step - loss: 0.0463 - val_loss: 0.0516\n",
      "Epoch 51/100\n",
      "64/64 [==============================] - 1s 12ms/step - loss: 0.0472 - val_loss: 0.0507\n",
      "Epoch 52/100\n",
      "64/64 [==============================] - 1s 12ms/step - loss: 0.0465 - val_loss: 0.0503\n",
      "Epoch 53/100\n",
      "64/64 [==============================] - 1s 12ms/step - loss: 0.0465 - val_loss: 0.0520\n",
      "Epoch 54/100\n",
      "64/64 [==============================] - 1s 12ms/step - loss: 0.0449 - val_loss: 0.0491\n",
      "Epoch 55/100\n",
      "64/64 [==============================] - 1s 12ms/step - loss: 0.0441 - val_loss: 0.0539\n",
      "Epoch 56/100\n",
      "64/64 [==============================] - 1s 12ms/step - loss: 0.0454 - val_loss: 0.0514\n",
      "Epoch 57/100\n",
      "64/64 [==============================] - 1s 12ms/step - loss: 0.0439 - val_loss: 0.0536\n",
      "Epoch 58/100\n",
      "64/64 [==============================] - 1s 12ms/step - loss: 0.0440 - val_loss: 0.0521\n",
      "Epoch 59/100\n",
      "64/64 [==============================] - 1s 12ms/step - loss: 0.0440 - val_loss: 0.0498\n",
      "Epoch 60/100\n",
      "64/64 [==============================] - 1s 12ms/step - loss: 0.0436 - val_loss: 0.0505\n",
      "Epoch 61/100\n",
      "64/64 [==============================] - 1s 12ms/step - loss: 0.0427 - val_loss: 0.0511\n",
      "Epoch 62/100\n",
      "64/64 [==============================] - 1s 12ms/step - loss: 0.0428 - val_loss: 0.0514\n",
      "Epoch 63/100\n",
      "64/64 [==============================] - 1s 12ms/step - loss: 0.0423 - val_loss: 0.0535\n",
      "Epoch 64/100\n",
      "64/64 [==============================] - 1s 12ms/step - loss: 0.0416 - val_loss: 0.0562\n",
      "Epoch 65/100\n",
      "64/64 [==============================] - 1s 12ms/step - loss: 0.0416 - val_loss: 0.0509\n",
      "Epoch 66/100\n",
      "64/64 [==============================] - 1s 12ms/step - loss: 0.0402 - val_loss: 0.0578\n",
      "Epoch 67/100\n",
      "64/64 [==============================] - 1s 12ms/step - loss: 0.0397 - val_loss: 0.0509\n",
      "Epoch 68/100\n",
      "64/64 [==============================] - 1s 12ms/step - loss: 0.0391 - val_loss: 0.0531\n",
      "Epoch 69/100\n",
      "64/64 [==============================] - 1s 12ms/step - loss: 0.0388 - val_loss: 0.0486\n",
      "Epoch 70/100\n",
      "64/64 [==============================] - 1s 12ms/step - loss: 0.0376 - val_loss: 0.0523\n",
      "Epoch 71/100\n",
      "64/64 [==============================] - 1s 12ms/step - loss: 0.0385 - val_loss: 0.0512\n",
      "Epoch 72/100\n",
      "64/64 [==============================] - 1s 12ms/step - loss: 0.0378 - val_loss: 0.0473\n",
      "Epoch 73/100\n",
      "64/64 [==============================] - 1s 12ms/step - loss: 0.0375 - val_loss: 0.0533\n",
      "Epoch 74/100\n",
      "64/64 [==============================] - 1s 12ms/step - loss: 0.0370 - val_loss: 0.0633\n",
      "Epoch 75/100\n",
      "64/64 [==============================] - 1s 12ms/step - loss: 0.0358 - val_loss: 0.0518\n",
      "Epoch 76/100\n",
      "64/64 [==============================] - 1s 12ms/step - loss: 0.0365 - val_loss: 0.0581\n",
      "Epoch 77/100\n",
      "64/64 [==============================] - 1s 12ms/step - loss: 0.0370 - val_loss: 0.0504\n",
      "Epoch 78/100\n",
      "64/64 [==============================] - 1s 12ms/step - loss: 0.0352 - val_loss: 0.0503\n",
      "Epoch 79/100\n",
      "64/64 [==============================] - 1s 12ms/step - loss: 0.0348 - val_loss: 0.0515\n",
      "Epoch 80/100\n",
      "64/64 [==============================] - 1s 12ms/step - loss: 0.0354 - val_loss: 0.0492\n",
      "Epoch 81/100\n",
      "64/64 [==============================] - 1s 12ms/step - loss: 0.0327 - val_loss: 0.0480\n",
      "Epoch 82/100\n",
      "64/64 [==============================] - 1s 12ms/step - loss: 0.0348 - val_loss: 0.0532\n",
      "Epoch 83/100\n",
      "64/64 [==============================] - 1s 12ms/step - loss: 0.0331 - val_loss: 0.0488\n",
      "Epoch 84/100\n",
      "64/64 [==============================] - 1s 12ms/step - loss: 0.0325 - val_loss: 0.0509\n",
      "Epoch 85/100\n",
      "64/64 [==============================] - 1s 12ms/step - loss: 0.0326 - val_loss: 0.0477\n",
      "Epoch 86/100\n",
      "64/64 [==============================] - 1s 12ms/step - loss: 0.0340 - val_loss: 0.0498\n",
      "Epoch 87/100\n",
      "64/64 [==============================] - 1s 12ms/step - loss: 0.0317 - val_loss: 0.0510\n",
      "Epoch 88/100\n",
      "64/64 [==============================] - 1s 12ms/step - loss: 0.0315 - val_loss: 0.0476\n",
      "Epoch 89/100\n",
      "64/64 [==============================] - 1s 12ms/step - loss: 0.0326 - val_loss: 0.0458\n",
      "Epoch 90/100\n",
      "64/64 [==============================] - 1s 12ms/step - loss: 0.0318 - val_loss: 0.0458\n",
      "Epoch 91/100\n",
      "64/64 [==============================] - 1s 12ms/step - loss: 0.0287 - val_loss: 0.0446\n",
      "Epoch 92/100\n",
      "64/64 [==============================] - 1s 12ms/step - loss: 0.0344 - val_loss: 0.0529\n",
      "Epoch 93/100\n",
      "64/64 [==============================] - 1s 12ms/step - loss: 0.0294 - val_loss: 0.0502\n",
      "Epoch 94/100\n",
      "64/64 [==============================] - 1s 12ms/step - loss: 0.0316 - val_loss: 0.0473\n",
      "Epoch 95/100\n",
      "64/64 [==============================] - 1s 12ms/step - loss: 0.0278 - val_loss: 0.0482\n",
      "Epoch 96/100\n",
      "64/64 [==============================] - 1s 12ms/step - loss: 0.0294 - val_loss: 0.0540\n",
      "Epoch 97/100\n",
      "64/64 [==============================] - 1s 12ms/step - loss: 0.0320 - val_loss: 0.0491\n",
      "Epoch 98/100\n",
      "64/64 [==============================] - 1s 12ms/step - loss: 0.0308 - val_loss: 0.0503\n",
      "Epoch 99/100\n",
      "64/64 [==============================] - 1s 12ms/step - loss: 0.0363 - val_loss: 0.0459\n",
      "Epoch 100/100\n",
      "64/64 [==============================] - 1s 12ms/step - loss: 0.0300 - val_loss: 0.0438\n"
     ]
    }
   ],
   "source": [
    "# SimpleRNN 네트워크 학습\n",
    "\n",
    "X = np.array(X)\n",
    "Y = np.array(Y)\n",
    "#2560개의 데이터만 학습시킵니다. 검증 데이터는 20%로 지정합니다.\n",
    "history = model.fit(X[:2560], Y[:2560], epochs=100, validation_split=0.2)"
   ]
  },
  {
   "cell_type": "code",
   "execution_count": 11,
   "id": "a2dbb988",
   "metadata": {},
   "outputs": [
    {
     "data": {
      "image/png": "[encoded data removed]",
      "text/plain": [
       "<Figure size 432x288 with 1 Axes>"
      ]
     },
     "metadata": {
      "needs_background": "light"
     },
     "output_type": "display_data"
    }
   ],
   "source": [
    "# SimpleRNN 네트워크 학습 결과 확인\n",
    "# 과적합\n",
    "\n",
    "import matplotlib.pyplot as plt\n",
    "plt.plot(history.history['loss'], 'b-', label='loss')\n",
    "plt.plot(history.history['val_loss'], 'r--', label='val_loss')\n",
    "plt.xlabel('Epoch')\n",
    "plt.legend()\n",
    "plt.show()"
   ]
  },
  {
   "cell_type": "code",
   "execution_count": 12,
   "id": "b8671d12",
   "metadata": {},
   "outputs": [
    {
     "name": "stdout",
     "output_type": "stream",
     "text": [
      "14/14 [==============================] - 0s 4ms/step - loss: 0.0455\n",
      "0.045873082416488235 \t 0.21885745 \tdiff: 0.1729843698568806\n",
      "0.5029060033208358 \t 0.048603952 \tdiff: 0.45430205138983604\n",
      "0.16057937106870665 \t 0.14410658 \tdiff: 0.016472789261570114\n",
      "0.15338785666583415 \t 0.105970934 \tdiff: 0.047416922632440295\n",
      "0.004047173275358534 \t 0.22814037 \tdiff: 0.2240931957822968\n",
      "correctness: 13.636363636363635 %\n"
     ]
    }
   ],
   "source": [
    "# 테스트 데이터에 대한 예측 정확도 확인\n",
    "# 논문에서는 오차가 0.04 이상일 때 오답으로 처리\n",
    "\n",
    "model.evaluate(X[2560:], Y[2560:])\n",
    "prediction = model.predict(X[2560:2560+5])\n",
    "# 5개 테스트 데이터에 대한 예측을 표시합니다.\n",
    "for i in range(5):\n",
    "    print(Y[2560+i], '\\t', prediction[i][0], '\\tdiff:', abs(prediction[i][0] - Y[2560+i]))\n",
    "    \n",
    "prediction = model.predict(X[2560:])\n",
    "fail = 0\n",
    "for i in range(len(prediction)):\n",
    "    # 오차가 0.04 이상이면 오답입니다.\n",
    "    if abs(prediction[i][0] - Y[2560+i]) > 0.04:\n",
    "        fail += 1 \n",
    "print('correctness:', (440-fail) / 440 * 100, '%')"
   ]
  },
  {
   "cell_type": "code",
   "execution_count": 13,
   "id": "ccdde373",
   "metadata": {},
   "outputs": [
    {
     "name": "stdout",
     "output_type": "stream",
     "text": [
      "Model: \"sequential_3\"\n",
      "_________________________________________________________________\n",
      "Layer (type)                 Output Shape              Param #   \n",
      "=================================================================\n",
      "lstm (LSTM)                  (None, 100, 30)           3960      \n",
      "_________________________________________________________________\n",
      "lstm_1 (LSTM)                (None, 30)                7320      \n",
      "_________________________________________________________________\n",
      "dense_3 (Dense)              (None, 1)                 31        \n",
      "=================================================================\n",
      "Total params: 11,311\n",
      "Trainable params: 11,311\n",
      "Non-trainable params: 0\n",
      "_________________________________________________________________\n"
     ]
    }
   ],
   "source": [
    "# LSTM 레이어를 이용한 곱셈 문제 모델 정의 \n",
    "\n",
    "model = tf.keras.Sequential([\n",
    "    tf.keras.layers.LSTM(units=30, return_sequences=True, input_shape=[100,2]),\n",
    "    tf.keras.layers.LSTM(units=30),\n",
    "    tf.keras.layers.Dense(1)\n",
    "])\n",
    "\n",
    "model.compile(optimizer='adam', loss='mse')\n",
    "model.summary()"
   ]
  },
  {
   "cell_type": "code",
   "execution_count": 14,
   "id": "d2a735c5",
   "metadata": {},
   "outputs": [
    {
     "name": "stdout",
     "output_type": "stream",
     "text": [
      "Epoch 1/100\n",
      "64/64 [==============================] - 3s 27ms/step - loss: 0.0565 - val_loss: 0.0486\n",
      "Epoch 2/100\n",
      "64/64 [==============================] - 1s 20ms/step - loss: 0.0530 - val_loss: 0.0491\n",
      "Epoch 3/100\n",
      "64/64 [==============================] - 1s 20ms/step - loss: 0.0528 - val_loss: 0.0487\n",
      "Epoch 4/100\n",
      "64/64 [==============================] - 1s 20ms/step - loss: 0.0525 - val_loss: 0.0492\n",
      "Epoch 5/100\n",
      "64/64 [==============================] - 1s 20ms/step - loss: 0.0528 - val_loss: 0.0486\n",
      "Epoch 6/100\n",
      "64/64 [==============================] - 1s 21ms/step - loss: 0.0526 - val_loss: 0.0489\n",
      "Epoch 7/100\n",
      "64/64 [==============================] - 1s 21ms/step - loss: 0.0524 - val_loss: 0.0487\n",
      "Epoch 8/100\n",
      "64/64 [==============================] - 1s 21ms/step - loss: 0.0529 - val_loss: 0.0499\n",
      "Epoch 9/100\n",
      "64/64 [==============================] - 1s 20ms/step - loss: 0.0529 - val_loss: 0.0485\n",
      "Epoch 10/100\n",
      "64/64 [==============================] - 1s 20ms/step - loss: 0.0525 - val_loss: 0.0497\n",
      "Epoch 11/100\n",
      "64/64 [==============================] - 1s 20ms/step - loss: 0.0526 - val_loss: 0.0487\n",
      "Epoch 12/100\n",
      "64/64 [==============================] - 1s 20ms/step - loss: 0.0524 - val_loss: 0.0486\n",
      "Epoch 13/100\n",
      "64/64 [==============================] - 1s 21ms/step - loss: 0.0523 - val_loss: 0.0486\n",
      "Epoch 14/100\n",
      "64/64 [==============================] - 1s 21ms/step - loss: 0.0522 - val_loss: 0.0485\n",
      "Epoch 15/100\n",
      "64/64 [==============================] - 1s 20ms/step - loss: 0.0523 - val_loss: 0.0484\n",
      "Epoch 16/100\n",
      "64/64 [==============================] - 1s 20ms/step - loss: 0.0522 - val_loss: 0.0493\n",
      "Epoch 17/100\n",
      "64/64 [==============================] - 1s 20ms/step - loss: 0.0524 - val_loss: 0.0487\n",
      "Epoch 18/100\n",
      "64/64 [==============================] - 1s 20ms/step - loss: 0.0523 - val_loss: 0.0486\n",
      "Epoch 19/100\n",
      "64/64 [==============================] - 1s 20ms/step - loss: 0.0523 - val_loss: 0.0485\n",
      "Epoch 20/100\n",
      "64/64 [==============================] - 1s 21ms/step - loss: 0.0527 - val_loss: 0.0494\n",
      "Epoch 21/100\n",
      "64/64 [==============================] - 1s 20ms/step - loss: 0.0527 - val_loss: 0.0488\n",
      "Epoch 22/100\n",
      "64/64 [==============================] - 1s 20ms/step - loss: 0.0528 - val_loss: 0.0490\n",
      "Epoch 23/100\n",
      "64/64 [==============================] - 1s 20ms/step - loss: 0.0523 - val_loss: 0.0484\n",
      "Epoch 24/100\n",
      "64/64 [==============================] - 1s 21ms/step - loss: 0.0525 - val_loss: 0.0484\n",
      "Epoch 25/100\n",
      "64/64 [==============================] - 1s 21ms/step - loss: 0.0523 - val_loss: 0.0483\n",
      "Epoch 26/100\n",
      "64/64 [==============================] - 1s 21ms/step - loss: 0.0524 - val_loss: 0.0482\n",
      "Epoch 27/100\n",
      "64/64 [==============================] - 1s 21ms/step - loss: 0.0523 - val_loss: 0.0485\n",
      "Epoch 28/100\n",
      "64/64 [==============================] - 1s 21ms/step - loss: 0.0520 - val_loss: 0.0480\n",
      "Epoch 29/100\n",
      "64/64 [==============================] - 1s 20ms/step - loss: 0.0525 - val_loss: 0.0498\n",
      "Epoch 30/100\n",
      "64/64 [==============================] - 1s 20ms/step - loss: 0.0527 - val_loss: 0.0489\n",
      "Epoch 31/100\n",
      "64/64 [==============================] - 1s 20ms/step - loss: 0.0524 - val_loss: 0.0481\n",
      "Epoch 32/100\n",
      "64/64 [==============================] - 1s 20ms/step - loss: 0.0520 - val_loss: 0.0480\n",
      "Epoch 33/100\n",
      "64/64 [==============================] - 1s 20ms/step - loss: 0.0519 - val_loss: 0.0480\n",
      "Epoch 34/100\n",
      "64/64 [==============================] - 1s 20ms/step - loss: 0.0520 - val_loss: 0.0479\n",
      "Epoch 35/100\n",
      "64/64 [==============================] - 1s 20ms/step - loss: 0.0517 - val_loss: 0.0475\n",
      "Epoch 36/100\n",
      "64/64 [==============================] - 1s 20ms/step - loss: 0.0516 - val_loss: 0.0478\n",
      "Epoch 37/100\n",
      "64/64 [==============================] - 1s 20ms/step - loss: 0.0531 - val_loss: 0.0484\n",
      "Epoch 38/100\n",
      "64/64 [==============================] - 1s 20ms/step - loss: 0.0523 - val_loss: 0.0482\n",
      "Epoch 39/100\n",
      "64/64 [==============================] - 1s 20ms/step - loss: 0.0519 - val_loss: 0.0479\n",
      "Epoch 40/100\n",
      "64/64 [==============================] - 1s 21ms/step - loss: 0.0519 - val_loss: 0.0495\n",
      "Epoch 41/100\n",
      "64/64 [==============================] - 1s 21ms/step - loss: 0.0518 - val_loss: 0.0480\n",
      "Epoch 42/100\n",
      "64/64 [==============================] - 1s 21ms/step - loss: 0.0506 - val_loss: 0.0449\n",
      "Epoch 43/100\n",
      "64/64 [==============================] - 1s 21ms/step - loss: 0.0594 - val_loss: 0.0492\n",
      "Epoch 44/100\n",
      "64/64 [==============================] - 1s 20ms/step - loss: 0.0517 - val_loss: 0.0481\n",
      "Epoch 45/100\n",
      "64/64 [==============================] - 1s 20ms/step - loss: 0.0516 - val_loss: 0.0481\n",
      "Epoch 46/100\n",
      "64/64 [==============================] - 1s 20ms/step - loss: 0.0517 - val_loss: 0.0482\n",
      "Epoch 47/100\n",
      "64/64 [==============================] - 1s 20ms/step - loss: 0.0514 - val_loss: 0.0480\n",
      "Epoch 48/100\n",
      "64/64 [==============================] - 1s 20ms/step - loss: 0.0511 - val_loss: 0.0473\n",
      "Epoch 49/100\n",
      "64/64 [==============================] - 1s 21ms/step - loss: 0.0509 - val_loss: 0.0469\n",
      "Epoch 50/100\n",
      "64/64 [==============================] - 1s 21ms/step - loss: 0.0501 - val_loss: 0.0452\n",
      "Epoch 51/100\n",
      "64/64 [==============================] - 1s 20ms/step - loss: 0.0554 - val_loss: 0.0496\n",
      "Epoch 52/100\n",
      "64/64 [==============================] - 1s 20ms/step - loss: 0.0516 - val_loss: 0.0477\n",
      "Epoch 53/100\n",
      "64/64 [==============================] - 1s 21ms/step - loss: 0.0513 - val_loss: 0.0476\n",
      "Epoch 54/100\n",
      "64/64 [==============================] - 1s 20ms/step - loss: 0.0512 - val_loss: 0.0472\n",
      "Epoch 55/100\n",
      "64/64 [==============================] - 1s 20ms/step - loss: 0.0508 - val_loss: 0.0469\n",
      "Epoch 56/100\n",
      "64/64 [==============================] - 1s 20ms/step - loss: 0.0505 - val_loss: 0.0466\n",
      "Epoch 57/100\n",
      "64/64 [==============================] - 1s 20ms/step - loss: 0.0497 - val_loss: 0.0495\n",
      "Epoch 58/100\n",
      "64/64 [==============================] - 1s 20ms/step - loss: 0.0526 - val_loss: 0.0455\n",
      "Epoch 59/100\n",
      "64/64 [==============================] - 1s 20ms/step - loss: 0.0502 - val_loss: 0.0455\n",
      "Epoch 60/100\n",
      "64/64 [==============================] - 1s 20ms/step - loss: 0.0487 - val_loss: 0.0445\n",
      "Epoch 61/100\n",
      "64/64 [==============================] - 1s 20ms/step - loss: 0.0471 - val_loss: 0.0431\n",
      "Epoch 62/100\n",
      "64/64 [==============================] - 1s 20ms/step - loss: 0.0409 - val_loss: 0.0342\n",
      "Epoch 63/100\n",
      "64/64 [==============================] - 1s 20ms/step - loss: 0.0229 - val_loss: 0.0341\n",
      "Epoch 64/100\n",
      "64/64 [==============================] - 1s 21ms/step - loss: 0.0317 - val_loss: 0.0193\n",
      "Epoch 65/100\n",
      "64/64 [==============================] - 1s 21ms/step - loss: 0.0118 - val_loss: 0.0105\n",
      "Epoch 66/100\n",
      "64/64 [==============================] - 1s 20ms/step - loss: 0.0104 - val_loss: 0.0096\n",
      "Epoch 67/100\n",
      "64/64 [==============================] - 1s 20ms/step - loss: 0.0079 - val_loss: 0.0070\n",
      "Epoch 68/100\n",
      "64/64 [==============================] - 1s 20ms/step - loss: 0.0070 - val_loss: 0.0109\n",
      "Epoch 69/100\n",
      "64/64 [==============================] - 1s 20ms/step - loss: 0.0091 - val_loss: 0.0069\n",
      "Epoch 70/100\n",
      "64/64 [==============================] - 1s 20ms/step - loss: 0.0056 - val_loss: 0.0049\n",
      "Epoch 71/100\n",
      "64/64 [==============================] - 1s 20ms/step - loss: 0.0059 - val_loss: 0.0048\n",
      "Epoch 72/100\n",
      "64/64 [==============================] - 1s 20ms/step - loss: 0.0049 - val_loss: 0.0047\n",
      "Epoch 73/100\n",
      "64/64 [==============================] - 1s 20ms/step - loss: 0.0061 - val_loss: 0.0047\n",
      "Epoch 74/100\n",
      "64/64 [==============================] - 1s 20ms/step - loss: 0.0055 - val_loss: 0.0070\n",
      "Epoch 75/100\n",
      "64/64 [==============================] - 1s 20ms/step - loss: 0.0044 - val_loss: 0.0044\n",
      "Epoch 76/100\n",
      "64/64 [==============================] - 1s 20ms/step - loss: 0.0046 - val_loss: 0.0035\n",
      "Epoch 77/100\n",
      "64/64 [==============================] - 1s 20ms/step - loss: 0.0041 - val_loss: 0.0048\n",
      "Epoch 78/100\n",
      "64/64 [==============================] - 1s 20ms/step - loss: 0.0040 - val_loss: 0.0031\n",
      "Epoch 79/100\n",
      "64/64 [==============================] - 1s 20ms/step - loss: 0.0030 - val_loss: 0.0027\n",
      "Epoch 80/100\n",
      "64/64 [==============================] - 1s 20ms/step - loss: 0.0042 - val_loss: 0.0042\n",
      "Epoch 81/100\n",
      "64/64 [==============================] - 1s 20ms/step - loss: 0.0040 - val_loss: 0.0028\n",
      "Epoch 82/100\n",
      "64/64 [==============================] - 1s 20ms/step - loss: 0.0035 - val_loss: 0.0053\n",
      "Epoch 83/100\n",
      "64/64 [==============================] - 1s 21ms/step - loss: 0.0030 - val_loss: 0.0024\n",
      "Epoch 84/100\n",
      "64/64 [==============================] - 1s 20ms/step - loss: 0.0035 - val_loss: 0.0028\n",
      "Epoch 85/100\n",
      "64/64 [==============================] - 1s 20ms/step - loss: 0.0026 - val_loss: 0.0036\n",
      "Epoch 86/100\n",
      "64/64 [==============================] - 1s 20ms/step - loss: 0.0034 - val_loss: 0.0021\n",
      "Epoch 87/100\n",
      "64/64 [==============================] - 1s 20ms/step - loss: 0.0021 - val_loss: 0.0019\n",
      "Epoch 88/100\n",
      "64/64 [==============================] - 1s 20ms/step - loss: 0.0025 - val_loss: 0.0024\n",
      "Epoch 89/100\n",
      "64/64 [==============================] - 1s 20ms/step - loss: 0.0021 - val_loss: 0.0022\n",
      "Epoch 90/100\n",
      "64/64 [==============================] - 1s 20ms/step - loss: 0.0020 - val_loss: 0.0021\n",
      "Epoch 91/100\n",
      "64/64 [==============================] - 1s 20ms/step - loss: 0.0022 - val_loss: 0.0037\n",
      "Epoch 92/100\n",
      "64/64 [==============================] - 1s 20ms/step - loss: 0.0022 - val_loss: 0.0018\n",
      "Epoch 93/100\n",
      "64/64 [==============================] - 1s 21ms/step - loss: 0.0021 - val_loss: 0.0015\n",
      "Epoch 94/100\n",
      "64/64 [==============================] - 1s 21ms/step - loss: 0.0017 - val_loss: 0.0020\n",
      "Epoch 95/100\n",
      "64/64 [==============================] - 1s 20ms/step - loss: 0.0018 - val_loss: 0.0016\n",
      "Epoch 96/100\n",
      "64/64 [==============================] - 1s 20ms/step - loss: 0.0019 - val_loss: 0.0018\n",
      "Epoch 97/100\n",
      "64/64 [==============================] - 1s 20ms/step - loss: 0.0023 - val_loss: 0.0022\n",
      "Epoch 98/100\n",
      "64/64 [==============================] - 1s 20ms/step - loss: 0.0016 - val_loss: 0.0018\n",
      "Epoch 99/100\n",
      "64/64 [==============================] - 1s 20ms/step - loss: 0.0018 - val_loss: 0.0017\n",
      "Epoch 100/100\n",
      "64/64 [==============================] - 1s 21ms/step - loss: 0.0014 - val_loss: 0.0031\n"
     ]
    }
   ],
   "source": [
    "# LSTM 네트워크 학습\n",
    "\n",
    "X = np.array(X)\n",
    "Y = np.array(Y)\n",
    "history = model.fit(X[:2560], Y[:2560], epochs=100, validation_split=0.2)"
   ]
  },
  {
   "cell_type": "code",
   "execution_count": 15,
   "id": "e203d79b",
   "metadata": {},
   "outputs": [
    {
     "data": {
      "image/png": "[encoded data removed]",
      "text/plain": [
       "<Figure size 432x288 with 1 Axes>"
      ]
     },
     "metadata": {
      "needs_background": "light"
     },
     "output_type": "display_data"
    }
   ],
   "source": [
    "# LSTM 네트워크 학습 결과 확인\n",
    "\n",
    "import matplotlib.pyplot as plt\n",
    "plt.plot(history.history['loss'], 'b-', label='loss')\n",
    "plt.plot(history.history['val_loss'], 'r--', label='val_loss')\n",
    "plt.xlabel('Epoch')\n",
    "plt.legend()\n",
    "plt.show()"
   ]
  },
  {
   "cell_type": "code",
   "execution_count": 16,
   "id": "3b0ce747",
   "metadata": {},
   "outputs": [
    {
     "name": "stdout",
     "output_type": "stream",
     "text": [
      "14/14 [==============================] - 0s 7ms/step - loss: 0.0032\n",
      "0.045873082416488235 \t 0.050693747 \tdiff: 0.004820664239691193\n",
      "0.5029060033208358 \t 0.5764672 \tdiff: 0.07356121269402627\n",
      "0.16057937106870665 \t 0.23814896 \tdiff: 0.07756958642221437\n",
      "0.15338785666583415 \t 0.1690368 \tdiff: 0.01564894896389607\n",
      "0.004047173275358534 \t 0.030259341 \tdiff: 0.026212167726152084\n",
      "correctness: 52.95454545454545 %\n"
     ]
    }
   ],
   "source": [
    "# 테스트 데이터에 대한 예측 정확도 확인\n",
    "# 논문에서는 오차가 0.04 이상일 때 오답으로 처리\n",
    "\n",
    "model.evaluate(X[2560:], Y[2560:])\n",
    "prediction = model.predict(X[2560:2560+5])\n",
    "for i in range(5):\n",
    "    print(Y[2560+i], '\\t', prediction[i][0], '\\tdiff:', abs(prediction[i][0] - Y[2560+i]))\n",
    "    \n",
    "prediction = model.predict(X[2560:])\n",
    "fail = 0\n",
    "for i in range(len(prediction)):\n",
    "    # 오차가 0.04 이상이면 오답입니다.\n",
    "    if abs(prediction[i][0] - Y[2560+i]) > 0.04:\n",
    "        fail += 1 \n",
    "print('correctness:', (440-fail) / 440 * 100, '%')"
   ]
  },
  {
   "cell_type": "markdown",
   "id": "aa53ce42",
   "metadata": {},
   "source": [
    "### 7.2.3 GRU 레이어\n",
    "* cell state가 없는 대신 $h_t$ 가 비슷한 역할을 함"
   ]
  },
  {
   "cell_type": "code",
   "execution_count": 17,
   "id": "5bd9b3f2",
   "metadata": {},
   "outputs": [
    {
     "name": "stdout",
     "output_type": "stream",
     "text": [
      "Model: \"sequential_4\"\n",
      "_________________________________________________________________\n",
      "Layer (type)                 Output Shape              Param #   \n",
      "=================================================================\n",
      "gru (GRU)                    (None, 100, 30)           3060      \n",
      "_________________________________________________________________\n",
      "gru_1 (GRU)                  (None, 30)                5580      \n",
      "_________________________________________________________________\n",
      "dense_4 (Dense)              (None, 1)                 31        \n",
      "=================================================================\n",
      "Total params: 8,671\n",
      "Trainable params: 8,671\n",
      "Non-trainable params: 0\n",
      "_________________________________________________________________\n"
     ]
    }
   ],
   "source": [
    "# GRU 레이어를 이용한 곱셈 문제 모델 정의 \n",
    "\n",
    "model = tf.keras.Sequential([\n",
    "    tf.keras.layers.GRU(units=30, return_sequences=True, input_shape=[100,2]),\n",
    "    tf.keras.layers.GRU(units=30),\n",
    "    tf.keras.layers.Dense(1)\n",
    "])\n",
    "\n",
    "model.compile(optimizer='adam', loss='mse')\n",
    "model.summary()"
   ]
  },
  {
   "cell_type": "code",
   "execution_count": 18,
   "id": "9b4ebb55",
   "metadata": {},
   "outputs": [
    {
     "name": "stdout",
     "output_type": "stream",
     "text": [
      "Epoch 1/100\n",
      "64/64 [==============================] - 3s 25ms/step - loss: 0.0643 - val_loss: 0.0489\n",
      "Epoch 2/100\n",
      "64/64 [==============================] - 1s 19ms/step - loss: 0.0527 - val_loss: 0.0487\n",
      "Epoch 3/100\n",
      "64/64 [==============================] - 1s 19ms/step - loss: 0.0527 - val_loss: 0.0490\n",
      "Epoch 4/100\n",
      "64/64 [==============================] - 1s 19ms/step - loss: 0.0525 - val_loss: 0.0487\n",
      "Epoch 5/100\n",
      "64/64 [==============================] - 1s 19ms/step - loss: 0.0526 - val_loss: 0.0486\n",
      "Epoch 6/100\n",
      "64/64 [==============================] - 1s 19ms/step - loss: 0.0524 - val_loss: 0.0495\n",
      "Epoch 7/100\n",
      "64/64 [==============================] - 1s 18ms/step - loss: 0.0525 - val_loss: 0.0487\n",
      "Epoch 8/100\n",
      "64/64 [==============================] - 1s 19ms/step - loss: 0.0525 - val_loss: 0.0485\n",
      "Epoch 9/100\n",
      "64/64 [==============================] - 1s 19ms/step - loss: 0.0525 - val_loss: 0.0485\n",
      "Epoch 10/100\n",
      "64/64 [==============================] - 1s 19ms/step - loss: 0.0524 - val_loss: 0.0484\n",
      "Epoch 11/100\n",
      "64/64 [==============================] - 1s 19ms/step - loss: 0.0524 - val_loss: 0.0485\n",
      "Epoch 12/100\n",
      "64/64 [==============================] - 1s 19ms/step - loss: 0.0528 - val_loss: 0.0485\n",
      "Epoch 13/100\n",
      "64/64 [==============================] - 1s 19ms/step - loss: 0.0524 - val_loss: 0.0485\n",
      "Epoch 14/100\n",
      "64/64 [==============================] - 1s 19ms/step - loss: 0.0522 - val_loss: 0.0494\n",
      "Epoch 15/100\n",
      "64/64 [==============================] - 1s 18ms/step - loss: 0.0522 - val_loss: 0.0481\n",
      "Epoch 16/100\n",
      "64/64 [==============================] - 1s 19ms/step - loss: 0.0523 - val_loss: 0.0480\n",
      "Epoch 17/100\n",
      "64/64 [==============================] - 1s 19ms/step - loss: 0.0525 - val_loss: 0.0491\n",
      "Epoch 18/100\n",
      "64/64 [==============================] - 1s 18ms/step - loss: 0.0517 - val_loss: 0.0479\n",
      "Epoch 19/100\n",
      "64/64 [==============================] - 1s 18ms/step - loss: 0.0518 - val_loss: 0.0481\n",
      "Epoch 20/100\n",
      "64/64 [==============================] - 1s 19ms/step - loss: 0.0512 - val_loss: 0.0479\n",
      "Epoch 21/100\n",
      "64/64 [==============================] - 1s 19ms/step - loss: 0.0502 - val_loss: 0.0471\n",
      "Epoch 22/100\n",
      "64/64 [==============================] - 1s 18ms/step - loss: 0.0456 - val_loss: 0.0206\n",
      "Epoch 23/100\n",
      "64/64 [==============================] - 1s 18ms/step - loss: 0.0244 - val_loss: 0.0155\n",
      "Epoch 24/100\n",
      "64/64 [==============================] - 1s 19ms/step - loss: 0.0126 - val_loss: 0.0076\n",
      "Epoch 25/100\n",
      "64/64 [==============================] - 1s 18ms/step - loss: 0.0067 - val_loss: 0.0058\n",
      "Epoch 26/100\n",
      "64/64 [==============================] - 1s 19ms/step - loss: 0.0041 - val_loss: 0.0033\n",
      "Epoch 27/100\n",
      "64/64 [==============================] - 1s 19ms/step - loss: 0.0029 - val_loss: 0.0026\n",
      "Epoch 28/100\n",
      "64/64 [==============================] - 1s 19ms/step - loss: 0.0028 - val_loss: 0.0038\n",
      "Epoch 29/100\n",
      "64/64 [==============================] - 1s 19ms/step - loss: 0.0022 - val_loss: 0.0020\n",
      "Epoch 30/100\n",
      "64/64 [==============================] - 1s 19ms/step - loss: 0.0018 - val_loss: 0.0018\n",
      "Epoch 31/100\n",
      "64/64 [==============================] - 1s 19ms/step - loss: 0.0017 - val_loss: 0.0018\n",
      "Epoch 32/100\n",
      "64/64 [==============================] - 1s 19ms/step - loss: 0.0017 - val_loss: 0.0018\n",
      "Epoch 33/100\n",
      "64/64 [==============================] - 1s 19ms/step - loss: 0.0013 - val_loss: 0.0012\n",
      "Epoch 34/100\n",
      "64/64 [==============================] - 1s 18ms/step - loss: 0.0012 - val_loss: 0.0010\n",
      "Epoch 35/100\n",
      "64/64 [==============================] - 1s 19ms/step - loss: 0.0012 - val_loss: 0.0014\n",
      "Epoch 36/100\n",
      "64/64 [==============================] - 1s 19ms/step - loss: 9.8786e-04 - val_loss: 8.8617e-04\n",
      "Epoch 37/100\n",
      "64/64 [==============================] - 1s 19ms/step - loss: 0.0010 - val_loss: 0.0011\n",
      "Epoch 38/100\n",
      "64/64 [==============================] - 1s 19ms/step - loss: 9.1872e-04 - val_loss: 7.8303e-04\n",
      "Epoch 39/100\n",
      "64/64 [==============================] - 1s 19ms/step - loss: 8.5474e-04 - val_loss: 7.3593e-04\n",
      "Epoch 40/100\n",
      "64/64 [==============================] - 1s 19ms/step - loss: 8.6991e-04 - val_loss: 0.0015\n",
      "Epoch 41/100\n",
      "64/64 [==============================] - 1s 19ms/step - loss: 0.0011 - val_loss: 7.6858e-04\n",
      "Epoch 42/100\n",
      "64/64 [==============================] - 1s 19ms/step - loss: 8.0506e-04 - val_loss: 8.0362e-04\n",
      "Epoch 43/100\n",
      "64/64 [==============================] - 1s 19ms/step - loss: 7.5757e-04 - val_loss: 6.6805e-04\n",
      "Epoch 44/100\n",
      "64/64 [==============================] - 1s 18ms/step - loss: 6.7235e-04 - val_loss: 7.1461e-04\n",
      "Epoch 45/100\n",
      "64/64 [==============================] - 1s 18ms/step - loss: 6.5045e-04 - val_loss: 5.5209e-04\n",
      "Epoch 46/100\n",
      "64/64 [==============================] - 1s 19ms/step - loss: 6.9366e-04 - val_loss: 8.8531e-04\n",
      "Epoch 47/100\n",
      "64/64 [==============================] - 1s 19ms/step - loss: 8.4989e-04 - val_loss: 5.1671e-04\n",
      "Epoch 48/100\n",
      "64/64 [==============================] - 1s 19ms/step - loss: 6.0579e-04 - val_loss: 6.7729e-04\n",
      "Epoch 49/100\n",
      "64/64 [==============================] - 1s 19ms/step - loss: 6.4579e-04 - val_loss: 6.3303e-04\n",
      "Epoch 50/100\n",
      "64/64 [==============================] - 1s 19ms/step - loss: 6.2326e-04 - val_loss: 4.7621e-04\n",
      "Epoch 51/100\n",
      "64/64 [==============================] - 1s 18ms/step - loss: 6.4634e-04 - val_loss: 4.2816e-04\n",
      "Epoch 52/100\n",
      "64/64 [==============================] - 1s 18ms/step - loss: 4.9838e-04 - val_loss: 3.8786e-04\n",
      "Epoch 53/100\n",
      "64/64 [==============================] - 1s 19ms/step - loss: 4.7300e-04 - val_loss: 3.9673e-04\n",
      "Epoch 54/100\n",
      "64/64 [==============================] - 1s 18ms/step - loss: 5.7628e-04 - val_loss: 8.6627e-04\n",
      "Epoch 55/100\n",
      "64/64 [==============================] - 1s 19ms/step - loss: 5.5457e-04 - val_loss: 3.6248e-04\n",
      "Epoch 56/100\n",
      "64/64 [==============================] - 1s 18ms/step - loss: 4.8218e-04 - val_loss: 4.9274e-04\n",
      "Epoch 57/100\n",
      "64/64 [==============================] - 1s 18ms/step - loss: 4.1978e-04 - val_loss: 4.5302e-04\n",
      "Epoch 58/100\n",
      "64/64 [==============================] - 1s 18ms/step - loss: 4.3525e-04 - val_loss: 3.2668e-04\n",
      "Epoch 59/100\n",
      "64/64 [==============================] - 1s 18ms/step - loss: 4.4019e-04 - val_loss: 3.9296e-04\n",
      "Epoch 60/100\n",
      "64/64 [==============================] - 1s 18ms/step - loss: 3.6555e-04 - val_loss: 2.9036e-04\n",
      "Epoch 61/100\n",
      "64/64 [==============================] - 1s 18ms/step - loss: 4.0713e-04 - val_loss: 3.3377e-04\n",
      "Epoch 62/100\n",
      "64/64 [==============================] - 1s 19ms/step - loss: 3.6419e-04 - val_loss: 3.6244e-04\n",
      "Epoch 63/100\n",
      "64/64 [==============================] - 1s 19ms/step - loss: 3.5076e-04 - val_loss: 2.7021e-04\n",
      "Epoch 64/100\n",
      "64/64 [==============================] - 1s 18ms/step - loss: 3.1620e-04 - val_loss: 2.9694e-04\n",
      "Epoch 65/100\n",
      "64/64 [==============================] - 1s 18ms/step - loss: 3.2199e-04 - val_loss: 4.3017e-04\n",
      "Epoch 66/100\n",
      "64/64 [==============================] - 1s 19ms/step - loss: 3.3164e-04 - val_loss: 4.0911e-04\n",
      "Epoch 67/100\n",
      "64/64 [==============================] - 1s 18ms/step - loss: 4.3253e-04 - val_loss: 5.7782e-04\n",
      "Epoch 68/100\n",
      "64/64 [==============================] - 1s 18ms/step - loss: 3.3966e-04 - val_loss: 2.2835e-04\n",
      "Epoch 69/100\n",
      "64/64 [==============================] - 1s 18ms/step - loss: 2.5898e-04 - val_loss: 3.2080e-04\n",
      "Epoch 70/100\n",
      "64/64 [==============================] - 1s 18ms/step - loss: 3.2066e-04 - val_loss: 3.6181e-04\n",
      "Epoch 71/100\n",
      "64/64 [==============================] - 1s 18ms/step - loss: 3.2794e-04 - val_loss: 3.3546e-04\n",
      "Epoch 72/100\n",
      "64/64 [==============================] - 1s 18ms/step - loss: 3.8288e-04 - val_loss: 1.9689e-04\n",
      "Epoch 73/100\n",
      "64/64 [==============================] - 1s 19ms/step - loss: 3.2057e-04 - val_loss: 2.3830e-04\n",
      "Epoch 74/100\n",
      "64/64 [==============================] - 1s 19ms/step - loss: 3.3681e-04 - val_loss: 3.6524e-04\n",
      "Epoch 75/100\n",
      "64/64 [==============================] - 1s 19ms/step - loss: 2.9181e-04 - val_loss: 3.0184e-04\n",
      "Epoch 76/100\n",
      "64/64 [==============================] - 1s 19ms/step - loss: 2.6882e-04 - val_loss: 2.5868e-04\n",
      "Epoch 77/100\n",
      "64/64 [==============================] - 1s 18ms/step - loss: 3.7002e-04 - val_loss: 2.6005e-04\n",
      "Epoch 78/100\n",
      "64/64 [==============================] - 1s 19ms/step - loss: 3.8945e-04 - val_loss: 5.0318e-04\n",
      "Epoch 79/100\n",
      "64/64 [==============================] - 1s 19ms/step - loss: 3.2529e-04 - val_loss: 4.0474e-04\n",
      "Epoch 80/100\n",
      "64/64 [==============================] - 1s 18ms/step - loss: 2.7064e-04 - val_loss: 2.6537e-04\n",
      "Epoch 81/100\n",
      "64/64 [==============================] - 1s 18ms/step - loss: 2.6829e-04 - val_loss: 4.0682e-04\n",
      "Epoch 82/100\n",
      "64/64 [==============================] - 1s 18ms/step - loss: 2.6121e-04 - val_loss: 1.8859e-04\n",
      "Epoch 83/100\n",
      "64/64 [==============================] - 1s 18ms/step - loss: 2.2849e-04 - val_loss: 2.0529e-04\n",
      "Epoch 84/100\n",
      "64/64 [==============================] - 1s 18ms/step - loss: 2.2637e-04 - val_loss: 2.4019e-04\n",
      "Epoch 85/100\n",
      "64/64 [==============================] - 1s 18ms/step - loss: 2.5435e-04 - val_loss: 1.9200e-04\n",
      "Epoch 86/100\n",
      "64/64 [==============================] - 1s 18ms/step - loss: 2.0417e-04 - val_loss: 2.4488e-04\n",
      "Epoch 87/100\n",
      "64/64 [==============================] - 1s 18ms/step - loss: 2.6430e-04 - val_loss: 1.5859e-04\n",
      "Epoch 88/100\n",
      "64/64 [==============================] - 1s 18ms/step - loss: 2.3364e-04 - val_loss: 2.2069e-04\n",
      "Epoch 89/100\n",
      "64/64 [==============================] - 1s 18ms/step - loss: 2.0790e-04 - val_loss: 1.6494e-04\n",
      "Epoch 90/100\n",
      "64/64 [==============================] - 1s 19ms/step - loss: 1.8339e-04 - val_loss: 2.4300e-04\n",
      "Epoch 91/100\n",
      "64/64 [==============================] - 1s 19ms/step - loss: 1.9596e-04 - val_loss: 1.3620e-04\n",
      "Epoch 92/100\n",
      "64/64 [==============================] - 1s 18ms/step - loss: 1.6657e-04 - val_loss: 3.3773e-04\n",
      "Epoch 93/100\n",
      "64/64 [==============================] - 1s 18ms/step - loss: 2.3444e-04 - val_loss: 1.9571e-04\n",
      "Epoch 94/100\n",
      "64/64 [==============================] - 1s 19ms/step - loss: 1.8410e-04 - val_loss: 1.3924e-04\n",
      "Epoch 95/100\n",
      "64/64 [==============================] - 1s 19ms/step - loss: 1.9274e-04 - val_loss: 1.7670e-04\n",
      "Epoch 96/100\n",
      "64/64 [==============================] - 1s 19ms/step - loss: 1.7290e-04 - val_loss: 2.4365e-04\n",
      "Epoch 97/100\n",
      "64/64 [==============================] - 1s 18ms/step - loss: 3.3037e-04 - val_loss: 1.7956e-04\n",
      "Epoch 98/100\n",
      "64/64 [==============================] - 1s 18ms/step - loss: 2.1145e-04 - val_loss: 2.2224e-04\n",
      "Epoch 99/100\n",
      "64/64 [==============================] - 1s 18ms/step - loss: 1.8392e-04 - val_loss: 1.7265e-04\n",
      "Epoch 100/100\n",
      "64/64 [==============================] - 1s 19ms/step - loss: 2.0316e-04 - val_loss: 1.5524e-04\n"
     ]
    }
   ],
   "source": [
    "# GRU 네트워크 학습\n",
    "\n",
    "X = np.array(X)\n",
    "Y = np.array(Y)\n",
    "history = model.fit(X[:2560], Y[:2560], epochs=100, validation_split=0.2)"
   ]
  },
  {
   "cell_type": "code",
   "execution_count": 19,
   "id": "27f2bdd8",
   "metadata": {},
   "outputs": [
    {
     "data": {
      "image/png": "[encoded data removed]",
      "text/plain": [
       "<Figure size 432x288 with 1 Axes>"
      ]
     },
     "metadata": {
      "needs_background": "light"
     },
     "output_type": "display_data"
    }
   ],
   "source": [
    "# GRU 네트워크 학습 결과 확인\n",
    "\n",
    "import matplotlib.pyplot as plt\n",
    "plt.plot(history.history['loss'], 'b-', label='loss')\n",
    "plt.plot(history.history['val_loss'], 'r--', label='val_loss')\n",
    "plt.xlabel('Epoch')\n",
    "plt.legend()\n",
    "plt.show()"
   ]
  },
  {
   "cell_type": "code",
   "execution_count": 20,
   "id": "a49bb902",
   "metadata": {},
   "outputs": [
    {
     "name": "stdout",
     "output_type": "stream",
     "text": [
      "14/14 [==============================] - 0s 6ms/step - loss: 1.9528e-04\n",
      "0.045873082416488235 \t 0.05666925 \tdiff: 0.010796167714165146\n",
      "0.5029060033208358 \t 0.48282894 \tdiff: 0.020077058399342262\n",
      "0.16057937106870665 \t 0.1644043 \tdiff: 0.0038249317667578275\n",
      "0.15338785666583415 \t 0.15233718 \tdiff: 0.0010506780779206415\n",
      "0.004047173275358534 \t -0.002821887 \tdiff: 0.006869060187346792\n",
      "correctness: 98.18181818181819 %\n"
     ]
    }
   ],
   "source": [
    "# 테스트 데이터에 대한 예측 정확도 확인\n",
    "# 논문에서는 오차가 0.04 이상일 때 오답으로 처리\n",
    "\n",
    "model.evaluate(X[2560:], Y[2560:])\n",
    "prediction = model.predict(X[2560:2560+5])\n",
    "for i in range(5):\n",
    "    print(Y[2560+i], '\\t', prediction[i][0], '\\tdiff:', abs(prediction[i][0] - Y[2560+i]))\n",
    "    \n",
    "prediction = model.predict(X[2560:])\n",
    "fail = 0\n",
    "for i in range(len(prediction)):\n",
    "    # 오차가 0.04 이상이면 오답입니다.\n",
    "    if abs(prediction[i][0] - Y[2560+i]) > 0.04:\n",
    "        fail += 1 \n",
    "print('correctness:', (440-fail) / 440 * 100, '%')"
   ]
  },
  {
   "cell_type": "markdown",
   "id": "b3eec293",
   "metadata": {},
   "source": [
    "### 7.2.4 임베딩 레이어\n",
    "* 단어나 문자 단위의 자연어 처리\n",
    "* 대표적인 방법으로 Word2Vec, GloVe, FastText, ELMo 등이 존재 "
   ]
  },
  {
   "cell_type": "markdown",
   "id": "f65e20d4",
   "metadata": {},
   "source": [
    "### 7.3 긍정, 부정 감성 분석"
   ]
  },
  {
   "cell_type": "code",
   "execution_count": 21,
   "id": "6567f105",
   "metadata": {},
   "outputs": [
    {
     "name": "stdout",
     "output_type": "stream",
     "text": [
      "Downloading data from https://raw.githubusercontent.com/e9t/nsmc/master/ratings_train.txt\n",
      "14630912/14628807 [==============================] - 1s 0us/step\n",
      "14639104/14628807 [==============================] - 1s 0us/step\n",
      "Downloading data from https://raw.githubusercontent.com/e9t/nsmc/master/ratings_test.txt\n",
      "4898816/4893335 [==============================] - 0s 0us/step\n",
      "4907008/4893335 [==============================] - 0s 0us/step\n"
     ]
    }
   ],
   "source": [
    "# Naver Sentiment Movie Corpus v1.0 다운로드\n",
    "\n",
    "path_to_train_file = tf.keras.utils.get_file('train.txt', 'https://raw.githubusercontent.com/e9t/nsmc/master/ratings_train.txt')\n",
    "path_to_test_file = tf.keras.utils.get_file('test.txt', 'https://raw.githubusercontent.com/e9t/nsmc/master/ratings_test.txt')"
   ]
  },
  {
   "cell_type": "code",
   "execution_count": 22,
   "id": "60b70326",
   "metadata": {},
   "outputs": [
    {
     "name": "stdout",
     "output_type": "stream",
     "text": [
      "Length of text: 6937271 characters\n",
      "Length of text: 2318260 characters\n",
      "\n",
      "id\tdocument\tlabel\n",
      "9976970\t아 더빙.. 진짜 짜증나네요 목소리\t0\n",
      "3819312\t흠...포스터보고 초딩영화줄....오버연기조차 가볍지 않구나\t1\n",
      "10265843\t너무재밓었다그래서보는것을추천한다\t0\n",
      "9045019\t교도소 이야기구먼 ..솔직히 재미는 없다..평점 조정\t0\n",
      "6483659\t사이몬페그의 익살스런 연기가 돋보였던 영화!스파이더맨에서 늙어보이기만 했던 커스틴 던스트가 너무나도 이뻐보였다\t1\n",
      "5403919\t막 걸음마 뗀 3세부터 초등학교 1학년생인 8살용영화.ㅋㅋㅋ...별반개도 아까움.\t0\n",
      "7797314\t원작의\n"
     ]
    }
   ],
   "source": [
    "# 데이터 로드 및 확인\n",
    "\n",
    "#데이터를 메모리에 불러옵니다. 인코딩 형식으로 utf-8을 지정해야 합니다.\n",
    "train_text = open(path_to_train_file, 'rb').read().decode(encoding='utf-8')\n",
    "test_text = open(path_to_test_file, 'rb').read().decode(encoding='utf-8')\n",
    "\n",
    "# 텍스트가 총 몇 자인지 확인합니다.\n",
    "print('Length of text: {} characters'.format(len(train_text)))\n",
    "print('Length of text: {} characters'.format(len(test_text)))\n",
    "print()\n",
    "\n",
    "# 처음 300자를 확인해봅니다.\n",
    "print(train_text[:300])"
   ]
  },
  {
   "cell_type": "code",
   "execution_count": 23,
   "id": "c7be68ff",
   "metadata": {},
   "outputs": [
    {
     "name": "stdout",
     "output_type": "stream",
     "text": [
      "(150000, 1) (50000, 1)\n",
      "[[0]\n",
      " [1]\n",
      " [0]\n",
      " [0]\n",
      " [1]]\n"
     ]
    }
   ],
   "source": [
    "# 학습을 위한 정답 데이터(Y) 만들기\n",
    "# 긍정 1 / 부정 0\n",
    "\n",
    "train_Y = np.array([[int(row.split('\\t')[2])] for row in train_text.split('\\n')[1:] if row.count('\\t') > 0])\n",
    "test_Y = np.array([[int(row.split('\\t')[2])] for row in test_text.split('\\n')[1:] if row.count('\\t') > 0])\n",
    "print(train_Y.shape, test_Y.shape)\n",
    "print(train_Y[:5])"
   ]
  },
  {
   "cell_type": "code",
   "execution_count": 27,
   "id": "1793905e",
   "metadata": {},
   "outputs": [
    {
     "name": "stdout",
     "output_type": "stream",
     "text": [
      "['아', '더빙', '진짜', '짜증나네요', '목소리']\n",
      "['흠', '포스터보고', '초딩영화줄', '오버연기조차', '가볍지', '않구나']\n",
      "['너무재밓었다그래서보는것을추천한다']\n",
      "['교도소', '이야기구먼', '솔직히', '재미는', '없다', '평점', '조정']\n",
      "['사이몬페그의', '익살스런', '연기가', '돋보였던', '영화', '!', '스파이더맨에서', '늙어보이기만', '했던', '커스틴', '던스트가', '너무나도', '이뻐보였다']\n"
     ]
    }
   ],
   "source": [
    "# 훈련 데이터의 입력(X) 정제\n",
    "# 입력으로 쓸 자연어를 토큰화(Tokenization)하고 정제(Cleaning) \n",
    "\n",
    "import re # 정규 표현식 라이브러리\n",
    "# from CNN_sentence github \n",
    "\n",
    "def clean_str(string):    \n",
    "    string = re.sub(r\"[^가-힣A-Za-z0-9(),!?\\'\\`]\", \" \", string)\n",
    "    string = re.sub(r\"\\'s\", \" \\'s\", string)\n",
    "    string = re.sub(r\"\\'ve\", \" \\'ve\", string)\n",
    "    string = re.sub(r\"n\\'t\", \" n\\'t\", string)\n",
    "    string = re.sub(r\"\\'re\", \" \\'re\", string)\n",
    "    string = re.sub(r\"\\'d\", \" \\'d\", string)\n",
    "    string = re.sub(r\"\\'ll\", \" \\'ll\", string)\n",
    "    string = re.sub(r\",\", \" , \", string)\n",
    "    string = re.sub(r\"!\", \" ! \", string)\n",
    "    string = re.sub(r\"\\(\", \" \\( \", string)\n",
    "    string = re.sub(r\"\\)\", \" \\) \", string)\n",
    "    string = re.sub(r\"\\?\", \" \\? \", string)\n",
    "    string = re.sub(r\"\\s{2,}\", \" \", string)\n",
    "    string = re.sub(r\"\\'{2,}\", \"\\'\", string)\n",
    "    string = re.sub(r\"\\'\", \"\", string)\n",
    "\n",
    "    return string.lower()\n",
    "\n",
    "\n",
    "train_text_X = [row.split('\\t')[1] for row in train_text.split('\\n')[1:] if row.count('\\t') > 0]\n",
    "train_text_X = [clean_str(sentence) for sentence in train_text_X]\n",
    "# 문장을 띄어쓰기 단위로 단어 분리\n",
    "sentences = [sentence.split(' ') for sentence in train_text_X]\n",
    "for i in range(5):\n",
    "    print(sentences[i])"
   ]
  },
  {
   "cell_type": "code",
   "execution_count": 30,
   "id": "bfe73365",
   "metadata": {},
   "outputs": [
    {
     "data": {
      "image/png": "[encoded data removed]",
      "text/plain": [
       "<Figure size 432x288 with 1 Axes>"
      ]
     },
     "metadata": {
      "needs_background": "light"
     },
     "output_type": "display_data"
    },
    {
     "name": "stdout",
     "output_type": "stream",
     "text": [
      "142587\n"
     ]
    }
   ],
   "source": [
    "# 각 문장의 단어 길이 확인\n",
    "# 네트워크에 입력하기 위한 데이터의 크기(문장의 길이)는 동일해야 하는데 현재는 각 문장의 길이가 다르기 때문에 맞춰야함\n",
    "\n",
    "import matplotlib.pyplot as plt\n",
    "sentence_len = [len(sentence) for sentence in sentences]\n",
    "sentence_len.sort()\n",
    "plt.plot(sentence_len)\n",
    "plt.show()\n",
    "\n",
    "print(sum([int(l<=25) for l in sentence_len]))\n",
    "\n",
    "# y 축은 문장의 단어 개수, 대부분이 40단어 이하로 구성돼 있음을 확인할 수 있음"
   ]
  },
  {
   "cell_type": "code",
   "execution_count": 31,
   "id": "3367359f",
   "metadata": {},
   "outputs": [
    {
     "name": "stdout",
     "output_type": "stream",
     "text": [
      "['아', '더빙', '진짜', '짜증나네요', '목소리']\n",
      "['흠', '포스터보고', '초딩영화줄', '오버연기조', '가볍지', '않구나']\n",
      "['너무재밓었']\n",
      "['교도소', '이야기구먼', '솔직히', '재미는', '없다', '평점', '조정']\n",
      "['사이몬페그', '익살스런', '연기가', '돋보였던', '영화', '!', '스파이더맨', '늙어보이기', '했던', '커스틴', '던스트가', '너무나도', '이뻐보였다']\n"
     ]
    }
   ],
   "source": [
    "# 단어 정제 및 문장 길이 줄임\n",
    "\n",
    "sentences_new = []\n",
    "for sentence in sentences:\n",
    "    sentences_new.append([word[:5] for word in sentence][:25])\n",
    "sentences = sentences_new\n",
    "for i in range(5):\n",
    "    print(sentences[i])"
   ]
  },
  {
   "cell_type": "code",
   "execution_count": 32,
   "id": "e8fd887b",
   "metadata": {},
   "outputs": [
    {
     "name": "stdout",
     "output_type": "stream",
     "text": [
      "[[   25   884     8  5795  1111     0     0     0     0     0     0     0\n",
      "      0     0     0     0     0     0     0     0     0     0     0     0\n",
      "      0]\n",
      " [  588  5796  6697     0     0     0     0     0     0     0     0     0\n",
      "      0     0     0     0     0     0     0     0     0     0     0     0\n",
      "      0]\n",
      " [    0     0     0     0     0     0     0     0     0     0     0     0\n",
      "      0     0     0     0     0     0     0     0     0     0     0     0\n",
      "      0]\n",
      " [   71   346    31    35 10468     0     0     0     0     0     0     0\n",
      "      0     0     0     0     0     0     0     0     0     0     0     0\n",
      "      0]\n",
      " [  106  5338     4     2  2169   869   573     0     0     0     0     0\n",
      "      0     0     0     0     0     0     0     0     0     0     0     0\n",
      "      0]]\n"
     ]
    }
   ],
   "source": [
    "# Tokenizer와 pad_sequences를 이용한 문장 전처리\n",
    "# 짧은 문장을 같은 길이의 문장(25단어)으로 바꾸기 위한 패딩 작업\n",
    "\n",
    "from tensorflow.keras.preprocessing.text import Tokenizer\n",
    "from tensorflow.keras.preprocessing.sequence import pad_sequences\n",
    "\n",
    "tokenizer = Tokenizer(num_words=20000)\n",
    "tokenizer.fit_on_texts(sentences)\n",
    "train_X = tokenizer.texts_to_sequences(sentences)\n",
    "train_X = pad_sequences(train_X, padding='post')  # post는 문장 뒤에 패딩을 넣음 / pre는 문장 앞\n",
    "\n",
    "print(train_X[:5])"
   ]
  },
  {
   "cell_type": "code",
   "execution_count": 33,
   "id": "64a9705e",
   "metadata": {},
   "outputs": [
    {
     "name": "stdout",
     "output_type": "stream",
     "text": [
      "경우는\n",
      "잊혀질\n",
      "[[], [19999], [], [106]]\n",
      "[[    0]\n",
      " [19999]\n",
      " [    0]\n",
      " [  106]]\n"
     ]
    }
   ],
   "source": [
    "# Tokenizer의 동작 확인\n",
    "\n",
    "print(tokenizer.index_word[19999])\n",
    "print(tokenizer.index_word[20000])\n",
    "temp = tokenizer.texts_to_sequences(['#$#$#', '경우는', '잊혀질', '연기가'])\n",
    "print(temp)\n",
    "temp = pad_sequences(temp, padding='post')\n",
    "print(temp)"
   ]
  },
  {
   "cell_type": "code",
   "execution_count": 34,
   "id": "6f8c3949",
   "metadata": {},
   "outputs": [
    {
     "name": "stdout",
     "output_type": "stream",
     "text": [
      "Model: \"sequential_5\"\n",
      "_________________________________________________________________\n",
      "Layer (type)                 Output Shape              Param #   \n",
      "=================================================================\n",
      "embedding (Embedding)        (None, 25, 300)           6000000   \n",
      "_________________________________________________________________\n",
      "lstm_2 (LSTM)                (None, 50)                70200     \n",
      "_________________________________________________________________\n",
      "dense_5 (Dense)              (None, 2)                 102       \n",
      "=================================================================\n",
      "Total params: 6,070,302\n",
      "Trainable params: 6,070,302\n",
      "Non-trainable params: 0\n",
      "_________________________________________________________________\n"
     ]
    }
   ],
   "source": [
    "# 감성 분석을 위한 모델 정의\n",
    "model = tf.keras.Sequential([\n",
    "    tf.keras.layers.Embedding(20000, 300, input_length=25),\n",
    "    tf.keras.layers.LSTM(units=50),\n",
    "    tf.keras.layers.Dense(2, activation='softmax')\n",
    "])\n",
    "\n",
    "model.compile(optimizer='adam', loss='sparse_categorical_crossentropy', metrics=['accuracy'])\n",
    "model.summary()"
   ]
  },
  {
   "cell_type": "code",
   "execution_count": 36,
   "id": "97631782",
   "metadata": {},
   "outputs": [
    {
     "name": "stdout",
     "output_type": "stream",
     "text": [
      "Epoch 1/5\n",
      "938/938 [==============================] - 50s 53ms/step - loss: 0.4351 - accuracy: 0.7829 - val_loss: 0.3769 - val_accuracy: 0.8215\n",
      "Epoch 2/5\n",
      "938/938 [==============================] - 49s 52ms/step - loss: 0.3227 - accuracy: 0.8480 - val_loss: 0.3824 - val_accuracy: 0.8207\n",
      "Epoch 3/5\n",
      "938/938 [==============================] - 50s 53ms/step - loss: 0.2690 - accuracy: 0.8709 - val_loss: 0.4533 - val_accuracy: 0.8154\n",
      "Epoch 4/5\n",
      "938/938 [==============================] - 50s 53ms/step - loss: 0.2258 - accuracy: 0.8901 - val_loss: 0.4931 - val_accuracy: 0.8099\n",
      "Epoch 5/5\n",
      "938/938 [==============================] - 49s 53ms/step - loss: 0.1930 - accuracy: 0.9048 - val_loss: 0.5601 - val_accuracy: 0.8017\n"
     ]
    }
   ],
   "source": [
    "# 감성 분석 모델 학습\n",
    "history = model.fit(train_X, train_Y, epochs=5, batch_size=128, validation_split=0.2)"
   ]
  },
  {
   "cell_type": "code",
   "execution_count": 37,
   "id": "047a8eaa",
   "metadata": {},
   "outputs": [
    {
     "data": {
      "image/png": "[encoded data removed]",
      "text/plain": [
       "<Figure size 864x288 with 2 Axes>"
      ]
     },
     "metadata": {
      "needs_background": "light"
     },
     "output_type": "display_data"
    }
   ],
   "source": [
    "# 감성 분석 모델의 학습 결과 확인\n",
    "\n",
    "import matplotlib.pyplot as plt\n",
    "plt.figure(figsize=(12, 4))\n",
    "\n",
    "plt.subplot(1, 2, 1)\n",
    "plt.plot(history.history['loss'], 'b-', label='loss')\n",
    "plt.plot(history.history['val_loss'], 'r--', label='val_loss')\n",
    "plt.xlabel('Epoch')\n",
    "plt.legend()\n",
    "\n",
    "plt.subplot(1, 2, 2)\n",
    "plt.plot(history.history['accuracy'], 'g-', label='accuracy')\n",
    "plt.plot(history.history['val_accuracy'], 'k--', label='val_accuracy')\n",
    "plt.xlabel('Epoch')\n",
    "plt.ylim(0.7, 1)\n",
    "plt.legend()\n",
    "\n",
    "plt.show()\n",
    "\n",
    "# 과적합 -> 임베딩 레이어를 랜덤한 값에서부터 시작해서 학습시키기 때문에 품질이 좋지 않아서!\n",
    "# 이를 개선하기 위해 임베딩 레이러를 별도로 학습시켜 네트워크에 불러와 사용하거나 RNN이 아닌 CNN을 사용하는 방법이 존재"
   ]
  },
  {
   "cell_type": "code",
   "execution_count": 39,
   "id": "8b842748",
   "metadata": {},
   "outputs": [
    {
     "data": {
      "text/plain": [
       "[0.5663564801216125, 0.7970799803733826]"
      ]
     },
     "execution_count": 39,
     "metadata": {},
     "output_type": "execute_result"
    }
   ],
   "source": [
    "# 테스트 데이터 평가\n",
    "\n",
    "test_text_X = [row.split('\\t')[1] for row in test_text.split('\\n')[1:] if row.count('\\t') > 0]\n",
    "test_text_X = [clean_str(sentence) for sentence in test_text_X]\n",
    "sentences = [sentence.split(' ') for sentence in test_text_X]\n",
    "sentences_new = []\n",
    "for sentence in sentences:\n",
    "    sentences_new.append([word[:5] for word in sentence][:25])\n",
    "sentences = sentences_new\n",
    "\n",
    "test_X = tokenizer.texts_to_sequences(sentences)\n",
    "test_X = pad_sequences(test_X, padding='post')\n",
    "\n",
    "model.evaluate(test_X, test_Y, verbose=0)"
   ]
  },
  {
   "cell_type": "code",
   "execution_count": 40,
   "id": "4cb9ab3a",
   "metadata": {},
   "outputs": [
    {
     "name": "stdout",
     "output_type": "stream",
     "text": [
      "['재미있을']\n",
      "[0.3200204 0.6799796]\n",
      "['재미있을', '줄']\n",
      "[0.32779956 0.6722004 ]\n",
      "['재미있을', '줄', '알았는데']\n",
      "[0.33166844 0.6683315 ]\n",
      "['재미있을', '줄', '알았는데', '완전']\n",
      "[0.3787941 0.6212059]\n",
      "['재미있을', '줄', '알았는데', '완전', '실망했다.']\n",
      "[0.3787941 0.6212059]\n",
      "['재미있을', '줄', '알았는데', '완전', '실망했다.', '너무']\n",
      "[0.36738923 0.63261074]\n",
      "['재미있을', '줄', '알았는데', '완전', '실망했다.', '너무', '졸리고']\n",
      "[0.99717474 0.00282521]\n",
      "['재미있을', '줄', '알았는데', '완전', '실망했다.', '너무', '졸리고', '돈이']\n",
      "[9.9920815e-01 7.9191488e-04]\n",
      "['재미있을', '줄', '알았는데', '완전', '실망했다.', '너무', '졸리고', '돈이', '아까웠다.']\n",
      "[9.9920815e-01 7.9191482e-04]\n"
     ]
    }
   ],
   "source": [
    "# 임의의 문장에 대한 감성 분석 결과 확인\n",
    "\n",
    "test_sentence = '재미있을 줄 알았는데 완전 실망했다. 너무 졸리고 돈이 아까웠다.'\n",
    "test_sentence = test_sentence.split(' ')\n",
    "test_sentences = []\n",
    "now_sentence = []\n",
    "for word in test_sentence:\n",
    "    now_sentence.append(word)\n",
    "    test_sentences.append(now_sentence[:])\n",
    "    \n",
    "test_X_1 = tokenizer.texts_to_sequences(test_sentences)\n",
    "test_X_1 = pad_sequences(test_X_1, padding='post', maxlen=25)\n",
    "prediction = model.predict(test_X_1)\n",
    "for idx, sentence in enumerate(test_sentences):\n",
    "    print(sentence)\n",
    "    print(prediction[idx])"
   ]
  },
  {
   "cell_type": "markdown",
   "id": "b5cd9e39",
   "metadata": {},
   "source": [
    "### 7.4 자연어 생성"
   ]
  },
  {
   "cell_type": "markdown",
   "id": "d07a2bc9",
   "metadata": {},
   "source": [
    "### 7.4.1 단어 단위 생성"
   ]
  },
  {
   "cell_type": "code",
   "execution_count": 41,
   "id": "b108d102",
   "metadata": {},
   "outputs": [
    {
     "name": "stdout",
     "output_type": "stream",
     "text": [
      "Downloading data from http://bit.ly/2Mc3SOV\n",
      "62013440/62012502 [==============================] - 2s 0us/step\n",
      "62021632/62012502 [==============================] - 2s 0us/step\n"
     ]
    }
   ],
   "source": [
    "# 조선왕조실록 데이터 파일 다운로드\n",
    "\n",
    "path_to_file = tf.keras.utils.get_file('input.txt', 'http://bit.ly/2Mc3SOV')"
   ]
  },
  {
   "cell_type": "code",
   "execution_count": 42,
   "id": "c8bcd635",
   "metadata": {},
   "outputs": [
    {
     "name": "stdout",
     "output_type": "stream",
     "text": [
      "Length of text: 26265493 characters\n",
      "\n",
      "﻿태조 이성계 선대의 가계. 목조 이안사가 전주에서 삼척·의주를 거쳐 알동에 정착하다 \n",
      "태조 강헌 지인 계운 성문 신무 대왕(太祖康獻至仁啓運聖文神武大王)의 성은 이씨(李氏)요, 휘\n"
     ]
    }
   ],
   "source": [
    "# 데이터 로드 및 확인\n",
    "\n",
    "# 데이터를 메모리에 불러옵니다. encoding 형식으로 utf-8 을 지정해야합니다.\n",
    "train_text = open(path_to_file, 'rb').read().decode(encoding='utf-8')\n",
    "\n",
    "# 텍스트가 총 몇 자인지 확인합니다.\n",
    "print('Length of text: {} characters'.format(len(train_text)))\n",
    "print()\n",
    "\n",
    "# 처음 100 자를 확인해봅니다.\n",
    "print(train_text[:100])\n",
    "\n",
    "# 한자가 많음, 한자와 한자가 들어간 괄호 생략"
   ]
  },
  {
   "cell_type": "code",
   "execution_count": 43,
   "id": "3b1954c5",
   "metadata": {},
   "outputs": [
    {
     "name": "stdout",
     "output_type": "stream",
     "text": [
      "['태조', '이성계', '선대의', '가계', '목조', '이안사가', '전주에서', '삼척', '의주를', '거쳐', '알동에', '정착하다', '\\n', '태조', '강헌', '지인', '계운', '성문', '신무', '대왕']\n"
     ]
    }
   ],
   "source": [
    "# 훈련 데이터 입력 정제\n",
    "\n",
    "import re\n",
    "def clean_str(string):    \n",
    "    string = re.sub(r\"[^가-힣A-Za-z0-9(),!?\\'\\`]\", \" \", string)\n",
    "    string = re.sub(r\"\\'ll\", \" \\'ll\", string)\n",
    "    string = re.sub(r\",\", \" , \", string)\n",
    "    string = re.sub(r\"!\", \" ! \", string)\n",
    "    string = re.sub(r\"\\(\", \"\", string)\n",
    "    string = re.sub(r\"\\)\", \"\", string)\n",
    "    string = re.sub(r\"\\?\", \" \\? \", string)\n",
    "    string = re.sub(r\"\\s{2,}\", \" \", string)\n",
    "    string = re.sub(r\"\\'{2,}\", \"\\'\", string)\n",
    "    string = re.sub(r\"\\'\", \"\", string)\n",
    "\n",
    "    return string\n",
    "\n",
    "\n",
    "train_text = train_text.split('\\n')\n",
    "train_text = [clean_str(sentence) for sentence in train_text]\n",
    "train_text_X = []\n",
    "for sentence in train_text:\n",
    "    train_text_X.extend(sentence.split(' '))\n",
    "    train_text_X.append('\\n')\n",
    "    \n",
    "train_text_X = [word for word in train_text_X if word != '']\n",
    "\n",
    "print(train_text_X[:20])"
   ]
  },
  {
   "cell_type": "code",
   "execution_count": 44,
   "id": "c8137f81",
   "metadata": {},
   "outputs": [
    {
     "name": "stdout",
     "output_type": "stream",
     "text": [
      "332640 unique words\n",
      "{\n",
      "  '\\n':   0,\n",
      "  '!' :   1,\n",
      "  ',' :   2,\n",
      "  '000명으로':   3,\n",
      "  '001':   4,\n",
      "  '002':   5,\n",
      "  '003':   6,\n",
      "  '004':   7,\n",
      "  '005':   8,\n",
      "  '006':   9,\n",
      "  ...\n",
      "}\n",
      "index of UNK: 332639\n"
     ]
    }
   ],
   "source": [
    "# 단어 토큰화\n",
    "# Tokenizer를 쓰지 않고 직접 토큰화 (계산 시간 절감)\n",
    "\n",
    "# 단어의 set을 만듭니다.\n",
    "vocab = sorted(set(train_text_X))\n",
    "vocab.append('UNK')\n",
    "print ('{} unique words'.format(len(vocab)))\n",
    "\n",
    "# vocab list를 숫자로 맵핑하고, 반대도 실행합니다.\n",
    "word2idx = {u:i for i, u in enumerate(vocab)}\n",
    "idx2word = np.array(vocab)\n",
    "\n",
    "text_as_int = np.array([word2idx[c] for c in train_text_X])\n",
    "\n",
    "# word2idx 의 일부를 알아보기 쉽게 print 해봅니다.\n",
    "print('{')\n",
    "for word,_ in zip(word2idx, range(10)):\n",
    "    print('  {:4s}: {:3d},'.format(repr(word), word2idx[word]))\n",
    "print('  ...\\n}')\n",
    "\n",
    "print('index of UNK: {}'.format(word2idx['UNK']))"
   ]
  },
  {
   "cell_type": "code",
   "execution_count": 45,
   "id": "a5587890",
   "metadata": {},
   "outputs": [
    {
     "name": "stdout",
     "output_type": "stream",
     "text": [
      "['태조', '이성계', '선대의', '가계', '목조', '이안사가', '전주에서', '삼척', '의주를', '거쳐', '알동에', '정착하다', '\\n', '태조', '강헌', '지인', '계운', '성문', '신무', '대왕']\n",
      "[299305 229634 161443  17430 111029 230292 251081 155087 225462  29027\n",
      " 190295 256129      0 299305  25624 273553  36147 163996 180466  84413]\n"
     ]
    }
   ],
   "source": [
    "# 토큰 데이터 확인\n",
    "\n",
    "print(train_text_X[:20])\n",
    "print(text_as_int[:20])"
   ]
  },
  {
   "cell_type": "code",
   "execution_count": 46,
   "id": "11ce9e28",
   "metadata": {},
   "outputs": [
    {
     "name": "stdout",
     "output_type": "stream",
     "text": [
      "['태조' '이성계' '선대의' '가계' '목조' '이안사가' '전주에서' '삼척' '의주를' '거쳐' '알동에' '정착하다'\n",
      " '\\n' '태조' '강헌' '지인' '계운' '성문' '신무' '대왕' '의' '성은' '이씨' '요' ',' '휘']\n",
      "[299305 229634 161443  17430 111029 230292 251081 155087 225462  29027\n",
      " 190295 256129      0 299305  25624 273553  36147 163996 180466  84413\n",
      " 224182 164549 230248 210912      2 330313]\n"
     ]
    }
   ],
   "source": [
    "# 기본 데이터셋 만들기\n",
    "# tf.data.Dataset 이용 \n",
    "\n",
    "seq_length = 25\n",
    "examples_per_epoch = len(text_as_int) // seq_length\n",
    "sentence_dataset = tf.data.Dataset.from_tensor_slices(text_as_int)\n",
    "# 25개의 단어가 주어졌을 때 다음 단어를 예측하도록 데이터를 만듬\n",
    "\n",
    "sentence_dataset = sentence_dataset.batch(seq_length+1, drop_remainder=True) # 데이터셋 생성 코드\n",
    "for item in sentence_dataset.take(1):\n",
    "    print(idx2word[item.numpy()])\n",
    "    print(item.numpy())"
   ]
  },
  {
   "cell_type": "code",
   "execution_count": 47,
   "id": "601450b7",
   "metadata": {},
   "outputs": [
    {
     "name": "stdout",
     "output_type": "stream",
     "text": [
      "['태조' '이성계' '선대의' '가계' '목조' '이안사가' '전주에서' '삼척' '의주를' '거쳐' '알동에' '정착하다'\n",
      " '\\n' '태조' '강헌' '지인' '계운' '성문' '신무' '대왕' '의' '성은' '이씨' '요' ',']\n",
      "[299305 229634 161443  17430 111029 230292 251081 155087 225462  29027\n",
      " 190295 256129      0 299305  25624 273553  36147 163996 180466  84413\n",
      " 224182 164549 230248 210912      2]\n",
      "휘\n",
      "330313\n"
     ]
    }
   ],
   "source": [
    "# 7학습 데이터셋 만들기\n",
    "\n",
    "def split_input_target(chunk):\n",
    "    return [chunk[:-1], chunk[-1]]\n",
    "\n",
    "train_dataset = sentence_dataset.map(split_input_target)\n",
    "for x,y in train_dataset.take(1):\n",
    "    print(idx2word[x.numpy()])\n",
    "    print(x.numpy())\n",
    "    print(idx2word[y.numpy()])\n",
    "    print(y.numpy())"
   ]
  },
  {
   "cell_type": "code",
   "execution_count": 48,
   "id": "d5f527b7",
   "metadata": {},
   "outputs": [],
   "source": [
    "# 데이터셋 shuffle, batch 설정\n",
    "\n",
    "BATCH_SIZE = 512\n",
    "steps_per_epoch = examples_per_epoch // BATCH_SIZE\n",
    "BUFFER_SIZE = 10000\n",
    "\n",
    "train_dataset = train_dataset.shuffle(BUFFER_SIZE).batch(BATCH_SIZE, drop_remainder=True)"
   ]
  },
  {
   "cell_type": "code",
   "execution_count": 49,
   "id": "782fc95e",
   "metadata": {},
   "outputs": [
    {
     "name": "stdout",
     "output_type": "stream",
     "text": [
      "Model: \"sequential_6\"\n",
      "_________________________________________________________________\n",
      "Layer (type)                 Output Shape              Param #   \n",
      "=================================================================\n",
      "embedding_1 (Embedding)      (None, 25, 100)           33264000  \n",
      "_________________________________________________________________\n",
      "lstm_3 (LSTM)                (None, 25, 100)           80400     \n",
      "_________________________________________________________________\n",
      "dropout (Dropout)            (None, 25, 100)           0         \n",
      "_________________________________________________________________\n",
      "lstm_4 (LSTM)                (None, 100)               80400     \n",
      "_________________________________________________________________\n",
      "dense_6 (Dense)              (None, 332640)            33596640  \n",
      "=================================================================\n",
      "Total params: 67,021,440\n",
      "Trainable params: 67,021,440\n",
      "Non-trainable params: 0\n",
      "_________________________________________________________________\n"
     ]
    }
   ],
   "source": [
    "# 단어 단위 생성 모델 정의\n",
    "\n",
    "total_words = len(vocab)\n",
    "model = tf.keras.Sequential([\n",
    "    tf.keras.layers.Embedding(total_words, 100, input_length=seq_length),\n",
    "    tf.keras.layers.LSTM(units=100, return_sequences=True),\n",
    "    tf.keras.layers.Dropout(0.2), # 과적합 방지\n",
    "    tf.keras.layers.LSTM(units=100),\n",
    "    tf.keras.layers.Dense(total_words, activation='softmax')\n",
    "])\n",
    "\n",
    "model.compile(optimizer='adam', loss='sparse_categorical_crossentropy', metrics=['accuracy'])\n",
    "model.summary()"
   ]
  },
  {
   "cell_type": "code",
   "execution_count": 52,
   "id": "f13d79c4",
   "metadata": {},
   "outputs": [
    {
     "name": "stdout",
     "output_type": "stream",
     "text": [
      "Epoch 1/50\n"
     ]
    },
    {
     "ename": "KeyboardInterrupt",
     "evalue": "",
     "output_type": "error",
     "traceback": [
      "\u001b[1;31m---------------------------------------------------------------------------\u001b[0m",
      "\u001b[1;31mKeyboardInterrupt\u001b[0m                         Traceback (most recent call last)",
      "\u001b[1;32mC:\\Users\\Public\\Documents\\ESTsoft\\CreatorTemp/ipykernel_8232/853544207.py\u001b[0m in \u001b[0;36m<module>\u001b[1;34m\u001b[0m\n\u001b[0;32m     23\u001b[0m \u001b[0mtestmodelcb\u001b[0m \u001b[1;33m=\u001b[0m \u001b[0mtf\u001b[0m\u001b[1;33m.\u001b[0m\u001b[0mkeras\u001b[0m\u001b[1;33m.\u001b[0m\u001b[0mcallbacks\u001b[0m\u001b[1;33m.\u001b[0m\u001b[0mLambdaCallback\u001b[0m\u001b[1;33m(\u001b[0m\u001b[0mon_epoch_end\u001b[0m\u001b[1;33m=\u001b[0m\u001b[0mtestmodel\u001b[0m\u001b[1;33m)\u001b[0m\u001b[1;33m\u001b[0m\u001b[1;33m\u001b[0m\u001b[0m\n\u001b[0;32m     24\u001b[0m \u001b[1;33m\u001b[0m\u001b[0m\n\u001b[1;32m---> 25\u001b[1;33m \u001b[0mhistory\u001b[0m \u001b[1;33m=\u001b[0m \u001b[0mmodel\u001b[0m\u001b[1;33m.\u001b[0m\u001b[0mfit\u001b[0m\u001b[1;33m(\u001b[0m\u001b[0mtrain_dataset\u001b[0m\u001b[1;33m.\u001b[0m\u001b[0mrepeat\u001b[0m\u001b[1;33m(\u001b[0m\u001b[1;33m)\u001b[0m\u001b[1;33m,\u001b[0m \u001b[0mepochs\u001b[0m\u001b[1;33m=\u001b[0m\u001b[1;36m50\u001b[0m\u001b[1;33m,\u001b[0m \u001b[0msteps_per_epoch\u001b[0m\u001b[1;33m=\u001b[0m\u001b[0msteps_per_epoch\u001b[0m\u001b[1;33m,\u001b[0m \u001b[0mcallbacks\u001b[0m\u001b[1;33m=\u001b[0m\u001b[1;33m[\u001b[0m\u001b[0mtestmodelcb\u001b[0m\u001b[1;33m]\u001b[0m\u001b[1;33m,\u001b[0m \u001b[0mverbose\u001b[0m\u001b[1;33m=\u001b[0m\u001b[1;36m2\u001b[0m\u001b[1;33m)\u001b[0m\u001b[1;33m\u001b[0m\u001b[1;33m\u001b[0m\u001b[0m\n\u001b[0m",
      "\u001b[1;32m~\\.conda\\envs\\nnew\\lib\\site-packages\\keras\\engine\\training.py\u001b[0m in \u001b[0;36mfit\u001b[1;34m(self, x, y, batch_size, epochs, verbose, callbacks, validation_split, validation_data, shuffle, class_weight, sample_weight, initial_epoch, steps_per_epoch, validation_steps, validation_batch_size, validation_freq, max_queue_size, workers, use_multiprocessing)\u001b[0m\n\u001b[0;32m   1182\u001b[0m                 _r=1):\n\u001b[0;32m   1183\u001b[0m               \u001b[0mcallbacks\u001b[0m\u001b[1;33m.\u001b[0m\u001b[0mon_train_batch_begin\u001b[0m\u001b[1;33m(\u001b[0m\u001b[0mstep\u001b[0m\u001b[1;33m)\u001b[0m\u001b[1;33m\u001b[0m\u001b[1;33m\u001b[0m\u001b[0m\n\u001b[1;32m-> 1184\u001b[1;33m               \u001b[0mtmp_logs\u001b[0m \u001b[1;33m=\u001b[0m \u001b[0mself\u001b[0m\u001b[1;33m.\u001b[0m\u001b[0mtrain_function\u001b[0m\u001b[1;33m(\u001b[0m\u001b[0miterator\u001b[0m\u001b[1;33m)\u001b[0m\u001b[1;33m\u001b[0m\u001b[1;33m\u001b[0m\u001b[0m\n\u001b[0m\u001b[0;32m   1185\u001b[0m               \u001b[1;32mif\u001b[0m \u001b[0mdata_handler\u001b[0m\u001b[1;33m.\u001b[0m\u001b[0mshould_sync\u001b[0m\u001b[1;33m:\u001b[0m\u001b[1;33m\u001b[0m\u001b[1;33m\u001b[0m\u001b[0m\n\u001b[0;32m   1186\u001b[0m                 \u001b[0mcontext\u001b[0m\u001b[1;33m.\u001b[0m\u001b[0masync_wait\u001b[0m\u001b[1;33m(\u001b[0m\u001b[1;33m)\u001b[0m\u001b[1;33m\u001b[0m\u001b[1;33m\u001b[0m\u001b[0m\n",
      "\u001b[1;32m~\\.conda\\envs\\nnew\\lib\\site-packages\\tensorflow\\python\\eager\\def_function.py\u001b[0m in \u001b[0;36m__call__\u001b[1;34m(self, *args, **kwds)\u001b[0m\n\u001b[0;32m    883\u001b[0m \u001b[1;33m\u001b[0m\u001b[0m\n\u001b[0;32m    884\u001b[0m       \u001b[1;32mwith\u001b[0m \u001b[0mOptionalXlaContext\u001b[0m\u001b[1;33m(\u001b[0m\u001b[0mself\u001b[0m\u001b[1;33m.\u001b[0m\u001b[0m_jit_compile\u001b[0m\u001b[1;33m)\u001b[0m\u001b[1;33m:\u001b[0m\u001b[1;33m\u001b[0m\u001b[1;33m\u001b[0m\u001b[0m\n\u001b[1;32m--> 885\u001b[1;33m         \u001b[0mresult\u001b[0m \u001b[1;33m=\u001b[0m \u001b[0mself\u001b[0m\u001b[1;33m.\u001b[0m\u001b[0m_call\u001b[0m\u001b[1;33m(\u001b[0m\u001b[1;33m*\u001b[0m\u001b[0margs\u001b[0m\u001b[1;33m,\u001b[0m \u001b[1;33m**\u001b[0m\u001b[0mkwds\u001b[0m\u001b[1;33m)\u001b[0m\u001b[1;33m\u001b[0m\u001b[1;33m\u001b[0m\u001b[0m\n\u001b[0m\u001b[0;32m    886\u001b[0m \u001b[1;33m\u001b[0m\u001b[0m\n\u001b[0;32m    887\u001b[0m       \u001b[0mnew_tracing_count\u001b[0m \u001b[1;33m=\u001b[0m \u001b[0mself\u001b[0m\u001b[1;33m.\u001b[0m\u001b[0mexperimental_get_tracing_count\u001b[0m\u001b[1;33m(\u001b[0m\u001b[1;33m)\u001b[0m\u001b[1;33m\u001b[0m\u001b[1;33m\u001b[0m\u001b[0m\n",
      "\u001b[1;32m~\\.conda\\envs\\nnew\\lib\\site-packages\\tensorflow\\python\\eager\\def_function.py\u001b[0m in \u001b[0;36m_call\u001b[1;34m(self, *args, **kwds)\u001b[0m\n\u001b[0;32m    915\u001b[0m       \u001b[1;31m# In this case we have created variables on the first call, so we run the\u001b[0m\u001b[1;33m\u001b[0m\u001b[1;33m\u001b[0m\u001b[1;33m\u001b[0m\u001b[0m\n\u001b[0;32m    916\u001b[0m       \u001b[1;31m# defunned version which is guaranteed to never create variables.\u001b[0m\u001b[1;33m\u001b[0m\u001b[1;33m\u001b[0m\u001b[1;33m\u001b[0m\u001b[0m\n\u001b[1;32m--> 917\u001b[1;33m       \u001b[1;32mreturn\u001b[0m \u001b[0mself\u001b[0m\u001b[1;33m.\u001b[0m\u001b[0m_stateless_fn\u001b[0m\u001b[1;33m(\u001b[0m\u001b[1;33m*\u001b[0m\u001b[0margs\u001b[0m\u001b[1;33m,\u001b[0m \u001b[1;33m**\u001b[0m\u001b[0mkwds\u001b[0m\u001b[1;33m)\u001b[0m  \u001b[1;31m# pylint: disable=not-callable\u001b[0m\u001b[1;33m\u001b[0m\u001b[1;33m\u001b[0m\u001b[0m\n\u001b[0m\u001b[0;32m    918\u001b[0m     \u001b[1;32melif\u001b[0m \u001b[0mself\u001b[0m\u001b[1;33m.\u001b[0m\u001b[0m_stateful_fn\u001b[0m \u001b[1;32mis\u001b[0m \u001b[1;32mnot\u001b[0m \u001b[1;32mNone\u001b[0m\u001b[1;33m:\u001b[0m\u001b[1;33m\u001b[0m\u001b[1;33m\u001b[0m\u001b[0m\n\u001b[0;32m    919\u001b[0m       \u001b[1;31m# Release the lock early so that multiple threads can perform the call\u001b[0m\u001b[1;33m\u001b[0m\u001b[1;33m\u001b[0m\u001b[1;33m\u001b[0m\u001b[0m\n",
      "\u001b[1;32m~\\.conda\\envs\\nnew\\lib\\site-packages\\tensorflow\\python\\eager\\function.py\u001b[0m in \u001b[0;36m__call__\u001b[1;34m(self, *args, **kwargs)\u001b[0m\n\u001b[0;32m   3038\u001b[0m        filtered_flat_args) = self._maybe_define_function(args, kwargs)\n\u001b[0;32m   3039\u001b[0m     return graph_function._call_flat(\n\u001b[1;32m-> 3040\u001b[1;33m         filtered_flat_args, captured_inputs=graph_function.captured_inputs)  # pylint: disable=protected-access\n\u001b[0m\u001b[0;32m   3041\u001b[0m \u001b[1;33m\u001b[0m\u001b[0m\n\u001b[0;32m   3042\u001b[0m   \u001b[1;33m@\u001b[0m\u001b[0mproperty\u001b[0m\u001b[1;33m\u001b[0m\u001b[1;33m\u001b[0m\u001b[0m\n",
      "\u001b[1;32m~\\.conda\\envs\\nnew\\lib\\site-packages\\tensorflow\\python\\eager\\function.py\u001b[0m in \u001b[0;36m_call_flat\u001b[1;34m(self, args, captured_inputs, cancellation_manager)\u001b[0m\n\u001b[0;32m   1962\u001b[0m       \u001b[1;31m# No tape is watching; skip to running the function.\u001b[0m\u001b[1;33m\u001b[0m\u001b[1;33m\u001b[0m\u001b[1;33m\u001b[0m\u001b[0m\n\u001b[0;32m   1963\u001b[0m       return self._build_call_outputs(self._inference_function.call(\n\u001b[1;32m-> 1964\u001b[1;33m           ctx, args, cancellation_manager=cancellation_manager))\n\u001b[0m\u001b[0;32m   1965\u001b[0m     forward_backward = self._select_forward_and_backward_functions(\n\u001b[0;32m   1966\u001b[0m         \u001b[0margs\u001b[0m\u001b[1;33m,\u001b[0m\u001b[1;33m\u001b[0m\u001b[1;33m\u001b[0m\u001b[0m\n",
      "\u001b[1;32m~\\.conda\\envs\\nnew\\lib\\site-packages\\tensorflow\\python\\eager\\function.py\u001b[0m in \u001b[0;36mcall\u001b[1;34m(self, ctx, args, cancellation_manager)\u001b[0m\n\u001b[0;32m    594\u001b[0m               \u001b[0minputs\u001b[0m\u001b[1;33m=\u001b[0m\u001b[0margs\u001b[0m\u001b[1;33m,\u001b[0m\u001b[1;33m\u001b[0m\u001b[1;33m\u001b[0m\u001b[0m\n\u001b[0;32m    595\u001b[0m               \u001b[0mattrs\u001b[0m\u001b[1;33m=\u001b[0m\u001b[0mattrs\u001b[0m\u001b[1;33m,\u001b[0m\u001b[1;33m\u001b[0m\u001b[1;33m\u001b[0m\u001b[0m\n\u001b[1;32m--> 596\u001b[1;33m               ctx=ctx)\n\u001b[0m\u001b[0;32m    597\u001b[0m         \u001b[1;32melse\u001b[0m\u001b[1;33m:\u001b[0m\u001b[1;33m\u001b[0m\u001b[1;33m\u001b[0m\u001b[0m\n\u001b[0;32m    598\u001b[0m           outputs = execute.execute_with_cancellation(\n",
      "\u001b[1;32m~\\.conda\\envs\\nnew\\lib\\site-packages\\tensorflow\\python\\eager\\execute.py\u001b[0m in \u001b[0;36mquick_execute\u001b[1;34m(op_name, num_outputs, inputs, attrs, ctx, name)\u001b[0m\n\u001b[0;32m     58\u001b[0m     \u001b[0mctx\u001b[0m\u001b[1;33m.\u001b[0m\u001b[0mensure_initialized\u001b[0m\u001b[1;33m(\u001b[0m\u001b[1;33m)\u001b[0m\u001b[1;33m\u001b[0m\u001b[1;33m\u001b[0m\u001b[0m\n\u001b[0;32m     59\u001b[0m     tensors = pywrap_tfe.TFE_Py_Execute(ctx._handle, device_name, op_name,\n\u001b[1;32m---> 60\u001b[1;33m                                         inputs, attrs, num_outputs)\n\u001b[0m\u001b[0;32m     61\u001b[0m   \u001b[1;32mexcept\u001b[0m \u001b[0mcore\u001b[0m\u001b[1;33m.\u001b[0m\u001b[0m_NotOkStatusException\u001b[0m \u001b[1;32mas\u001b[0m \u001b[0me\u001b[0m\u001b[1;33m:\u001b[0m\u001b[1;33m\u001b[0m\u001b[1;33m\u001b[0m\u001b[0m\n\u001b[0;32m     62\u001b[0m     \u001b[1;32mif\u001b[0m \u001b[0mname\u001b[0m \u001b[1;32mis\u001b[0m \u001b[1;32mnot\u001b[0m \u001b[1;32mNone\u001b[0m\u001b[1;33m:\u001b[0m\u001b[1;33m\u001b[0m\u001b[1;33m\u001b[0m\u001b[0m\n",
      "\u001b[1;31mKeyboardInterrupt\u001b[0m: "
     ]
    }
   ],
   "source": [
    "# 단어 단위 생성 모델 학습\n",
    "\n",
    "from tensorflow.keras.preprocessing.sequence import pad_sequences\n",
    "\n",
    "def testmodel(epoch, logs):\n",
    "    if epoch % 5 != 0 and epoch != 49:\n",
    "        return\n",
    "    test_sentence = train_text[0]\n",
    "\n",
    "    next_words = 100\n",
    "    for _ in range(next_words):\n",
    "        test_text_X = test_sentence.split(' ')[-seq_length:]\n",
    "        test_text_X = np.array([word2idx[c] if c in word2idx else word2idx['UNK'] for c in test_text_X])\n",
    "        test_text_X = pad_sequences([test_text_X], maxlen=seq_length, padding='pre', value=word2idx['UNK'])\n",
    "\n",
    "        output_idx = model.predict_classess(test_text_X)\n",
    "        test_sentence += ' ' + idx2word[output_idx[0]]\n",
    "    \n",
    "    print()\n",
    "    print(test_sentence)\n",
    "    print()\n",
    "\n",
    "testmodelcb = tf.keras.callbacks.LambdaCallback(on_epoch_end=testmodel)\n",
    "\n",
    "history = model.fit(train_dataset.repeat(), epochs=50, steps_per_epoch=steps_per_epoch, callbacks=[testmodelcb], verbose=2)"
   ]
  },
  {
   "cell_type": "code",
   "execution_count": null,
   "id": "dd4dca69",
   "metadata": {},
   "outputs": [],
   "source": [
    "# 임의의 문장을 사용한 생성 결과 확인\n",
    "\n",
    "from tensorflow.keras.preprocessing.sequence import pad_sequences\n",
    "test_sentence = '동헌에 나가 공무를 본 후 활 십오 순을 쏘았다'\n",
    "\n",
    "next_words = 100\n",
    "for _ in range(next_words):\n",
    "    test_text_X = test_sentence.split(' ')[-seq_length:]\n",
    "    test_text_X = np.array([word2idx[c] if c in word2idx else word2idx['UNK'] for c in test_text_X])\n",
    "    test_text_X = pad_sequences([test_text_X], maxlen=seq_length, padding='pre', value=word2idx['UNK'])\n",
    "    \n",
    "    output_idx = model.predict_classes(test_text_X)\n",
    "    test_sentence += ' ' + idx2word[output_idx[0]]\n",
    "\n",
    "print(test_sentence)\n",
    "\n",
    "# 전체적인 문장의 의미가 잘 통하지는 않지만, 부분 부분에서는 자연스럽게 연결되는 단어들이 보이는 것을 확인 가능"
   ]
  },
  {
   "cell_type": "markdown",
   "id": "01e93135",
   "metadata": {},
   "source": [
    "### 7.4.2 자소 단위 생성\n",
    "* 한글을 자소 단위로 분리하고 다시 합치는 라이브러리 사용 (신해빈님 jamotools)"
   ]
  },
  {
   "cell_type": "code",
   "execution_count": null,
   "id": "f5f76b6a",
   "metadata": {},
   "outputs": [],
   "source": [
    "# jamotools 설치\n",
    "\n",
    "!pip install jamotools"
   ]
  },
  {
   "cell_type": "code",
   "execution_count": null,
   "id": "1aacc369",
   "metadata": {},
   "outputs": [],
   "source": [
    "# 자모 분리 테스트\n",
    "# 영문이나 한자 등에는 영향을 주지 않음\n",
    "\n",
    "import jamotools\n",
    "\n",
    "train_text = open(path_to_file, 'rb').read().decode(encoding='utf-8')\n",
    "s = train_text[:100]\n",
    "print(s)\n",
    "\n",
    "# 한글 텍스트를 자모 단위로 분리해줍니다. 한자 등에는 영향이 없습니다.\n",
    "s_split = jamotools.split_syllables(s)\n",
    "print(s_split)"
   ]
  },
  {
   "cell_type": "code",
   "execution_count": null,
   "id": "61d6d0c5",
   "metadata": {},
   "outputs": [],
   "source": [
    "# 자모 결합 테스트\n",
    "\n",
    "s2 = jamotools.join_jamos(s_split)\n",
    "print(s2)\n",
    "print(s == s2)"
   ]
  },
  {
   "cell_type": "code",
   "execution_count": null,
   "id": "7ef8423a",
   "metadata": {},
   "outputs": [],
   "source": [
    "# 자모 토큰화\n",
    "# 따로 텍스트 전처리를 하지 않기 때문에 괄호, 한자 등이 토큰에 포함됨\n",
    "\n",
    "# 텍스트를 자모 단위로 나눕니다. 데이터가 크기 때문에 약간 시간이 걸립니다.\n",
    "train_text_X = jamotools.split_syllables(train_text)\n",
    "vocab = sorted(set(train_text_X))\n",
    "vocab.append('UNK')\n",
    "print ('{} unique characters'.format(len(vocab)))\n",
    "\n",
    "# vocab list를 숫자로 맵핑하고, 반대도 실행합니다.\n",
    "char2idx = {u:i for i, u in enumerate(vocab)}\n",
    "idx2char = np.array(vocab)\n",
    "\n",
    "text_as_int = np.array([char2idx[c] for c in train_text_X])\n",
    "\n",
    "# word2idx 의 일부를 알아보기 쉽게 print 해봅니다.\n",
    "print('{')\n",
    "for char,_ in zip(char2idx, range(10)):\n",
    "    print('  {:4s}: {:3d},'.format(repr(char), char2idx[char]))\n",
    "print('  ...\\n}')\n",
    "\n",
    "print('index of UNK: {}'.format(char2idx['UNK']))"
   ]
  },
  {
   "cell_type": "code",
   "execution_count": null,
   "id": "bb022468",
   "metadata": {},
   "outputs": [],
   "source": [
    "# 토큰 데이터 확인\n",
    "\n",
    "print(train_text_X[:20])\n",
    "print(text_as_int[:20])"
   ]
  },
  {
   "cell_type": "code",
   "execution_count": null,
   "id": "757e0913",
   "metadata": {},
   "outputs": [],
   "source": [
    "# 학습 데이터세트 생성\n",
    "\n",
    "seq_length = 80\n",
    "examples_per_epoch = len(text_as_int) // seq_length\n",
    "char_dataset = tf.data.Dataset.from_tensor_slices(text_as_int)\n",
    "\n",
    "char_dataset = char_dataset.batch(seq_length+1, drop_remainder=True)\n",
    "for item in char_dataset.take(1):\n",
    "    print(idx2char[item.numpy()])\n",
    "    print(item.numpy())\n",
    "    \n",
    "def split_input_target(chunk):\n",
    "    return [chunk[:-1], chunk[-1]]\n",
    "\n",
    "train_dataset = char_dataset.map(split_input_target)\n",
    "for x,y in train_dataset.take(1):\n",
    "    print(idx2char[x.numpy()])\n",
    "    print(x.numpy())\n",
    "    print(idx2char[y.numpy()])\n",
    "    print(y.numpy())\n",
    "    \n",
    "BATCH_SIZE = 256\n",
    "steps_per_epoch = examples_per_epoch // BATCH_SIZE\n",
    "BUFFER_SIZE = 10000\n",
    "\n",
    "train_dataset = train_dataset.shuffle(BUFFER_SIZE).batch(BATCH_SIZE, drop_remainder=True)"
   ]
  },
  {
   "cell_type": "code",
   "execution_count": null,
   "id": "a09397bc",
   "metadata": {},
   "outputs": [],
   "source": [
    "# 자소 단위 생성 모델 정의\n",
    "\n",
    "total_chars = len(vocab)\n",
    "model = tf.keras.Sequential([\n",
    "    tf.keras.layers.Embedding(total_chars, 100, input_length=seq_length),\n",
    "    tf.keras.layers.LSTM(units=400),\n",
    "    tf.keras.layers.Dense(total_chars, activation='softmax')\n",
    "])\n",
    "\n",
    "model.compile(optimizer='adam', loss='sparse_categorical_crossentropy', metrics=['accuracy'])\n",
    "model.summary()"
   ]
  },
  {
   "cell_type": "code",
   "execution_count": null,
   "id": "7d4e0dda",
   "metadata": {},
   "outputs": [],
   "source": [
    "# 자소 단위 생성 모델 학습\n",
    "\n",
    "from tensorflow.keras.preprocessing.sequence import pad_sequences\n",
    "\n",
    "def testmodel(epoch, logs):\n",
    "    if epoch % 5 != 0 and epoch != 99:\n",
    "        return\n",
    "    \n",
    "    test_sentence = train_text[:48]\n",
    "    test_sentence = jamotools.split_syllables(test_sentence)\n",
    "\n",
    "    next_chars = 300\n",
    "    for _ in range(next_chars):\n",
    "        test_text_X = test_sentence[-seq_length:]\n",
    "        test_text_X = np.array([char2idx[c] if c in char2idx else char2idx['UNK'] for c in test_text_X])\n",
    "        test_text_X = pad_sequences([test_text_X], maxlen=seq_length, padding='pre', value=char2idx['UNK'])\n",
    "\n",
    "        output_idx = model.predict_classes(test_text_X)\n",
    "        test_sentence += idx2char[output_idx[0]]\n",
    "    \n",
    "    print()\n",
    "    print(jamotools.join_jamos(test_sentence))\n",
    "    print()\n",
    "\n",
    "testmodelcb = tf.keras.callbacks.LambdaCallback(on_epoch_end=testmodel)\n",
    "\n",
    "history = model.fit(train_dataset.repeat(), epochs=100, steps_per_epoch=steps_per_epoch, callbacks=[testmodelcb], verbose=2)"
   ]
  },
  {
   "cell_type": "code",
   "execution_count": null,
   "id": "00d84b9d",
   "metadata": {},
   "outputs": [],
   "source": [
    "# 임의의 문장을 사용한 생성 결과 확인\n",
    "\n",
    "from tensorflow.keras.preprocessing.sequence import pad_sequences\n",
    "test_sentence = '동헌에 나가 공무를 본 후 활 십오 순을 쏘았다'\n",
    "test_sentence = jamotools.split_syllables(test_sentence)\n",
    "\n",
    "next_chars = 300\n",
    "for _ in range(next_chars):\n",
    "    test_text_X = test_sentence[-seq_length:]\n",
    "    test_text_X = np.array([char2idx[c] if c in char2idx else char2idx['UNK'] for c in test_text_X])\n",
    "    test_text_X = pad_sequences([test_text_X], maxlen=seq_length, padding='pre', value=char2idx['UNK'])\n",
    "    \n",
    "    output_idx = model.predict_classes(test_text_X)\n",
    "    test_sentence += idx2char[output_idx[0]]\n",
    "    \n",
    "\n",
    "print(jamotools.join_jamos(test_sentence))"
   ]
  },
  {
   "cell_type": "markdown",
   "id": "b9f30e29",
   "metadata": {},
   "source": [
    "# EOD"
   ]
  }
 ],
 "metadata": {
  "kernelspec": {
   "display_name": "nnew(3.8)",
   "language": "python",
   "name": "nnew"
  },
  "language_info": {
   "codemirror_mode": {
    "name": "ipython",
    "version": 3
   },
   "file_extension": ".py",
   "mimetype": "text/x-python",
   "name": "python",
   "nbconvert_exporter": "python",
   "pygments_lexer": "ipython3",
   "version": "3.7.11"
  }
 },
 "nbformat": 4,
 "nbformat_minor": 5
}
