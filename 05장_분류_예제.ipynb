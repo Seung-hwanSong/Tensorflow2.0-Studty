{
 "cells": [
  {
   "cell_type": "markdown",
   "metadata": {},
   "source": [
    "# 분류 예제"
   ]
  },
  {
   "cell_type": "code",
   "execution_count": 22,
   "metadata": {},
   "outputs": [],
   "source": [
    "import pandas as pd\n",
    "import matplotlib.pyplot as plt # 시각화 패키지 가져오기\n",
    "\n",
    "from sklearn.preprocessing import StandardScaler # 연속변수의 표준화\n",
    "from sklearn.model_selection import train_test_split \n",
    "\n",
    "\n",
    "import tensorflow as tf\n",
    "\n",
    "from sklearn.metrics import confusion_matrix, classification_report # 정오분류표\n",
    "from sklearn.metrics import accuracy_score, precision_score, recall_score, f1_score, roc_auc_score # 정확도, 민감도 등\n",
    "from sklearn.metrics import roc_curve, auc # ROC 곡선 그리기"
   ]
  },
  {
   "cell_type": "code",
   "execution_count": 2,
   "metadata": {},
   "outputs": [
    {
     "data": {
      "text/html": [
       "<div>\n",
       "<style scoped>\n",
       "    .dataframe tbody tr th:only-of-type {\n",
       "        vertical-align: middle;\n",
       "    }\n",
       "\n",
       "    .dataframe tbody tr th {\n",
       "        vertical-align: top;\n",
       "    }\n",
       "\n",
       "    .dataframe thead th {\n",
       "        text-align: right;\n",
       "    }\n",
       "</style>\n",
       "<table border=\"1\" class=\"dataframe\">\n",
       "  <thead>\n",
       "    <tr style=\"text-align: right;\">\n",
       "      <th></th>\n",
       "      <th>X1</th>\n",
       "      <th>X2</th>\n",
       "      <th>X3</th>\n",
       "      <th>X4</th>\n",
       "      <th>X5</th>\n",
       "      <th>X6</th>\n",
       "      <th>X7</th>\n",
       "      <th>X8</th>\n",
       "      <th>X9</th>\n",
       "      <th>X10</th>\n",
       "      <th>...</th>\n",
       "      <th>X25</th>\n",
       "      <th>X26</th>\n",
       "      <th>X27</th>\n",
       "      <th>X28</th>\n",
       "      <th>X29</th>\n",
       "      <th>X30</th>\n",
       "      <th>X31</th>\n",
       "      <th>X32</th>\n",
       "      <th>X33</th>\n",
       "      <th>Target</th>\n",
       "    </tr>\n",
       "  </thead>\n",
       "  <tbody>\n",
       "    <tr>\n",
       "      <th>0</th>\n",
       "      <td>1</td>\n",
       "      <td>1</td>\n",
       "      <td>105</td>\n",
       "      <td>11</td>\n",
       "      <td>-0.006</td>\n",
       "      <td>0.746</td>\n",
       "      <td>0.146</td>\n",
       "      <td>-0.006</td>\n",
       "      <td>0.797</td>\n",
       "      <td>0.147</td>\n",
       "      <td>...</td>\n",
       "      <td>0.137</td>\n",
       "      <td>0.853</td>\n",
       "      <td>0.103</td>\n",
       "      <td>-0.006</td>\n",
       "      <td>0.812</td>\n",
       "      <td>0.162</td>\n",
       "      <td>-0.012</td>\n",
       "      <td>0.759</td>\n",
       "      <td>0.159</td>\n",
       "      <td>1</td>\n",
       "    </tr>\n",
       "    <tr>\n",
       "      <th>1</th>\n",
       "      <td>1</td>\n",
       "      <td>1</td>\n",
       "      <td>105</td>\n",
       "      <td>11</td>\n",
       "      <td>-0.012</td>\n",
       "      <td>0.612</td>\n",
       "      <td>0.012</td>\n",
       "      <td>0.012</td>\n",
       "      <td>0.724</td>\n",
       "      <td>0.074</td>\n",
       "      <td>...</td>\n",
       "      <td>0.190</td>\n",
       "      <td>0.835</td>\n",
       "      <td>0.085</td>\n",
       "      <td>-0.018</td>\n",
       "      <td>0.681</td>\n",
       "      <td>0.031</td>\n",
       "      <td>-0.012</td>\n",
       "      <td>0.679</td>\n",
       "      <td>0.079</td>\n",
       "      <td>1</td>\n",
       "    </tr>\n",
       "    <tr>\n",
       "      <th>2</th>\n",
       "      <td>1</td>\n",
       "      <td>1</td>\n",
       "      <td>105</td>\n",
       "      <td>11</td>\n",
       "      <td>0.012</td>\n",
       "      <td>0.727</td>\n",
       "      <td>0.127</td>\n",
       "      <td>0.006</td>\n",
       "      <td>0.794</td>\n",
       "      <td>0.144</td>\n",
       "      <td>...</td>\n",
       "      <td>0.197</td>\n",
       "      <td>0.856</td>\n",
       "      <td>0.106</td>\n",
       "      <td>-0.012</td>\n",
       "      <td>0.743</td>\n",
       "      <td>0.093</td>\n",
       "      <td>-0.018</td>\n",
       "      <td>0.656</td>\n",
       "      <td>0.056</td>\n",
       "      <td>1</td>\n",
       "    </tr>\n",
       "    <tr>\n",
       "      <th>3</th>\n",
       "      <td>1</td>\n",
       "      <td>1</td>\n",
       "      <td>105</td>\n",
       "      <td>11</td>\n",
       "      <td>0.000</td>\n",
       "      <td>0.774</td>\n",
       "      <td>0.174</td>\n",
       "      <td>0.012</td>\n",
       "      <td>0.684</td>\n",
       "      <td>0.034</td>\n",
       "      <td>...</td>\n",
       "      <td>0.128</td>\n",
       "      <td>0.793</td>\n",
       "      <td>0.043</td>\n",
       "      <td>-0.017</td>\n",
       "      <td>0.655</td>\n",
       "      <td>0.005</td>\n",
       "      <td>-0.012</td>\n",
       "      <td>0.688</td>\n",
       "      <td>0.088</td>\n",
       "      <td>1</td>\n",
       "    </tr>\n",
       "    <tr>\n",
       "      <th>4</th>\n",
       "      <td>1</td>\n",
       "      <td>1</td>\n",
       "      <td>105</td>\n",
       "      <td>11</td>\n",
       "      <td>-0.006</td>\n",
       "      <td>0.772</td>\n",
       "      <td>0.172</td>\n",
       "      <td>-0.006</td>\n",
       "      <td>0.825</td>\n",
       "      <td>0.175</td>\n",
       "      <td>...</td>\n",
       "      <td>0.102</td>\n",
       "      <td>0.809</td>\n",
       "      <td>0.059</td>\n",
       "      <td>-0.006</td>\n",
       "      <td>0.750</td>\n",
       "      <td>0.100</td>\n",
       "      <td>-0.012</td>\n",
       "      <td>0.711</td>\n",
       "      <td>0.111</td>\n",
       "      <td>1</td>\n",
       "    </tr>\n",
       "  </tbody>\n",
       "</table>\n",
       "<p>5 rows × 34 columns</p>\n",
       "</div>"
      ],
      "text/plain": [
       "   X1  X2   X3  X4     X5     X6     X7     X8     X9    X10  ...    X25  \\\n",
       "0   1   1  105  11 -0.006  0.746  0.146 -0.006  0.797  0.147  ...  0.137   \n",
       "1   1   1  105  11 -0.012  0.612  0.012  0.012  0.724  0.074  ...  0.190   \n",
       "2   1   1  105  11  0.012  0.727  0.127  0.006  0.794  0.144  ...  0.197   \n",
       "3   1   1  105  11  0.000  0.774  0.174  0.012  0.684  0.034  ...  0.128   \n",
       "4   1   1  105  11 -0.006  0.772  0.172 -0.006  0.825  0.175  ...  0.102   \n",
       "\n",
       "     X26    X27    X28    X29    X30    X31    X32    X33  Target  \n",
       "0  0.853  0.103 -0.006  0.812  0.162 -0.012  0.759  0.159       1  \n",
       "1  0.835  0.085 -0.018  0.681  0.031 -0.012  0.679  0.079       1  \n",
       "2  0.856  0.106 -0.012  0.743  0.093 -0.018  0.656  0.056       1  \n",
       "3  0.793  0.043 -0.017  0.655  0.005 -0.012  0.688  0.088       1  \n",
       "4  0.809  0.059 -0.006  0.750  0.100 -0.012  0.711  0.111       1  \n",
       "\n",
       "[5 rows x 34 columns]"
      ]
     },
     "execution_count": 2,
     "metadata": {},
     "output_type": "execute_result"
    }
   ],
   "source": [
    "# 데이터 불러오기\n",
    "data = pd.read_excel(\"./data/exam 분류.xlsx\")\n",
    "data.head()"
   ]
  },
  {
   "cell_type": "code",
   "execution_count": 3,
   "metadata": {},
   "outputs": [
    {
     "data": {
      "image/png": "[encoded data removed]",
      "text/plain": [
       "<Figure size 432x288 with 1 Axes>"
      ]
     },
     "metadata": {
      "needs_background": "light"
     },
     "output_type": "display_data"
    },
    {
     "name": "stdout",
     "output_type": "stream",
     "text": [
      "1    202\n",
      "0     15\n",
      "Name: Target, dtype: int64\n"
     ]
    }
   ],
   "source": [
    "# 간단한 그래프 \n",
    "\n",
    "plt.hist(data['Target'])\n",
    "plt.xticks([0,1])\n",
    "plt.show()\n",
    "\n",
    "print(data['Target'].value_counts())"
   ]
  },
  {
   "cell_type": "code",
   "execution_count": 4,
   "metadata": {},
   "outputs": [
    {
     "name": "stdout",
     "output_type": "stream",
     "text": [
      "     X1  X2   X3  X4     X5     X6     X7     X8     X9    X10  ...    X25  \\\n",
      "173   2   3   85  11  0.012  0.698  0.098  0.012  0.709  0.059  ...  0.118   \n",
      "203   2   3   85  11  0.006  0.786  0.186  0.012  0.739  0.089  ...  0.187   \n",
      "193   2   3   85  11 -0.012  0.712  0.112  0.012  0.745  0.095  ...  0.164   \n",
      "209   2   3   85  11  0.012  0.740  0.140  0.006  0.779  0.129  ...  0.140   \n",
      "91    1   1  105  11 -0.006  0.760  0.160  0.006  0.830  0.180  ...  0.145   \n",
      "\n",
      "       X26    X27    X28    X29    X30    X31    X32    X33  Target  \n",
      "173  0.809  0.059 -0.012  0.737  0.087 -0.006  0.782  0.182       1  \n",
      "203  0.849  0.099 -0.018  0.731  0.081 -0.012  0.769  0.169       1  \n",
      "193  0.844  0.094 -0.012  0.770  0.120  0.000  0.814  0.214       1  \n",
      "209  0.843  0.093 -0.006  0.792  0.142  0.000  0.825  0.225       1  \n",
      "91   0.853  0.103 -0.012  0.787  0.137 -0.012  0.732  0.132       1  \n",
      "\n",
      "[5 rows x 34 columns]\n",
      "[[ 2.0000e+00  3.0000e+00  8.5000e+01  1.1000e+01  1.2000e-02  6.9800e-01\n",
      "   9.8000e-02  1.2000e-02  7.0900e-01  5.9000e-02  4.2256e+01  8.2900e-01\n",
      "   7.9000e-02 -6.0000e-03  8.0400e-01  1.5400e-01  0.0000e+00  7.9200e-01\n",
      "   1.9200e-01  0.0000e+00  8.0700e-01  2.0700e-01 -6.0000e-03  7.6800e-01\n",
      "   1.1800e-01  8.0900e-01  5.9000e-02 -1.2000e-02  7.3700e-01  8.7000e-02\n",
      "  -6.0000e-03  7.8200e-01  1.8200e-01  1.0000e+00]\n",
      " [ 2.0000e+00  3.0000e+00  8.5000e+01  1.1000e+01  6.0000e-03  7.8600e-01\n",
      "   1.8600e-01  1.2000e-02  7.3900e-01  8.9000e-02  4.2277e+01  8.3600e-01\n",
      "   8.6000e-02 -1.2000e-02  7.7100e-01  1.2100e-01  6.0000e-03  7.8100e-01\n",
      "   1.8100e-01  0.0000e+00  7.9700e-01  1.9700e-01 -6.0000e-03  8.3700e-01\n",
      "   1.8700e-01  8.4900e-01  9.9000e-02 -1.8000e-02  7.3100e-01  8.1000e-02\n",
      "  -1.2000e-02  7.6900e-01  1.6900e-01  1.0000e+00]\n",
      " [ 2.0000e+00  3.0000e+00  8.5000e+01  1.1000e+01 -1.2000e-02  7.1200e-01\n",
      "   1.1200e-01  1.2000e-02  7.4500e-01  9.5000e-02  4.2254e+01  8.2000e-01\n",
      "   7.0000e-02 -6.0000e-03  8.0500e-01  1.5500e-01  1.2000e-02  6.8900e-01\n",
      "   8.9000e-02 -6.0000e-03  7.8400e-01  1.8400e-01 -6.0000e-03  8.1400e-01\n",
      "   1.6400e-01  8.4400e-01  9.4000e-02 -1.2000e-02  7.7000e-01  1.2000e-01\n",
      "   0.0000e+00  8.1400e-01  2.1400e-01  1.0000e+00]\n",
      " [ 2.0000e+00  3.0000e+00  8.5000e+01  1.1000e+01  1.2000e-02  7.4000e-01\n",
      "   1.4000e-01  6.0000e-03  7.7900e-01  1.2900e-01  4.2257e+01  8.4200e-01\n",
      "   9.2000e-02  6.0000e-03  7.3900e-01  8.9000e-02  1.8000e-02  6.3300e-01\n",
      "   3.3000e-02  0.0000e+00  8.3400e-01  2.3400e-01 -1.2000e-02  7.9000e-01\n",
      "   1.4000e-01  8.4300e-01  9.3000e-02 -6.0000e-03  7.9200e-01  1.4200e-01\n",
      "   0.0000e+00  8.2500e-01  2.2500e-01  1.0000e+00]\n",
      " [ 1.0000e+00  1.0000e+00  1.0500e+02  1.1000e+01 -6.0000e-03  7.6000e-01\n",
      "   1.6000e-01  6.0000e-03  8.3000e-01  1.8000e-01  4.2151e+01  8.5200e-01\n",
      "   1.0200e-01  0.0000e+00  8.3300e-01  1.8300e-01 -6.0000e-03  7.4700e-01\n",
      "   1.4700e-01 -1.2000e-02  7.3400e-01  1.3400e-01 -1.2000e-02  7.9500e-01\n",
      "   1.4500e-01  8.5300e-01  1.0300e-01 -1.2000e-02  7.8700e-01  1.3700e-01\n",
      "  -1.2000e-02  7.3200e-01  1.3200e-01  1.0000e+00]]\n"
     ]
    }
   ],
   "source": [
    "data_shuffle = data.sample(frac=1) #frac = 1 이므로 100% , 즉 모든 데이터를 뽑아서 섞는 것과 동일한 효과임 \n",
    "print(data_shuffle.head())\n",
    "data_np = data_shuffle.to_numpy()\n",
    "print(data_np[:5])"
   ]
  },
  {
   "cell_type": "code",
   "execution_count": 5,
   "metadata": {},
   "outputs": [
    {
     "name": "stdout",
     "output_type": "stream",
     "text": [
      "[ 2.0000e+00  3.0000e+00  8.5000e+01  1.1000e+01  1.2000e-02  6.9800e-01\n",
      "  9.8000e-02  1.2000e-02  7.0900e-01  5.9000e-02  4.2256e+01  8.2900e-01\n",
      "  7.9000e-02 -6.0000e-03  8.0400e-01  1.5400e-01  0.0000e+00  7.9200e-01\n",
      "  1.9200e-01  0.0000e+00  8.0700e-01  2.0700e-01 -6.0000e-03  7.6800e-01\n",
      "  1.1800e-01  8.0900e-01  5.9000e-02 -1.2000e-02  7.3700e-01  8.7000e-02\n",
      " -6.0000e-03  7.8200e-01  1.8200e-01]\n",
      "1.0\n",
      "[ 1.000e+00  1.000e+00  1.050e+02  1.100e+01  0.000e+00  7.760e-01\n",
      "  1.760e-01 -1.200e-02  7.420e-01  9.200e-02  4.162e+01  8.210e-01\n",
      "  7.100e-02  1.200e-02  7.230e-01  7.300e-02 -6.000e-03  7.290e-01\n",
      "  1.290e-01 -1.200e-02  7.140e-01  1.140e-01 -1.800e-02  6.840e-01\n",
      "  3.400e-02  8.240e-01  7.400e-02 -6.000e-03  7.880e-01  1.380e-01\n",
      " -6.000e-03  7.500e-01  1.500e-01]\n",
      "1.0\n"
     ]
    }
   ],
   "source": [
    "# 훈련 데이터와 테스트 데이터로 분리\n",
    "train_idx = int(len(data_np) * 0.8)\n",
    "train_X, train_Y = data_np[:train_idx, :-1], data_np[:train_idx, -1]\n",
    "test_X, test_Y = data_np[train_idx:, :-1], data_np[train_idx:, -1]\n",
    "\n",
    "print(train_X[0])\n",
    "print(train_Y[0])\n",
    "print(test_X[0])\n",
    "print(test_Y[0])"
   ]
  },
  {
   "cell_type": "code",
   "execution_count": 6,
   "metadata": {},
   "outputs": [],
   "source": [
    "from imblearn.over_sampling import SMOTE\n",
    "\n",
    "resampled_X, resampled_Y = SMOTE(random_state=2021).fit_resample(train_X, train_Y)"
   ]
  },
  {
   "cell_type": "code",
   "execution_count": 7,
   "metadata": {},
   "outputs": [
    {
     "data": {
      "text/plain": [
       "Text(0.5, 1.0, 'SMOTE Training Data')"
      ]
     },
     "execution_count": 7,
     "metadata": {},
     "output_type": "execute_result"
    },
    {
     "data": {
      "image/png": "[encoded data removed]",
      "text/plain": [
       "<Figure size 648x216 with 2 Axes>"
      ]
     },
     "metadata": {
      "needs_background": "light"
     },
     "output_type": "display_data"
    }
   ],
   "source": [
    "# 간단한 그래프 \n",
    "\n",
    "plt.figure(figsize=(9, 3))\n",
    "\n",
    "plt.subplot(121)\n",
    "plt.hist(train_Y)\n",
    "plt.ylim(0, 110)\n",
    "plt.xticks([0,1])\n",
    "plt.title('Training Data')\n",
    "\n",
    "plt.subplot(122)\n",
    "plt.hist(resampled_Y)\n",
    "plt.ylim(0, 110)\n",
    "plt.xticks([0,1])\n",
    "plt.title('SMOTE Training Data')"
   ]
  },
  {
   "cell_type": "code",
   "execution_count": 8,
   "metadata": {},
   "outputs": [
    {
     "name": "stdout",
     "output_type": "stream",
     "text": [
      "[0. 1.]\n",
      "[0. 1.]\n"
     ]
    }
   ],
   "source": [
    "# utils의 to_categorical은 target 값을 one-hot-encoding 방식으로 바꿈\n",
    "resampled_Y = tf.keras.utils.to_categorical(resampled_Y, num_classes=2)\n",
    "test_Y = tf.keras.utils.to_categorical(test_Y, num_classes=2)\n",
    "print(resampled_Y[0])\n",
    "print(test_Y[0])"
   ]
  },
  {
   "cell_type": "code",
   "execution_count": 9,
   "metadata": {},
   "outputs": [],
   "source": [
    "# 데이터 정규화\n",
    "\n",
    "scaler = StandardScaler()\n",
    "scaler.fit(resampled_X)\n",
    "resampled_X = scaler.transform(resampled_X)\n",
    "\n",
    "scaler = StandardScaler()\n",
    "scaler.fit(test_X)\n",
    "test_X = scaler.transform(test_X)"
   ]
  },
  {
   "cell_type": "code",
   "execution_count": 15,
   "metadata": {},
   "outputs": [
    {
     "name": "stdout",
     "output_type": "stream",
     "text": [
      "Model: \"sequential_1\"\n",
      "_________________________________________________________________\n",
      "Layer (type)                 Output Shape              Param #   \n",
      "=================================================================\n",
      "dense_5 (Dense)              (None, 100)               3400      \n",
      "_________________________________________________________________\n",
      "dense_6 (Dense)              (None, 70)                7070      \n",
      "_________________________________________________________________\n",
      "dense_7 (Dense)              (None, 50)                3550      \n",
      "_________________________________________________________________\n",
      "dense_8 (Dense)              (None, 20)                1020      \n",
      "_________________________________________________________________\n",
      "dense_9 (Dense)              (None, 2)                 42        \n",
      "=================================================================\n",
      "Total params: 15,082\n",
      "Trainable params: 15,082\n",
      "Non-trainable params: 0\n",
      "_________________________________________________________________\n"
     ]
    }
   ],
   "source": [
    "# 데이터세트 분류 모델 생성\n",
    "\n",
    "model = tf.keras.Sequential([\n",
    "    tf.keras.layers.Dense(units=100, activation='relu', input_shape=(33,)),\n",
    "    tf.keras.layers.Dense(units=70, activation='relu'),\n",
    "    tf.keras.layers.Dense(units=50, activation='relu'),\n",
    "    tf.keras.layers.Dense(units=20, activation='relu'),\n",
    "    tf.keras.layers.Dense(units=2, activation='softmax')\n",
    "])\n",
    "\n",
    "model.compile(optimizer=tf.keras.optimizers.Adam(lr=0.01), loss='categorical_crossentropy', metrics = ['accuracy'])\n",
    "\n",
    "model.summary()"
   ]
  },
  {
   "cell_type": "code",
   "execution_count": 16,
   "metadata": {},
   "outputs": [
    {
     "name": "stdout",
     "output_type": "stream",
     "text": [
      "Epoch 1/100\n",
      "1/8 [==>...........................] - ETA: 0s - loss: 0.6731 - accuracy: 0.6250WARNING:tensorflow:Callbacks method `on_train_batch_end` is slow compared to the batch time (batch time: 0.0000s vs `on_train_batch_end` time: 0.0010s). Check your callbacks.\n",
      "8/8 [==============================] - 0s 20ms/step - loss: 0.5477 - accuracy: 0.7572 - val_loss: 0.7991 - val_accuracy: 0.4198\n",
      "Epoch 2/100\n",
      "8/8 [==============================] - 0s 2ms/step - loss: 0.2701 - accuracy: 0.8930 - val_loss: 0.1723 - val_accuracy: 1.0000\n",
      "Epoch 3/100\n",
      "8/8 [==============================] - 0s 2ms/step - loss: 0.1979 - accuracy: 0.9259 - val_loss: 0.1321 - val_accuracy: 0.9506\n",
      "Epoch 4/100\n",
      "8/8 [==============================] - 0s 2ms/step - loss: 0.1830 - accuracy: 0.9218 - val_loss: 0.1659 - val_accuracy: 0.9506\n",
      "Epoch 5/100\n",
      "8/8 [==============================] - 0s 2ms/step - loss: 0.1077 - accuracy: 0.9630 - val_loss: 0.2825 - val_accuracy: 0.9383\n",
      "Epoch 6/100\n",
      "8/8 [==============================] - 0s 2ms/step - loss: 0.0946 - accuracy: 0.9630 - val_loss: 0.0917 - val_accuracy: 0.9753\n",
      "Epoch 7/100\n",
      "8/8 [==============================] - 0s 2ms/step - loss: 0.1024 - accuracy: 0.9630 - val_loss: 0.0459 - val_accuracy: 1.0000\n",
      "Epoch 8/100\n",
      "8/8 [==============================] - 0s 2ms/step - loss: 0.0701 - accuracy: 0.9671 - val_loss: 0.0625 - val_accuracy: 0.9753\n",
      "Epoch 9/100\n",
      "8/8 [==============================] - 0s 2ms/step - loss: 0.0587 - accuracy: 0.9835 - val_loss: 0.0773 - val_accuracy: 0.9877\n",
      "Epoch 10/100\n",
      "8/8 [==============================] - 0s 2ms/step - loss: 0.0496 - accuracy: 0.9835 - val_loss: 0.0253 - val_accuracy: 1.0000\n",
      "Epoch 11/100\n",
      "8/8 [==============================] - 0s 2ms/step - loss: 0.0599 - accuracy: 0.9877 - val_loss: 0.0376 - val_accuracy: 1.0000\n",
      "Epoch 12/100\n",
      "8/8 [==============================] - 0s 2ms/step - loss: 0.0261 - accuracy: 0.9918 - val_loss: 0.0505 - val_accuracy: 0.9753\n",
      "Epoch 13/100\n",
      "8/8 [==============================] - 0s 2ms/step - loss: 0.0115 - accuracy: 1.0000 - val_loss: 0.0064 - val_accuracy: 1.0000\n",
      "Epoch 14/100\n",
      "8/8 [==============================] - 0s 2ms/step - loss: 0.0068 - accuracy: 0.9959 - val_loss: 0.0097 - val_accuracy: 1.0000\n",
      "Epoch 15/100\n",
      "8/8 [==============================] - 0s 2ms/step - loss: 0.0036 - accuracy: 1.0000 - val_loss: 0.0044 - val_accuracy: 1.0000\n",
      "Epoch 16/100\n",
      "8/8 [==============================] - 0s 2ms/step - loss: 0.0011 - accuracy: 1.0000 - val_loss: 0.0029 - val_accuracy: 1.0000\n",
      "Epoch 17/100\n",
      "8/8 [==============================] - 0s 2ms/step - loss: 5.6950e-04 - accuracy: 1.0000 - val_loss: 0.0026 - val_accuracy: 1.0000\n",
      "Epoch 18/100\n",
      "8/8 [==============================] - 0s 2ms/step - loss: 3.6329e-04 - accuracy: 1.0000 - val_loss: 0.0025 - val_accuracy: 1.0000\n",
      "Epoch 19/100\n",
      "8/8 [==============================] - 0s 2ms/step - loss: 2.8303e-04 - accuracy: 1.0000 - val_loss: 0.0023 - val_accuracy: 1.0000\n",
      "Epoch 20/100\n",
      "8/8 [==============================] - 0s 2ms/step - loss: 2.2108e-04 - accuracy: 1.0000 - val_loss: 0.0021 - val_accuracy: 1.0000\n",
      "Epoch 21/100\n",
      "8/8 [==============================] - 0s 2ms/step - loss: 1.8824e-04 - accuracy: 1.0000 - val_loss: 0.0019 - val_accuracy: 1.0000\n",
      "Epoch 22/100\n",
      "8/8 [==============================] - 0s 2ms/step - loss: 1.4686e-04 - accuracy: 1.0000 - val_loss: 0.0018 - val_accuracy: 1.0000\n",
      "Epoch 23/100\n",
      "8/8 [==============================] - 0s 2ms/step - loss: 1.2908e-04 - accuracy: 1.0000 - val_loss: 0.0016 - val_accuracy: 1.0000\n",
      "Epoch 24/100\n",
      "8/8 [==============================] - 0s 2ms/step - loss: 1.0744e-04 - accuracy: 1.0000 - val_loss: 0.0012 - val_accuracy: 1.0000\n",
      "Epoch 25/100\n",
      "8/8 [==============================] - 0s 2ms/step - loss: 8.4893e-05 - accuracy: 1.0000 - val_loss: 0.0015 - val_accuracy: 1.0000\n",
      "Epoch 26/100\n",
      "8/8 [==============================] - 0s 2ms/step - loss: 5.7465e-05 - accuracy: 1.0000 - val_loss: 0.0013 - val_accuracy: 1.0000\n",
      "Epoch 27/100\n",
      "8/8 [==============================] - 0s 2ms/step - loss: 3.6961e-05 - accuracy: 1.0000 - val_loss: 8.7005e-04 - val_accuracy: 1.0000\n",
      "Epoch 28/100\n",
      "8/8 [==============================] - 0s 2ms/step - loss: 2.7077e-05 - accuracy: 1.0000 - val_loss: 6.6264e-04 - val_accuracy: 1.0000\n",
      "Epoch 29/100\n",
      "8/8 [==============================] - 0s 2ms/step - loss: 2.0333e-05 - accuracy: 1.0000 - val_loss: 5.9707e-04 - val_accuracy: 1.0000\n",
      "Epoch 30/100\n",
      "8/8 [==============================] - 0s 2ms/step - loss: 1.6466e-05 - accuracy: 1.0000 - val_loss: 5.0431e-04 - val_accuracy: 1.0000\n",
      "Epoch 31/100\n",
      "8/8 [==============================] - 0s 2ms/step - loss: 1.4417e-05 - accuracy: 1.0000 - val_loss: 4.2022e-04 - val_accuracy: 1.0000\n",
      "Epoch 32/100\n",
      "8/8 [==============================] - 0s 2ms/step - loss: 1.3051e-05 - accuracy: 1.0000 - val_loss: 3.5123e-04 - val_accuracy: 1.0000\n",
      "Epoch 33/100\n",
      "8/8 [==============================] - 0s 2ms/step - loss: 1.1570e-05 - accuracy: 1.0000 - val_loss: 2.9890e-04 - val_accuracy: 1.0000\n",
      "Epoch 34/100\n",
      "8/8 [==============================] - 0s 2ms/step - loss: 1.0769e-05 - accuracy: 1.0000 - val_loss: 2.7627e-04 - val_accuracy: 1.0000\n",
      "Epoch 35/100\n",
      "8/8 [==============================] - 0s 2ms/step - loss: 9.8824e-06 - accuracy: 1.0000 - val_loss: 2.5374e-04 - val_accuracy: 1.0000\n",
      "Epoch 36/100\n",
      "8/8 [==============================] - 0s 2ms/step - loss: 9.2036e-06 - accuracy: 1.0000 - val_loss: 2.2160e-04 - val_accuracy: 1.0000\n",
      "Epoch 37/100\n",
      "8/8 [==============================] - 0s 2ms/step - loss: 8.6096e-06 - accuracy: 1.0000 - val_loss: 2.0868e-04 - val_accuracy: 1.0000\n",
      "Epoch 38/100\n",
      "8/8 [==============================] - 0s 2ms/step - loss: 8.1427e-06 - accuracy: 1.0000 - val_loss: 2.4048e-04 - val_accuracy: 1.0000\n",
      "Epoch 39/100\n",
      "8/8 [==============================] - 0s 2ms/step - loss: 7.6449e-06 - accuracy: 1.0000 - val_loss: 2.3421e-04 - val_accuracy: 1.0000\n",
      "Epoch 40/100\n",
      "8/8 [==============================] - 0s 2ms/step - loss: 7.1279e-06 - accuracy: 1.0000 - val_loss: 2.2272e-04 - val_accuracy: 1.0000\n",
      "Epoch 41/100\n",
      "8/8 [==============================] - 0s 2ms/step - loss: 6.8066e-06 - accuracy: 1.0000 - val_loss: 2.0502e-04 - val_accuracy: 1.0000\n",
      "Epoch 42/100\n",
      "8/8 [==============================] - 0s 3ms/step - loss: 6.3774e-06 - accuracy: 1.0000 - val_loss: 1.8289e-04 - val_accuracy: 1.0000\n",
      "Epoch 43/100\n",
      "8/8 [==============================] - 0s 2ms/step - loss: 5.9993e-06 - accuracy: 1.0000 - val_loss: 1.6311e-04 - val_accuracy: 1.0000\n",
      "Epoch 44/100\n",
      "8/8 [==============================] - 0s 2ms/step - loss: 5.7207e-06 - accuracy: 1.0000 - val_loss: 1.5092e-04 - val_accuracy: 1.0000\n",
      "Epoch 45/100\n",
      "8/8 [==============================] - 0s 2ms/step - loss: 5.3979e-06 - accuracy: 1.0000 - val_loss: 1.4061e-04 - val_accuracy: 1.0000\n",
      "Epoch 46/100\n",
      "8/8 [==============================] - 0s 2ms/step - loss: 5.1056e-06 - accuracy: 1.0000 - val_loss: 1.3146e-04 - val_accuracy: 1.0000\n",
      "Epoch 47/100\n",
      "8/8 [==============================] - 0s 2ms/step - loss: 4.8932e-06 - accuracy: 1.0000 - val_loss: 1.2479e-04 - val_accuracy: 1.0000\n",
      "Epoch 48/100\n",
      "8/8 [==============================] - 0s 2ms/step - loss: 4.6572e-06 - accuracy: 1.0000 - val_loss: 1.2031e-04 - val_accuracy: 1.0000\n",
      "Epoch 49/100\n",
      "8/8 [==============================] - 0s 2ms/step - loss: 4.4659e-06 - accuracy: 1.0000 - val_loss: 1.1599e-04 - val_accuracy: 1.0000\n",
      "Epoch 50/100\n",
      "8/8 [==============================] - 0s 2ms/step - loss: 4.2452e-06 - accuracy: 1.0000 - val_loss: 1.1092e-04 - val_accuracy: 1.0000\n",
      "Epoch 51/100\n",
      "8/8 [==============================] - 0s 2ms/step - loss: 4.0711e-06 - accuracy: 1.0000 - val_loss: 1.0748e-04 - val_accuracy: 1.0000\n",
      "Epoch 52/100\n",
      "8/8 [==============================] - 0s 2ms/step - loss: 3.9185e-06 - accuracy: 1.0000 - val_loss: 1.0608e-04 - val_accuracy: 1.0000\n",
      "Epoch 53/100\n",
      "8/8 [==============================] - 0s 2ms/step - loss: 3.7817e-06 - accuracy: 1.0000 - val_loss: 1.0729e-04 - val_accuracy: 1.0000\n",
      "Epoch 54/100\n",
      "8/8 [==============================] - 0s 2ms/step - loss: 3.6487e-06 - accuracy: 1.0000 - val_loss: 1.0734e-04 - val_accuracy: 1.0000\n",
      "Epoch 55/100\n",
      "8/8 [==============================] - 0s 2ms/step - loss: 3.4873e-06 - accuracy: 1.0000 - val_loss: 1.0462e-04 - val_accuracy: 1.0000\n",
      "Epoch 56/100\n",
      "8/8 [==============================] - 0s 2ms/step - loss: 3.3814e-06 - accuracy: 1.0000 - val_loss: 1.0187e-04 - val_accuracy: 1.0000\n",
      "Epoch 57/100\n",
      "8/8 [==============================] - 0s 2ms/step - loss: 3.2529e-06 - accuracy: 1.0000 - val_loss: 9.8970e-05 - val_accuracy: 1.0000\n",
      "Epoch 58/100\n",
      "8/8 [==============================] - 0s 2ms/step - loss: 3.1646e-06 - accuracy: 1.0000 - val_loss: 9.7036e-05 - val_accuracy: 1.0000\n",
      "Epoch 59/100\n",
      "8/8 [==============================] - 0s 2ms/step - loss: 3.0537e-06 - accuracy: 1.0000 - val_loss: 9.3549e-05 - val_accuracy: 1.0000\n",
      "Epoch 60/100\n",
      "8/8 [==============================] - 0s 2ms/step - loss: 2.9590e-06 - accuracy: 1.0000 - val_loss: 9.2454e-05 - val_accuracy: 1.0000\n",
      "Epoch 61/100\n",
      "8/8 [==============================] - 0s 2ms/step - loss: 2.8575e-06 - accuracy: 1.0000 - val_loss: 9.3292e-05 - val_accuracy: 1.0000\n",
      "Epoch 62/100\n",
      "8/8 [==============================] - 0s 3ms/step - loss: 2.7672e-06 - accuracy: 1.0000 - val_loss: 9.0109e-05 - val_accuracy: 1.0000\n",
      "Epoch 63/100\n",
      "8/8 [==============================] - 0s 3ms/step - loss: 2.6956e-06 - accuracy: 1.0000 - val_loss: 8.8040e-05 - val_accuracy: 1.0000\n",
      "Epoch 64/100\n",
      "8/8 [==============================] - 0s 2ms/step - loss: 2.6049e-06 - accuracy: 1.0000 - val_loss: 8.5470e-05 - val_accuracy: 1.0000\n",
      "Epoch 65/100\n",
      "8/8 [==============================] - 0s 2ms/step - loss: 2.5332e-06 - accuracy: 1.0000 - val_loss: 8.2834e-05 - val_accuracy: 1.0000\n",
      "Epoch 66/100\n",
      "8/8 [==============================] - 0s 2ms/step - loss: 2.4553e-06 - accuracy: 1.0000 - val_loss: 8.1974e-05 - val_accuracy: 1.0000\n",
      "Epoch 67/100\n",
      "8/8 [==============================] - 0s 2ms/step - loss: 2.3890e-06 - accuracy: 1.0000 - val_loss: 8.4158e-05 - val_accuracy: 1.0000\n",
      "Epoch 68/100\n",
      "8/8 [==============================] - 0s 2ms/step - loss: 2.3257e-06 - accuracy: 1.0000 - val_loss: 8.4275e-05 - val_accuracy: 1.0000\n",
      "Epoch 69/100\n",
      "8/8 [==============================] - 0s 2ms/step - loss: 2.2669e-06 - accuracy: 1.0000 - val_loss: 8.2182e-05 - val_accuracy: 1.0000\n",
      "Epoch 70/100\n",
      "8/8 [==============================] - 0s 2ms/step - loss: 2.1997e-06 - accuracy: 1.0000 - val_loss: 8.0485e-05 - val_accuracy: 1.0000\n",
      "Epoch 71/100\n",
      "8/8 [==============================] - 0s 2ms/step - loss: 2.1457e-06 - accuracy: 1.0000 - val_loss: 7.8312e-05 - val_accuracy: 1.0000\n",
      "Epoch 72/100\n",
      "8/8 [==============================] - 0s 2ms/step - loss: 2.0824e-06 - accuracy: 1.0000 - val_loss: 7.5294e-05 - val_accuracy: 1.0000\n",
      "Epoch 73/100\n",
      "8/8 [==============================] - 0s 2ms/step - loss: 2.0334e-06 - accuracy: 1.0000 - val_loss: 7.3139e-05 - val_accuracy: 1.0000\n",
      "Epoch 74/100\n",
      "8/8 [==============================] - 0s 2ms/step - loss: 1.9760e-06 - accuracy: 1.0000 - val_loss: 7.1344e-05 - val_accuracy: 1.0000\n",
      "Epoch 75/100\n",
      "8/8 [==============================] - 0s 2ms/step - loss: 1.9328e-06 - accuracy: 1.0000 - val_loss: 7.0634e-05 - val_accuracy: 1.0000\n",
      "Epoch 76/100\n",
      "8/8 [==============================] - 0s 2ms/step - loss: 1.8833e-06 - accuracy: 1.0000 - val_loss: 7.0484e-05 - val_accuracy: 1.0000\n",
      "Epoch 77/100\n",
      "8/8 [==============================] - 0s 2ms/step - loss: 1.8372e-06 - accuracy: 1.0000 - val_loss: 6.9298e-05 - val_accuracy: 1.0000\n",
      "Epoch 78/100\n",
      "8/8 [==============================] - 0s 2ms/step - loss: 1.7886e-06 - accuracy: 1.0000 - val_loss: 6.7519e-05 - val_accuracy: 1.0000\n",
      "Epoch 79/100\n",
      "8/8 [==============================] - 0s 2ms/step - loss: 1.7503e-06 - accuracy: 1.0000 - val_loss: 6.5729e-05 - val_accuracy: 1.0000\n",
      "Epoch 80/100\n",
      "8/8 [==============================] - 0s 2ms/step - loss: 1.7077e-06 - accuracy: 1.0000 - val_loss: 6.4549e-05 - val_accuracy: 1.0000\n",
      "Epoch 81/100\n",
      "8/8 [==============================] - 0s 2ms/step - loss: 1.6699e-06 - accuracy: 1.0000 - val_loss: 6.4861e-05 - val_accuracy: 1.0000\n",
      "Epoch 82/100\n",
      "8/8 [==============================] - 0s 2ms/step - loss: 1.6267e-06 - accuracy: 1.0000 - val_loss: 6.3743e-05 - val_accuracy: 1.0000\n",
      "Epoch 83/100\n",
      "8/8 [==============================] - 0s 2ms/step - loss: 1.5880e-06 - accuracy: 1.0000 - val_loss: 6.2506e-05 - val_accuracy: 1.0000\n",
      "Epoch 84/100\n",
      "8/8 [==============================] - 0s 2ms/step - loss: 1.5541e-06 - accuracy: 1.0000 - val_loss: 6.1162e-05 - val_accuracy: 1.0000\n",
      "Epoch 85/100\n",
      "8/8 [==============================] - 0s 2ms/step - loss: 1.5105e-06 - accuracy: 1.0000 - val_loss: 6.0958e-05 - val_accuracy: 1.0000\n",
      "Epoch 86/100\n",
      "8/8 [==============================] - 0s 2ms/step - loss: 1.4732e-06 - accuracy: 1.0000 - val_loss: 6.0272e-05 - val_accuracy: 1.0000\n",
      "Epoch 87/100\n",
      "8/8 [==============================] - 0s 2ms/step - loss: 1.4452e-06 - accuracy: 1.0000 - val_loss: 5.9511e-05 - val_accuracy: 1.0000\n",
      "Epoch 88/100\n",
      "8/8 [==============================] - 0s 2ms/step - loss: 1.4094e-06 - accuracy: 1.0000 - val_loss: 5.8041e-05 - val_accuracy: 1.0000\n",
      "Epoch 89/100\n",
      "8/8 [==============================] - 0s 2ms/step - loss: 1.3770e-06 - accuracy: 1.0000 - val_loss: 5.8034e-05 - val_accuracy: 1.0000\n",
      "Epoch 90/100\n",
      "8/8 [==============================] - 0s 2ms/step - loss: 1.3515e-06 - accuracy: 1.0000 - val_loss: 5.7311e-05 - val_accuracy: 1.0000\n",
      "Epoch 91/100\n",
      "8/8 [==============================] - 0s 2ms/step - loss: 1.3211e-06 - accuracy: 1.0000 - val_loss: 5.6235e-05 - val_accuracy: 1.0000\n",
      "Epoch 92/100\n",
      "8/8 [==============================] - 0s 2ms/step - loss: 1.2951e-06 - accuracy: 1.0000 - val_loss: 5.5326e-05 - val_accuracy: 1.0000\n",
      "Epoch 93/100\n",
      "8/8 [==============================] - 0s 2ms/step - loss: 1.2681e-06 - accuracy: 1.0000 - val_loss: 5.5113e-05 - val_accuracy: 1.0000\n",
      "Epoch 94/100\n",
      "8/8 [==============================] - 0s 2ms/step - loss: 1.2436e-06 - accuracy: 1.0000 - val_loss: 5.4063e-05 - val_accuracy: 1.0000\n",
      "Epoch 95/100\n",
      "8/8 [==============================] - 0s 2ms/step - loss: 1.2235e-06 - accuracy: 1.0000 - val_loss: 5.2979e-05 - val_accuracy: 1.0000\n",
      "Epoch 96/100\n",
      "8/8 [==============================] - 0s 2ms/step - loss: 1.1960e-06 - accuracy: 1.0000 - val_loss: 5.2556e-05 - val_accuracy: 1.0000\n",
      "Epoch 97/100\n",
      "8/8 [==============================] - 0s 2ms/step - loss: 1.1759e-06 - accuracy: 1.0000 - val_loss: 5.2079e-05 - val_accuracy: 1.0000\n",
      "Epoch 98/100\n",
      "8/8 [==============================] - 0s 2ms/step - loss: 1.1479e-06 - accuracy: 1.0000 - val_loss: 5.1812e-05 - val_accuracy: 1.0000\n",
      "Epoch 99/100\n",
      "8/8 [==============================] - 0s 2ms/step - loss: 1.1317e-06 - accuracy: 1.0000 - val_loss: 5.2328e-05 - val_accuracy: 1.0000\n",
      "Epoch 100/100\n",
      "8/8 [==============================] - 0s 2ms/step - loss: 1.1057e-06 - accuracy: 1.0000 - val_loss: 5.1560e-05 - val_accuracy: 1.0000\n"
     ]
    }
   ],
   "source": [
    "# 모델 학습\n",
    "\n",
    "history = model.fit(resampled_X, resampled_Y, epochs=100, batch_size=32, validation_split=0.25)"
   ]
  },
  {
   "cell_type": "code",
   "execution_count": 17,
   "metadata": {},
   "outputs": [
    {
     "data": {
      "image/png": "[encoded data removed]",
      "text/plain": [
       "<Figure size 864x288 with 2 Axes>"
      ]
     },
     "metadata": {
      "needs_background": "light"
     },
     "output_type": "display_data"
    }
   ],
   "source": [
    "# 분류 모델의 학습 결과 시각화\n",
    "import matplotlib.pyplot as plt\n",
    "plt.figure(figsize=(12,4))\n",
    "\n",
    "plt.subplot(1,2,1)\n",
    "plt.plot(history.history['loss'], 'b-', label='loss')\n",
    "plt.plot(history.history['val_loss'], 'r--', label='val_loss')\n",
    "plt.xlabel('Epoch')\n",
    "plt.legend()\n",
    "\n",
    "plt.subplot(1,2,2)\n",
    "plt.plot(history.history['accuracy'], 'g-', label='accuracy')\n",
    "plt.plot(history.history['val_accuracy'], 'k--', label='val_accuracy')\n",
    "plt.xlabel('Epoch')\n",
    "plt.ylim(0.7, 1)\n",
    "plt.legend()\n",
    "\n",
    "plt.show()"
   ]
  },
  {
   "cell_type": "code",
   "execution_count": 18,
   "metadata": {},
   "outputs": [
    {
     "name": "stdout",
     "output_type": "stream",
     "text": [
      "2/2 [==============================] - 0s 998us/step - loss: 0.8953 - accuracy: 0.8409\n"
     ]
    },
    {
     "data": {
      "text/plain": [
       "[0.8952855467796326, 0.8409090638160706]"
      ]
     },
     "execution_count": 18,
     "metadata": {},
     "output_type": "execute_result"
    }
   ],
   "source": [
    "# 분류 모델 평가\n",
    "\n",
    "model.evaluate(test_X, test_Y)"
   ]
  },
  {
   "cell_type": "code",
   "execution_count": 19,
   "metadata": {},
   "outputs": [],
   "source": [
    "pred = model.predict(test_X)"
   ]
  },
  {
   "cell_type": "code",
   "execution_count": 34,
   "metadata": {},
   "outputs": [],
   "source": [
    "import numpy as np\n",
    "Pred = np.argmax(pred, axis=1)"
   ]
  },
  {
   "cell_type": "code",
   "execution_count": 30,
   "metadata": {},
   "outputs": [],
   "source": [
    "Test_Y= np.argmax(test_Y, axis=1)"
   ]
  },
  {
   "cell_type": "code",
   "execution_count": 36,
   "metadata": {},
   "outputs": [
    {
     "data": {
      "text/plain": [
       "array([1, 1, 1, 0, 1, 1, 0, 1, 1, 1, 1, 1, 1, 1, 1, 1, 1, 1, 1, 1, 1, 1,\n",
       "       1, 1, 1, 0, 1, 1, 1, 1, 1, 1, 1, 1, 1, 0, 1, 1, 1, 1, 0, 1, 1, 1],\n",
       "      dtype=int64)"
      ]
     },
     "execution_count": 36,
     "metadata": {},
     "output_type": "execute_result"
    }
   ],
   "source": [
    "Pred"
   ]
  },
  {
   "cell_type": "code",
   "execution_count": 37,
   "metadata": {},
   "outputs": [
    {
     "data": {
      "text/plain": [
       "array([1, 1, 1, 1, 1, 0, 1, 1, 1, 1, 1, 1, 1, 1, 1, 1, 1, 1, 1, 1, 1, 1,\n",
       "       1, 1, 1, 0, 1, 1, 1, 1, 1, 1, 0, 1, 1, 1, 0, 1, 1, 1, 1, 1, 1, 1],\n",
       "      dtype=int64)"
      ]
     },
     "execution_count": 37,
     "metadata": {},
     "output_type": "execute_result"
    }
   ],
   "source": [
    "Test_Y"
   ]
  },
  {
   "cell_type": "code",
   "execution_count": 35,
   "metadata": {},
   "outputs": [
    {
     "name": "stdout",
     "output_type": "stream",
     "text": [
      "정확도: 0.841\n",
      "정밀도: 0.923\n",
      "재현율: 0.900\n",
      "F1: 0.911\n"
     ]
    }
   ],
   "source": [
    "#print('잘못 분류된 샘플 개수: %d' % (y_test != y_pred).sum())\n",
    "print('정확도: %.3f' % accuracy_score(Test_Y, Pred))\n",
    "print('정밀도: %.3f' % precision_score(y_true=Test_Y, y_pred=Pred))\n",
    "print('재현율: %.3f' % recall_score(y_true=Test_Y, y_pred=Pred))\n",
    "print('F1: %.3f' % f1_score(y_true=Test_Y, y_pred=Pred))"
   ]
  },
  {
   "cell_type": "code",
   "execution_count": null,
   "metadata": {},
   "outputs": [],
   "source": []
  }
 ],
 "metadata": {
  "kernelspec": {
   "display_name": "new",
   "language": "python",
   "name": "new"
  },
  "language_info": {
   "codemirror_mode": {
    "name": "ipython",
    "version": 3
   },
   "file_extension": ".py",
   "mimetype": "text/x-python",
   "name": "python",
   "nbconvert_exporter": "python",
   "pygments_lexer": "ipython3",
   "version": "3.8.5"
  }
 },
 "nbformat": 4,
 "nbformat_minor": 4
}
